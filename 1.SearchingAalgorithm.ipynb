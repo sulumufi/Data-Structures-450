{
 "cells": [
  {
   "cell_type": "markdown",
   "metadata": {},
   "source": [
    "#### Linear search "
   ]
  },
  {
   "cell_type": "code",
   "execution_count": 6,
   "metadata": {},
   "outputs": [
    {
     "name": "stdout",
     "output_type": "stream",
     "text": [
      "Not Found\n"
     ]
    }
   ],
   "source": [
    "a=[1,2,3,4,5]\n",
    "\n",
    "n = len(a)\n",
    "ele = 23\n",
    "flag =0\n",
    "\n",
    "for i in range(n):\n",
    "    if(a[i]==ele):\n",
    "        flag=1\n",
    "\n",
    "if(flag==1):\n",
    "    print(\"Found\")\n",
    "else:\n",
    "    print(\"Not Found\")"
   ]
  },
  {
   "cell_type": "code",
   "execution_count": 5,
   "metadata": {},
   "outputs": [
    {
     "name": "stdout",
     "output_type": "stream",
     "text": [
      "mid: 4\n",
      "b[mid]: 5\n",
      "im in elif 1\n",
      "mid: 6\n",
      "b[mid]: 7\n",
      "im in elif 1\n",
      "mid: 7\n",
      "b[mid]: 8\n",
      "element found\n"
     ]
    }
   ],
   "source": [
    "flag= 0\n",
    "ele = 8\n",
    "\n",
    "def binsearch(start,end,b):\n",
    "    if(start>=end):\n",
    "        print(\"element not found\")\n",
    "        return\n",
    "    \n",
    "    mid= int((start+end)/2)\n",
    "    if b[mid] == ele:\n",
    "        print(\"element found\")\n",
    "        return\n",
    "    elif(b[mid]<ele):\n",
    "        print(\"im in elif 1\")\n",
    "        binsearch(mid+1,end,b)\n",
    "    else:\n",
    "        print(\"im in else\")\n",
    "        binsearch(start,mid,b)\n",
    "            \n",
    "b=[1,2,3,4,5,6,7,8]\n",
    "\n",
    "n = len(b)\n",
    "binsearch(0,n,b)\n"
   ]
  },
  {
   "cell_type": "code",
   "execution_count": 9,
   "metadata": {},
   "outputs": [
    {
     "name": "stdout",
     "output_type": "stream",
     "text": [
      "\n",
      "it is found at locatioin 10 and the value is  130\n"
     ]
    }
   ],
   "source": [
    "def minimum(x,y):\n",
    "    if(x<=y):\n",
    "        return x\n",
    "    else:\n",
    "        return y\n",
    "\n",
    "    \n",
    "    \n",
    "def fibonacci(arr,n,srch):\n",
    "    fib2=0\n",
    "    fib1=1\n",
    "    fibM=fib2+fib1\n",
    "    offset=-1\n",
    "    \n",
    "    while(fibM<n):\n",
    "        fib2=fib1\n",
    "        fib1=fibM\n",
    "        fibM=fib2+fibM\n",
    "        \n",
    "    while(fibM>1):\n",
    "        i = minimum(offset+fib2,n-1)\n",
    "        \n",
    "        if(arr[i]<srch):\n",
    "            fibM=fib1\n",
    "            fib1=fib2\n",
    "            fib2=fibM-fib1\n",
    "            offset=i\n",
    "            \n",
    "        elif(arr[i]>srch):\n",
    "            fibM=fib2\n",
    "            fib1=fib1-fib2\n",
    "            fib2=fibM-fib1\n",
    "            \n",
    "        else:\n",
    "            return i\n",
    "    \n",
    "    if(fib1 and arr[offset-1]==x):\n",
    "        return offset+1\n",
    "    \n",
    "    return -1\n",
    "\n",
    "arr=[10,22,30,44,56,58,60,70,100,110,130]\n",
    "n = len(arr)   \n",
    "x=130\n",
    "index=fibonacci(arr,n,x)\n",
    "if(index==-1):\n",
    "    print(\"\\nnot found\")\n",
    "else:\n",
    "    print(\"\\nit is found at locatioin\",index,\"and the value is \",arr[index])"
   ]
  },
  {
   "cell_type": "code",
   "execution_count": null,
   "metadata": {},
   "outputs": [],
   "source": []
  }
 ],
 "metadata": {
  "kernelspec": {
   "display_name": "Python 3",
   "language": "python",
   "name": "python3"
  },
  "language_info": {
   "codemirror_mode": {
    "name": "ipython",
    "version": 3
   },
   "file_extension": ".py",
   "mimetype": "text/x-python",
   "name": "python",
   "nbconvert_exporter": "python",
   "pygments_lexer": "ipython3",
   "version": "3.7.1"
  }
 },
 "nbformat": 4,
 "nbformat_minor": 2
}
