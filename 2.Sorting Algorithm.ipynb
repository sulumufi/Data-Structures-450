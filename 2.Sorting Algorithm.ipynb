{
 "cells": [
  {
   "cell_type": "markdown",
   "metadata": {},
   "source": [
    "Bubble sort"
   ]
  },
  {
   "cell_type": "code",
   "execution_count": 1,
   "metadata": {
    "scrolled": false
   },
   "outputs": [
    {
     "name": "stdout",
     "output_type": "stream",
     "text": [
      "[1, 1, 2, 2, 3, 3, 4, 5, 5, 5, 5, 6, 6, 6, 7, 7]\n"
     ]
    }
   ],
   "source": [
    "#Bubble sort\n",
    "a=[3,2,4,5,6,1,3,2,1,5,6,7,5,5,6,7]\n",
    "\n",
    "for i in range(len(a)):\n",
    "    flag=0\n",
    "    for j in range(0,len(a)-i-1):\n",
    "        if a[j]>a[j+1]:\n",
    "            flag=1\n",
    "            a[j],a[j+1]=a[j+1],a[j]\n",
    "    if(flag==0):\n",
    "        break\n",
    "\n",
    "            \n",
    "print(a)\n",
    "\n"
   ]
  },
  {
   "cell_type": "markdown",
   "metadata": {},
   "source": [
    "Selection Sort"
   ]
  },
  {
   "cell_type": "code",
   "execution_count": 31,
   "metadata": {},
   "outputs": [
    {
     "name": "stdout",
     "output_type": "stream",
     "text": [
      "[1, 1, 2, 2, 3, 3, 4, 5, 5, 5, 5, 6, 6, 6, 7, 7]\n"
     ]
    }
   ],
   "source": [
    "#Selection Sort\n",
    "a=[3,2,4,5,6,1,3,2,1,5,6,7,5,5,6,7] \n",
    "\n",
    "for i in range(len(a)-1):\n",
    "    for j in range(i+1,len(a)):\n",
    "        min=i\n",
    "        if(a[j]<a[min]):\n",
    "            min = j\n",
    "        if(min!=i):\n",
    "            a[i],a[min]=a[min],a[i]\n",
    "        \n",
    "\n",
    "print(a)                                                                                                                        "
   ]
  },
  {
   "cell_type": "markdown",
   "metadata": {},
   "source": [
    "Insertion Sort"
   ]
  },
  {
   "cell_type": "code",
   "execution_count": 14,
   "metadata": {
    "scrolled": true
   },
   "outputs": [
    {
     "name": "stdout",
     "output_type": "stream",
     "text": [
      "[1, 1, 2, 2, 3, 3, 4, 5, 5, 5, 5, 6, 6, 6, 7, 7]\n"
     ]
    }
   ],
   "source": [
    "#Insertion Sort\n",
    "\n",
    "a=[3,2,4,5,6,1,3,2,1,5,6,7,5,5,6,7] \n",
    "for i in range(1,len(a)):\n",
    "    temp = a[i]\n",
    "    j = i-1\n",
    "    while j>=0 and a[j]>temp:\n",
    "        a[j+1]=a[j]\n",
    "        j=j-1\n",
    "    \n",
    "    a[j+1]=temp\n",
    "    \n",
    "print(a)\n",
    "\n"
   ]
  },
  {
   "cell_type": "code",
   "execution_count": 22,
   "metadata": {},
   "outputs": [
    {
     "name": "stdout",
     "output_type": "stream",
     "text": [
      "[1, 2, 3, 4, 5, 6]\n"
     ]
    }
   ],
   "source": [
    "#selection sort\n",
    "\n",
    "a=[1,3,4,2,6,5]\n",
    "\n",
    "for i in range(len(a)):\n",
    "    temp=a[i]\n",
    "    j=i-1\n",
    "    \n",
    "    while(j>=0 and a[j]>temp):\n",
    "        a[j+1]=a[j]\n",
    "        j=j-1\n",
    "    a[j+1]=temp\n",
    "    \n",
    "print(a)"
   ]
  },
  {
   "cell_type": "code",
   "execution_count": null,
   "metadata": {},
   "outputs": [],
   "source": []
  }
 ],
 "metadata": {
  "kernelspec": {
   "display_name": "Python 3",
   "language": "python",
   "name": "python3"
  },
  "language_info": {
   "codemirror_mode": {
    "name": "ipython",
    "version": 3
   },
   "file_extension": ".py",
   "mimetype": "text/x-python",
   "name": "python",
   "nbconvert_exporter": "python",
   "pygments_lexer": "ipython3",
   "version": "3.7.1"
  }
 },
 "nbformat": 4,
 "nbformat_minor": 2
}
