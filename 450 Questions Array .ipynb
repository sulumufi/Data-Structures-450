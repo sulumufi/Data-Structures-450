{
 "cells": [
  {
   "cell_type": "markdown",
   "metadata": {
    "id": "0JNyylBJm3Zt"
   },
   "source": [
    "#### Reverse the String (self)"
   ]
  },
  {
   "cell_type": "code",
   "execution_count": null,
   "metadata": {
    "id": "A5_Zhjd_m3Zv"
   },
   "outputs": [],
   "source": [
    "a=[1,2,3,4,5,6,7,8,9,10,11]\n",
    "N = len(a)-1\n",
    "\n",
    "for i in range(0,int(N/2)+1):\n",
    "    temp = a[i]\n",
    "    a[i] = a[N-i]\n",
    "    a[N-i]  = temp\n",
    "\n",
    "\n",
    "print(a)\n",
    "\n"
   ]
  },
  {
   "cell_type": "markdown",
   "metadata": {
    "id": "RbhQTImOm3Zx"
   },
   "source": [
    "#### Reverse the String (GFG)"
   ]
  },
  {
   "cell_type": "code",
   "execution_count": null,
   "metadata": {
    "id": "3u2f2tzpm3Zy"
   },
   "outputs": [],
   "source": [
    "a=[1,2,3,4,5,6,7,8,9,10,11]\n",
    "\n",
    "i=0\n",
    "j=len(a)-1\n",
    "def rev(a,i,j):\n",
    "    while i<j:\n",
    "        temp = a[i]\n",
    "        a[i] = a[j]\n",
    "        a[j] = temp\n",
    "        i = i+1\n",
    "        j = j-1\n",
    "    return a\n",
    "\n",
    "print(rev(a,i,j))\n"
   ]
  },
  {
   "cell_type": "markdown",
   "metadata": {
    "id": "7pZaY9wYm3Zz"
   },
   "source": [
    "#### Find the middle Element (Self)"
   ]
  },
  {
   "cell_type": "code",
   "execution_count": null,
   "metadata": {
    "id": "94lWCOivm3Z0"
   },
   "outputs": [],
   "source": [
    "def middle(A,B,C):\n",
    "        if(A>B and A>C):\n",
    "            if B > C:\n",
    "                return B\n",
    "            else :\n",
    "                return C\n",
    "        elif (A<B and A<C):\n",
    "            if B < C :\n",
    "                return B\n",
    "            else:\n",
    "                return C\n",
    "        else:\n",
    "            return A\n",
    "\n",
    "middle(8,6,1)\n"
   ]
  },
  {
   "cell_type": "markdown",
   "metadata": {
    "id": "kWUt4bLfm3Z1"
   },
   "source": [
    "#### Minimum and Maximum element (Simple Linear search)  - O(N):  worst- 1+2(n-2) , Best 1+n-2"
   ]
  },
  {
   "cell_type": "code",
   "execution_count": null,
   "metadata": {
    "id": "WDkyVII1m3Z2"
   },
   "outputs": [],
   "source": [
    "a = [11, 10, 9, 6010, 7, 600, 4, 3, 2 ]\n",
    "\n",
    "maxval = 0\n",
    "minval = 0\n",
    "\n",
    "if(a[0]<a[1]):\n",
    "    minval = a[0]\n",
    "    maxval = a[1]\n",
    "else:\n",
    "    minval = a[1]\n",
    "    maxval = a[0]\n",
    "\n",
    "\n",
    "\n",
    "for i in range(2,len(a)):\n",
    "    if a[i]<minval:\n",
    "        minval = a[i]\n",
    "    elif a[i]>maxval:\n",
    "        maxval = a[i]\n",
    "\n",
    "print(minval,maxval)"
   ]
  },
  {
   "cell_type": "markdown",
   "metadata": {
    "id": "pULo3LVzm3Z3"
   },
   "source": [
    "#### Minimum and Maximum (Simple Linear Search) [Short]  -  More Time Complexity"
   ]
  },
  {
   "cell_type": "code",
   "execution_count": null,
   "metadata": {
    "id": "QpDLFQqMm3Z4"
   },
   "outputs": [],
   "source": [
    "a = [11, 10, 9, 6010, 7, 600, 4, 3, 2 ]\n",
    "\n",
    "maxval = a[0]\n",
    "minval = a[0]\n",
    "\n",
    "for i in range(1,len(a)):\n",
    "    if a[i]<minval:\n",
    "        minval = a[i]\n",
    "    if a[i]>maxval:\n",
    "        maxval = a[i]\n",
    "\n",
    "print(minval,maxval)"
   ]
  },
  {
   "cell_type": "markdown",
   "metadata": {
    "id": "0w39Q0Yhm3Z5"
   },
   "source": [
    "#### Minimum and maximium (Tournament - Divide and conquer)"
   ]
  },
  {
   "cell_type": "code",
   "execution_count": null,
   "metadata": {
    "id": "QkIdAFbXm3Z5"
   },
   "outputs": [],
   "source": [
    "def getMinMax(low,high,a):\n",
    "    minVal = a[low]\n",
    "    maxVal = a[high]\n",
    "\n",
    "    if (low == high):\n",
    "        minVal = a[low]\n",
    "        maxVal = a[high]\n",
    "        return(minVal,maxVal)\n",
    "    elif(low+1 == high):\n",
    "        if(a[low]>a[high]):\n",
    "            minVal = a[high]\n",
    "            maxVal = a[low]\n",
    "            return(minVal,maxVal)\n",
    "        else:\n",
    "            minVal= a[low]\n",
    "            maxVal = a[high]\n",
    "            return(minVal,maxVal)\n",
    "    else:\n",
    "        mid = int((low+high)/2)\n",
    "        min1,max1 = getMinMax(low,mid,a)\n",
    "        min2,max2 = getMinMax(mid+1,high,a)\n",
    "        return(min(min1,min2),max(max1,max2))\n",
    "\n",
    "\n",
    "a = [8,10,16,24,0,6,13,25]\n",
    "low = 0\n",
    "high = len(a)-1\n",
    "minVal,maxVal = getMinMax(low,high,a)\n",
    "print(\"Minimum value is\",minVal,\"Maximum value is\",maxVal)\n"
   ]
  },
  {
   "cell_type": "markdown",
   "metadata": {
    "id": "Cnrt6whfm3Z6"
   },
   "source": [
    "#### Minimum and Maximum (Comparison in Pairs)"
   ]
  },
  {
   "cell_type": "code",
   "execution_count": null,
   "metadata": {
    "id": "uRYBvsyVm3Z6"
   },
   "outputs": [],
   "source": [
    "def getMinMax(a):\n",
    "    start = 0\n",
    "    n = len(a)\n",
    "    if(n%2==0):\n",
    "        minVal = min(a[0],a[1])\n",
    "        maxVal = max(a[0],a[1])\n",
    "        start = 2\n",
    "    else:\n",
    "        minVal = a[0]\n",
    "        maxVal = a[0]\n",
    "\n",
    "    for i in range(start,n-1,2):\n",
    "        if(a[i]<a[i+1]):\n",
    "            minVal = min(minVal,a[i])\n",
    "            maxVal = max(maxVal,a[i+1])\n",
    "        else:\n",
    "            minVal = min(minVal,a[i+1])\n",
    "            maxVal = max(maxVal,a[i])\n",
    "\n",
    "    return (minVal,maxVal)\n",
    "\n",
    "\n",
    "a = [8,10,16,24,0,6,13,25]\n",
    "\n",
    "minVal,maxVal = getMinMax(a)\n",
    "\n",
    "print(\"Minimum value=\",minVal,\"Maximum value=\",maxVal)\n"
   ]
  },
  {
   "cell_type": "markdown",
   "metadata": {
    "id": "6QbM-Tmfm3Z7"
   },
   "source": [
    "#### Quick Sort"
   ]
  },
  {
   "cell_type": "code",
   "execution_count": null,
   "metadata": {
    "id": "nB_q5B28m3Z7",
    "scrolled": false
   },
   "outputs": [],
   "source": [
    "def quicksort(low,high,a):\n",
    "    if  low < high :\n",
    "        p = partition(low,high,a)\n",
    "        quicksort(low,p-1,a)\n",
    "        quicksort(p+1,high,a)\n",
    "        a\n",
    "\n",
    "\n",
    "def partition(low,high,a):\n",
    "    pivot = a[high]\n",
    "    print(pivot)\n",
    "    i = low-1\n",
    "    print(a)\n",
    "    for j in range(low,high):\n",
    "        if a[j]< pivot:\n",
    "            i = i+1\n",
    "            a[i],a[j] = a[j],a[i]\n",
    "    i = i + 1\n",
    "    a[i],a[high] = a[high],a[i]\n",
    "    return i\n",
    "\n",
    "\n",
    "\n",
    "\n",
    "#a = list(map(int,input().split()))\n",
    "a =  [1,5,3,2,8,7,4,6,9]\n",
    "quicksort(0,len(a)-1,a)\n",
    "print (a)"
   ]
  },
  {
   "cell_type": "markdown",
   "metadata": {
    "id": "8FHS1sZYm3Z7"
   },
   "source": [
    "#### Find the Kth element in the array (Quick Sort)"
   ]
  },
  {
   "cell_type": "code",
   "execution_count": null,
   "metadata": {
    "id": "BPMyv3n6m3Z8"
   },
   "outputs": [],
   "source": [
    "def quicksort(low,high,a):\n",
    "    if low<high:\n",
    "        p = partition(low,high,a)\n",
    "        quicksort(low,p-1,a)\n",
    "        quicksort(p+1,high,a)\n",
    "\n",
    "\n",
    "def partition(low,high,a):\n",
    "    pivot = a[high]\n",
    "    i = low-1\n",
    "\n",
    "    for j in range(low,high):\n",
    "        if a[j]<pivot:\n",
    "            i = i+1\n",
    "            a[i],a[j] = a[j],a[i]\n",
    "\n",
    "        i = i+1\n",
    "        a[i],a[high] = a[high],a[i]\n",
    "        return i\n",
    "\n",
    "a = list(map(int,input().split()))\n",
    "quicksort(0,len(a)-1,a)\n",
    "n = int(input(\"enter the kth element\"))\n",
    "print (set(a))\n",
    "print(a[n+1])\n"
   ]
  },
  {
   "cell_type": "markdown",
   "metadata": {
    "id": "O1RJSApy49PW"
   },
   "source": []
  },
  {
   "cell_type": "code",
   "execution_count": null,
   "metadata": {
    "id": "B0SrGUwFm3Z8"
   },
   "outputs": [],
   "source": [
    "def heapify(a,n,i):\n",
    "    smallest = i\n",
    "    leftIndex = 2*i+1\n",
    "    rightIndex = 2*i+2\n",
    "\n",
    "    if(leftIndex <= n and a[leftIndex]<a[smallest]):\n",
    "        smallest = leftIndex\n",
    "    if(rightIndex <= n and a[rightIndex]<a[smallest]):\n",
    "        smallest = rightIndex\n",
    "    if(smallest!= i):\n",
    "        a[smallest],a[i] = a[i],a[smallest]\n",
    "        heapify(a,n,smallest)\n",
    "\n",
    "def arrayToHeap(a):\n",
    "    n = len(a)-1\n",
    "    lastParent = int((n-1)/2)\n",
    "\n",
    "    while(lastParent >= 0 ):\n",
    "        heapify(a,n,lastParent)\n",
    "        lastParent = lastParent - 1\n",
    "\n",
    "\n",
    "def delete(a):\n",
    "    i = 0\n",
    "    n = len(a)-1\n",
    "    a[i] = a[n]\n",
    "#     n = n-1\n",
    "    heapify(a,n,i)\n",
    "\n",
    "def extractMin(a,n):\n",
    "    while(n>1):\n",
    "        delete(a)\n",
    "        n = n-1\n",
    "\n",
    "a =  list(set([11,5,22,555,332,22,5,3,1,3,2,5,6]))\n",
    "arrayToHeap(a)\n",
    "k = 9\n",
    "extractMin(a,k)\n",
    "print(\"The \",k,\"th smallest element is \",a[0])\n"
   ]
  },
  {
   "cell_type": "markdown",
   "metadata": {
    "id": "_EI5Gz-um3Z9"
   },
   "source": [
    "#### Kth largest element (max heap)"
   ]
  },
  {
   "cell_type": "code",
   "execution_count": null,
   "metadata": {
    "id": "_Ptw3diUm3Z9"
   },
   "outputs": [],
   "source": [
    "def heapify(a,n,i):\n",
    "    largest = i\n",
    "    leftIndex = 2*i+1\n",
    "    rightIndex = 2*i+2\n",
    "\n",
    "    if(leftIndex <= n and a[leftIndex]>a[largest]):\n",
    "        largest = leftIndex\n",
    "    if(rightIndex <= n and a[rightIndex]>a[largest]):\n",
    "        largest = rightIndex\n",
    "    if(largest!= i):\n",
    "        a[largest],a[i] = a[i],a[largest]\n",
    "        heapify(a,n,largest)\n",
    "\n",
    "def arrayToHeap(a):\n",
    "    n = len(a)-1\n",
    "    lastParent = int((n-1)/2)\n",
    "\n",
    "    while(lastParent >= 0):\n",
    "        heapify(a,n,lastParent)\n",
    "        lastParent = lastParent - 1\n",
    "\n",
    "def delete(a):\n",
    "    i = 0\n",
    "    n = len(a)-1\n",
    "    a[i] = a[n]\n",
    "    n = n-1\n",
    "    heapify(a,n,i)\n",
    "\n",
    "def extractMax(a,n):\n",
    "    while(n>1):\n",
    "        delete(a)\n",
    "        n = n-1\n",
    "\n",
    "a =  list(set([11,5,22,555,332,22,5,3,1,3,2,5,6]))\n",
    "print(\"a = \",a)\n",
    "arrayToHeap(a)\n",
    "k = 3\n",
    "extractMax(a,3)\n",
    "print(\"The \",k,\"th largest element is \",a[0])"
   ]
  },
  {
   "cell_type": "markdown",
   "metadata": {
    "id": "wkCh8mN-m3Z-"
   },
   "source": [
    "#### Kth Largest Element (Min Heap Select)\n"
   ]
  },
  {
   "cell_type": "code",
   "execution_count": null,
   "metadata": {
    "id": "GEJtYGyum3Z_"
   },
   "outputs": [],
   "source": [
    "def heapify(a,n,i):\n",
    "    smallest = i\n",
    "    leftIndex = i*2+1\n",
    "    rightIndex = i*2+2\n",
    "\n",
    "    if(leftIndex <= n and a[leftIndex] < a[smallest]):\n",
    "        smallest = leftIndex\n",
    "    if(rightIndex<=n and a[rightIndex] < a[smallest]):\n",
    "        smallest = rightIndex\n",
    "    if(smallest!=i):\n",
    "        a[smallest],a[i] = a[i],a[smallest]\n",
    "        heapify(a,n,smallest)\n",
    "\n",
    "def insert(a,ele):\n",
    "    a.append(ele)\n",
    "    n = len(a)-1\n",
    "\n",
    "    while(n>0):\n",
    "        parent = int(n/2)\n",
    "        if(a[parent] > a[n]):\n",
    "            a[parent],a[n] = a[n],a[parent]\n",
    "            n = parent\n",
    "        else:\n",
    "            break\n",
    "\n",
    "def insertCheck(a,ele):\n",
    "    n = len(a)-1\n",
    "    i = 0\n",
    "    if(a[i] < ele):\n",
    "        a[i] = ele\n",
    "        heapify(a,n,i)\n",
    "\n",
    "def k_thLargest(a,k):\n",
    "    b = []\n",
    "    n = len(a)\n",
    "    for i in range(k):\n",
    "        insert(b,a[i])\n",
    "\n",
    "    for i in range(k,n,1):\n",
    "        insertCheck(b,a[i])\n",
    "\n",
    "    print(b)\n",
    "\n",
    "\n",
    "    print(\"the \",k,\"th Largest element is\",b[0])\n",
    "\n",
    "\n",
    "a = list(set([11,5,22,555,332,22,5,3,1,3,2,5,6]))\n",
    "#[1, 2, 3, 5, 6, 555, 11, 332, 22]\n",
    "k_thLargest(a,3)\n"
   ]
  },
  {
   "cell_type": "markdown",
   "metadata": {
    "id": "vsuVCsJ2m3Z_"
   },
   "source": [
    "#### Kth smallest element (Max Heap)"
   ]
  },
  {
   "cell_type": "code",
   "execution_count": null,
   "metadata": {
    "id": "IUaQ0QRBm3Z_"
   },
   "outputs": [],
   "source": [
    "def heapify(a,n,i):\n",
    "    largest = i\n",
    "    leftIndex = i*2+1\n",
    "    rightIndex = i*2+2\n",
    "\n",
    "    if(leftIndex<=n and a[leftIndex]>a[largest]):\n",
    "        largest = leftIndex\n",
    "    if(rightIndex<=n and a[rightIndex]>a[largest]):\n",
    "        largest = rightIndex\n",
    "    if(largest!= i):\n",
    "        a[largest],a[i] = a[i],a[largest]\n",
    "        heapify(a,n,largest)\n",
    "\n",
    "def insert(a,ele):\n",
    "    a.append(ele)\n",
    "    i = len(a)-1\n",
    "\n",
    "    while(i>0):\n",
    "        parent = int(i/2)\n",
    "        if(a[parent] < a[i]):\n",
    "            a[parent],a[i]= a[i],a[parent]\n",
    "            i = parent\n",
    "        else:\n",
    "            break\n",
    "\n",
    "def insertCheck(a,ele):\n",
    "    i = 0\n",
    "    n = len(a)-1\n",
    "    if(ele < a[i]):\n",
    "        a[i] = ele\n",
    "        heapify(a,i,n)\n",
    "\n",
    "def kth_Smallest(a,k):\n",
    "    b = []\n",
    "    n = len(a)-1\n",
    "\n",
    "    for i in range(k):\n",
    "        insert(b,a[i])\n",
    "\n",
    "    for i in range(k,n):\n",
    "        insertCheck(b,a[i])\n",
    "    print(k,\" th smallest element is \", b[0])\n",
    "\n",
    "\n",
    "a = list(set([11,5,22,555,332,22,5,3,1,3,2,5,6]))\n",
    "\n",
    "kth_Smallest(a,3)\n"
   ]
  },
  {
   "cell_type": "markdown",
   "metadata": {
    "id": "mxTp0Djam3aA"
   },
   "source": [
    "#### Kth Largest Element (Quick Select)"
   ]
  },
  {
   "cell_type": "code",
   "execution_count": null,
   "metadata": {
    "id": "TcFqOoykm3aA",
    "scrolled": false
   },
   "outputs": [],
   "source": [
    "def quickSort(low,high,a,k):\n",
    "    if low <= high:\n",
    "        p = partition(low,high,a)\n",
    "        if(k == p):\n",
    "            return a[k]\n",
    "        elif(p>k):\n",
    "            return quickSort(low,p-1,a,k)\n",
    "        else:\n",
    "            return quickSort(p+1,high,a,k)\n",
    "\n",
    "def partition(low,high,a):\n",
    "    pivot = high\n",
    "    i = low -1\n",
    "\n",
    "    for j in range(low,high):\n",
    "        if(a[j]<a[pivot]):\n",
    "            i=i+1\n",
    "            a[i],a[j] = a[j],a[i]\n",
    "\n",
    "    i = i+1\n",
    "    a[i],a[high] = a[high],a[i]\n",
    "    return i\n",
    "\n",
    "def kth_Largest(a,k):\n",
    "    n = len(a)\n",
    "    k = n-k\n",
    "    val = quickSort(0,n-1,a,k)\n",
    "    k = n-k\n",
    "    print(k,\"largest element is\",val)\n",
    "\n",
    "a = list(set([11,5,22,555,332,22,5,3,1,3,2,5,6]))\n",
    "kth_Largest(a,9)"
   ]
  },
  {
   "cell_type": "markdown",
   "metadata": {
    "id": "4NFAOeb5m3aB"
   },
   "source": [
    "#### Kth Smallest Element (Quick Select)"
   ]
  },
  {
   "cell_type": "code",
   "execution_count": null,
   "metadata": {
    "id": "baiHZzwkm3aB"
   },
   "outputs": [],
   "source": [
    "def quickSort(low,high,a,k):\n",
    "    if (low<=high):\n",
    "        p = partition(low,high,a)\n",
    "\n",
    "        if(p == k):\n",
    "            return a[k]\n",
    "        elif(p>k):\n",
    "            return quickSort(low,p-1,a,k)\n",
    "        else:\n",
    "            return quickSort(p+1,high,a,k)\n",
    "\n",
    "def partition(low,high,a):\n",
    "    pivot = high\n",
    "    i = low-1\n",
    "    for j in range(low,high):\n",
    "        if(a[j]<a[pivot]):\n",
    "            i = i+1\n",
    "            a[i],a[j] = a[j],a[i]\n",
    "    i = i+1\n",
    "    a[i],a[high] = a[high],a[i]\n",
    "    return i\n",
    "\n",
    "def kth_Smallest(a,k):\n",
    "    k = k-1\n",
    "    n = len(a)-1\n",
    "    val = quickSort(0,n,a,k)\n",
    "    k = k+1\n",
    "    print(k,\"th Smallest element is\",val)\n",
    "\n",
    "a = list(set([11,5,22,555,332,22,5,3,1,3,2,5,6]))\n",
    "kth_Smallest(a,1)\n"
   ]
  },
  {
   "cell_type": "markdown",
   "metadata": {
    "id": "Y-A_o8mrm3aB"
   },
   "source": [
    "#### Sort the array which consists of 0,1,2 (self)"
   ]
  },
  {
   "cell_type": "code",
   "execution_count": null,
   "metadata": {
    "id": "2usqmiEXm3aC"
   },
   "outputs": [],
   "source": [
    "def sort012(a):\n",
    "    n = len(a)-1\n",
    "    i = -1\n",
    "    j = n+1\n",
    "\n",
    "    for k in range(n):\n",
    "        if(a[k]<1):\n",
    "            i = i+1\n",
    "            a[k],a[i] = a[i],a[k]\n",
    "\n",
    "    for k in range(n,i,-1):\n",
    "        if(a[k] > 1):\n",
    "            j = j-1\n",
    "            a[k],a[j] = a[j],a[k]\n",
    "\n",
    "a = [0,1,0,1,1,1,2,2,1,2,0,1]\n",
    "sort012(a)\n",
    "print(a)"
   ]
  },
  {
   "cell_type": "markdown",
   "metadata": {
    "id": "u0jwb8-qm3aC"
   },
   "source": [
    "#### Sort 0's 1's 2's (GFG)"
   ]
  },
  {
   "cell_type": "code",
   "execution_count": null,
   "metadata": {
    "id": "JNSfMGDTm3aD"
   },
   "outputs": [],
   "source": [
    "def sort012(a):\n",
    "    n = len(a)-1\n",
    "    low = 0\n",
    "    mid = 0\n",
    "    high = n\n",
    "\n",
    "    while(mid<=high):\n",
    "        if(a[mid] == 0):\n",
    "            a[mid],a[low] = a[low],a[mid]\n",
    "            low = low+1\n",
    "            mid = mid+1\n",
    "        elif(a[mid] == 1):\n",
    "            mid = mid +1\n",
    "        else:\n",
    "            a[mid],a[high] = a[high],a[mid]\n",
    "            high = high-1\n",
    "    return a\n",
    "\n",
    "a = [0,1,0,1,1,1,2,2,1,2,0,1]\n",
    "print(sort012(a))\n",
    "\n"
   ]
  },
  {
   "cell_type": "markdown",
   "metadata": {
    "id": "LzQrLsStm3aD"
   },
   "source": [
    "#### Move all negative to one side"
   ]
  },
  {
   "cell_type": "code",
   "execution_count": null,
   "metadata": {
    "id": "6oJ_3Tgam3aD"
   },
   "outputs": [],
   "source": [
    "def moveToOneSide(a):\n",
    "    i = -1\n",
    "\n",
    "    for j in range(len(a)):\n",
    "        if(a[j]<0):\n",
    "            i = i+1\n",
    "            a[i],a[j] = a[j],a[i]\n",
    "    print(a)\n",
    "\n",
    "a = [1,-2,-3,4,-5,1,1,2,2,5,-3]\n",
    "moveToOneSide(a)"
   ]
  },
  {
   "cell_type": "markdown",
   "metadata": {
    "id": "sSZyOAeMm3aE"
   },
   "source": [
    "#### Union and intersection of an array"
   ]
  },
  {
   "cell_type": "code",
   "execution_count": null,
   "metadata": {
    "id": "mWL-VPhBm3aE"
   },
   "outputs": [],
   "source": [
    "def union(a,b):\n",
    "    i = 0\n",
    "    j = 0\n",
    "    k = 0\n",
    "    c=[]\n",
    "    while(i<=len(a)-1 and j<=len(b)-1):\n",
    "        if(a[i]<b[j]):\n",
    "            c.append(a[i])\n",
    "            i=i+1\n",
    "        elif(b[j]<a[i]):\n",
    "            c.append(b[j])\n",
    "            j = j+1\n",
    "        else:\n",
    "            c.append(a[i])\n",
    "            i = i+1\n",
    "            j = j+1\n",
    "\n",
    "    if(i==len(a)):\n",
    "        while(j<=len(b)-1):\n",
    "            c.append(b[j])\n",
    "            j = j+1\n",
    "    if(j==len(b)):\n",
    "        while(i<=len(a)-1):\n",
    "            c.append(a[i])\n",
    "            i = i+1\n",
    "    print(\"union=\",c)\n",
    "\n",
    "\n",
    "\n",
    "def intersection(a,b):\n",
    "    i = 0\n",
    "    j = 0\n",
    "    c = []\n",
    "\n",
    "    while(i<len(a) and j<len(b)):\n",
    "        if(a[i]==a[j]):\n",
    "            c.append(a[i])\n",
    "            i = i+1\n",
    "            j = j+1\n",
    "        elif(a[i]<a[j]):\n",
    "            i = i+1\n",
    "        else:\n",
    "            j = j+1\n",
    "\n",
    "    print(\"intersection=\",c)\n",
    "\n",
    "a=[1,2,3,4,6,33,35,332]\n",
    "b =[1,4,5,6,7]\n",
    "union(a,b)\n",
    "intersection(a,b)"
   ]
  },
  {
   "cell_type": "markdown",
   "metadata": {
    "id": "4bzmTPr2m3aE"
   },
   "source": [
    "#### Kadane's Algorithm"
   ]
  },
  {
   "cell_type": "code",
   "execution_count": null,
   "metadata": {
    "id": "3rusyjuhm3aT"
   },
   "outputs": [],
   "source": [
    "def kadens_algo(a):\n",
    "    max_ending_here = a[0]\n",
    "    max_so_far = a[0]\n",
    "    index_start = 0\n",
    "    index_end = 0\n",
    "\n",
    "    for i in range(len(a)):\n",
    "        if (a[i] > max_ending_here+a[i]):\n",
    "            max_ending_here = a[i]\n",
    "            index_start = i\n",
    "        else:\n",
    "            max_ending_here = max_ending_here+ a[i]\n",
    "\n",
    "        if(max_so_far < max_ending_here):\n",
    "            max_so_far = max_ending_here\n",
    "            index_end = i\n",
    "\n",
    "    print(\"star_index=\",index_start,\"end_index=\",index_end)\n",
    "\n",
    "    return max_so_far\n",
    "\n",
    "a = [-2, -3, 4, -1, -2, 1, 5, -3]\n",
    "print(\"max ele\",kadens_algo(a))"
   ]
  },
  {
   "cell_type": "markdown",
   "metadata": {
    "id": "Av29Nky8m3aU"
   },
   "source": [
    "#### Minimize Heights (Brute Force Approach)"
   ]
  },
  {
   "cell_type": "code",
   "execution_count": null,
   "metadata": {
    "id": "hSNjnow_m3aU"
   },
   "outputs": [],
   "source": [
    "from itertools import product\n",
    "\n",
    "\n",
    "def minimizeHeights(a,k):\n",
    "    n = len(a)\n",
    "    combination = list(product([+k,-k],repeat = n))\n",
    "    # auxlist = []\n",
    "    # for i in zip(combination[0],a):\n",
    "    #     auxlist.append(sum(i)) --------------------the below code is the list comprehension\n",
    "    auxlist = [sum(i) for i in zip(combination[0],a)]\n",
    "\n",
    "    diff = max(auxlist) - min(auxlist)\n",
    "    result = diff\n",
    "    result_arr = auxlist\n",
    "\n",
    "    for i in range(1,2**n):\n",
    "        auxlist = [sum(i) for i in zip(combination[i],a)]\n",
    "\n",
    "        diff_new = max(auxlist) - min(auxlist)\n",
    "        if(diff_new < result):\n",
    "            result = diff_new\n",
    "            result_arr = auxlist\n",
    "    print(result,result_arr)\n",
    "\n",
    "a = [1,10,15]\n",
    "k = 6\n",
    "minimizeHeights(a,k)\n"
   ]
  },
  {
   "cell_type": "code",
   "execution_count": null,
   "metadata": {
    "id": "PWTiJWcMePp5"
   },
   "outputs": [],
   "source": []
  },
  {
   "cell_type": "code",
   "execution_count": null,
   "metadata": {
    "id": "z6rnfjyiePp5"
   },
   "outputs": [],
   "source": [
    "from itertools import product\n",
    "\n",
    "k = 2\n",
    "n = 5\n",
    "combination = list(product([+k,-k],repeat = n))\n",
    "print(combination)\n"
   ]
  },
  {
   "cell_type": "markdown",
   "metadata": {
    "id": "JPLWDFfcePp6"
   },
   "source": [
    "#### Minimize the difference - Optimal solution"
   ]
  },
  {
   "cell_type": "code",
   "execution_count": null,
   "metadata": {
    "id": "hnOKrvyiePp6"
   },
   "outputs": [],
   "source": [
    "def getMinDiff(a, n, k):\n",
    "    a.sort()\n",
    "    curr_max = a[n-1]\n",
    "    curr_min = a[0]\n",
    "    res = curr_max - curr_min\n",
    "\n",
    "    for i in range(1,len(a)):\n",
    "\n",
    "        if(a[i]>=k):\n",
    "            maxVal = max(curr_max-k, a[i-1]+k)\n",
    "            minVal = min(curr_min+k, a[i]-k)\n",
    "\n",
    "\n",
    "            res = min(res, maxVal - minVal)\n",
    "\n",
    "    return res\n",
    "\n",
    "k = 2\n",
    "a = [1, 5, 8, 10]\n",
    "n = len(arr)\n",
    "getMinDiff(a, n, k)\n"
   ]
  },
  {
   "cell_type": "markdown",
   "metadata": {
    "id": "F4Sy53FPm3aU"
   },
   "source": [
    "#### Minimum Number of steps - Recursive solution"
   ]
  },
  {
   "cell_type": "code",
   "execution_count": null,
   "metadata": {
    "id": "lDiyNNT3m3aV"
   },
   "outputs": [],
   "source": [
    "def min_jumps(curr_pos, array):\n",
    "    print(curr_pos, array)\n",
    "    n = len(array)\n",
    "    if(curr_pos >= n):\n",
    "        return float('inf')\n",
    "\n",
    "    if(curr_pos == n-1):\n",
    "        return 0\n",
    "\n",
    "    max_steps_possible = array[curr_pos]\n",
    "    min_steps = float('inf')\n",
    "    for i in range(1, (max_steps_possible+1)):\n",
    "        next_jump = min_jumps((curr_pos + i), array)\n",
    "        min_steps =  min(min_steps, next_jump)\n",
    "        print(min_steps)\n",
    "\n",
    "    return 1 + min_steps\n",
    "\n",
    "\n",
    "a = [1, 3, 6, 3, 2, 3, 6, 8, 9, 5]\n",
    "min_jumps(0, a)"
   ]
  },
  {
   "cell_type": "markdown",
   "metadata": {
    "id": "qqHuWqfAm3aV"
   },
   "source": [
    "#### minimum number of jumps (Dynamic Prgramming [n2])\n",
    "\n",
    "> Add blockquote\n",
    "\n"
   ]
  },
  {
   "cell_type": "code",
   "execution_count": null,
   "metadata": {
    "id": "e1XxIIQUm3aV"
   },
   "outputs": [],
   "source": [
    "def minJumps(a):\n",
    "    n = len(a)\n",
    "    min_array = []\n",
    "    min_array.append(0)\n",
    "    path_array = []\n",
    "\n",
    "    print(min_array)\n",
    "\n",
    "    for i in range(1,n):\n",
    "        min_array.insert(i,9999)\n",
    "        for j in range(i):\n",
    "            if(a[j]+j >= i):\n",
    "                if(min_array[i] > min_array[j]+1):\n",
    "                    min_array[i] = min_array[j]+1\n",
    "                    path_array.insert(i,j)\n",
    "\n",
    "    if (min_array[n-1] == 9999):\n",
    "        return -1\n",
    "\n",
    "    return min_array[n-1]\n",
    "\n",
    "a = [1, 3, 6, 3, 2, 3, 6, 8, 9, 5]\n",
    "\n",
    "minJumps(a)"
   ]
  },
  {
   "cell_type": "code",
   "execution_count": null,
   "metadata": {
    "id": "zJBuVB2vm3aV"
   },
   "outputs": [],
   "source": [
    "def min_jumps(a):\n",
    "    max_reach = a[0]\n",
    "    steps = a[0]\n",
    "    last_max_ladder = 0\n",
    "    count = 1\n",
    "\n",
    "    for i in range(1,len(a)):\n",
    "\n",
    "        steps = steps - 1\n",
    "\n",
    "        if(a[i]+i > max_reach):\n",
    "            max_reach = a[i]+i\n",
    "            last_max_ladder = i\n",
    "\n",
    "        if(max_reach >= len(a)-1):\n",
    "            return count+1\n",
    "\n",
    "        if(steps == 0):\n",
    "            steps = a[last_max_ladder]\n",
    "            count = count + 1\n",
    "\n",
    "\n",
    "    return -1\n",
    "\n",
    "\n",
    "a = [1, 3, 6, 3, 2, 3, 6, 8, 9, 5]\n",
    "min_jumps(a)\n"
   ]
  },
  {
   "cell_type": "markdown",
   "metadata": {
    "id": "dFnZkdUrm3aW"
   },
   "source": [
    "#### minimum number of jumps (Dynamic Prgramming [O(n)])"
   ]
  },
  {
   "cell_type": "code",
   "execution_count": null,
   "metadata": {
    "id": "mHwnT23nm3aW"
   },
   "outputs": [],
   "source": [
    "def minJumps(a):\n",
    "    n = len(a)\n",
    "    maxReach = a[0]\n",
    "    jump = 1\n",
    "    steps = a[0]\n",
    "\n",
    "    for i in range(1,n):\n",
    "        if(maxReach == 0):\n",
    "            return -1\n",
    "        if (i == n-1):\n",
    "            return jump\n",
    "        maxReach = max(maxReach, a[i]+i)\n",
    "        steps = steps - 1\n",
    "\n",
    "        if(steps == 0):\n",
    "            jump = jump + 1\n",
    "            if (i >= maxReach):\n",
    "                return -1\n",
    "\n",
    "            steps = maxReach -i\n",
    "\n",
    "    return jump\n",
    "\n",
    "a = [1, 3, 6, 3, 2, 3, 6, 8, 9, 5]\n",
    "\n",
    "minJumps(a)"
   ]
  },
  {
   "cell_type": "markdown",
   "metadata": {
    "id": "8frmH6JCm3aX"
   },
   "source": [
    "#### Find Duplicate element (Brute Force)"
   ]
  },
  {
   "cell_type": "code",
   "execution_count": null,
   "metadata": {
    "id": "EzBUpg7Bm3aX"
   },
   "outputs": [],
   "source": [
    "def findDuplicate(a):\n",
    "    b = a[:]\n",
    "\n",
    "    for i in range(len(a)):\n",
    "        b[a[i]] = b[a[i]] + len(a)\n",
    "\n",
    "    print(b)\n",
    "    max_ele = b[0]\n",
    "    for j in range(len(b)):\n",
    "        if b[j]>max_ele:\n",
    "            max_ele = b[j]\n",
    "            repeating = j\n",
    "    print(repeating)\n",
    "\n",
    "\n",
    "a = [1,3,4,2,2]\n",
    "\n",
    "findDuplicate(a)"
   ]
  },
  {
   "cell_type": "markdown",
   "metadata": {
    "id": "ejm7Qjwsm3aX"
   },
   "source": [
    "#### Merge 2 sorted list. without extra space"
   ]
  },
  {
   "cell_type": "code",
   "execution_count": null,
   "metadata": {
    "id": "Iar0T0XQm3aY"
   },
   "outputs": [],
   "source": [
    "def merge(a,b):\n",
    "    i = len(a)-1\n",
    "    j = 0\n",
    "\n",
    "    while(i>=0 and j<len(b)):\n",
    "        if(a[i]>b[j]):\n",
    "            a[i],b[j] = b[j],a[i]\n",
    "        i = i - 1\n",
    "        j = j+1\n",
    "    a.sort()\n",
    "    b.sort()\n",
    "    print(*a,*b)\n",
    "\n",
    "a = [1,3,4,7]\n",
    "b = [0,2,5,6]\n",
    "merge(a,b)"
   ]
  },
  {
   "cell_type": "markdown",
   "metadata": {
    "id": "xQGpeGrym3aY"
   },
   "source": [
    "#### OverLapping Intervals"
   ]
  },
  {
   "cell_type": "code",
   "execution_count": null,
   "metadata": {
    "id": "yGByJPCBm3aZ"
   },
   "outputs": [],
   "source": [
    "def isOverLapping(a,b):\n",
    "    front = max(a[0],b[0])\n",
    "    back = min(a[1],b[1])\n",
    "\n",
    "    if(back - front) > 0:\n",
    "        return True\n",
    "    else:\n",
    "        return False\n",
    "\n",
    "\n",
    "def merge_intervals(a):\n",
    "    stack = [a[0]]\n",
    "\n",
    "    for i in range(1, len(a)):\n",
    "        if(isOverLapping(stack[-1],a[i])):\n",
    "            temp = stack.pop()\n",
    "\n",
    "            temp[1] = max(a[i][1], temp[1])\n",
    "            stack.append(temp)\n",
    "\n",
    "        else:\n",
    "            stack.append(a[i])\n",
    "\n",
    "    return stack\n",
    "\n",
    "a = [[1,3],[2,6],[8,10],[15,18]]\n",
    "\n",
    "merge_intervals(a)\n"
   ]
  },
  {
   "cell_type": "markdown",
   "metadata": {
    "id": "cCTskAVQePp-"
   },
   "source": [
    "#### Print all permutations"
   ]
  },
  {
   "cell_type": "code",
   "execution_count": null,
   "metadata": {
    "id": "D6rjLQlhePp-"
   },
   "outputs": [],
   "source": [
    "def print_all_permutations(array, visited_array, n, curr_permutation):\n",
    "    if(len(curr_permutation) == n):\n",
    "        print(curr_permutation)\n",
    "        return\n",
    "\n",
    "    for j in range(0, n):\n",
    "        if(not visited_array[j]):\n",
    "            curr_permutation.append(array[j])\n",
    "            visited_array[j] = True\n",
    "            print_all_permutations(array, visited_array, n, curr_permutation)\n",
    "            visited_array[j] = False\n",
    "            curr_permutation.pop()\n",
    "    return\n",
    "\n",
    "array = [6, 2, 3, 0, 1, 4, 5]\n",
    "array.sort()\n",
    "n = len(array)\n",
    "visited_array = [False] * n\n",
    "print_all_permutations(array, visited_array, n, [])\n"
   ]
  },
  {
   "cell_type": "code",
   "execution_count": null,
   "metadata": {
    "id": "xzjkUdkim3aZ"
   },
   "outputs": [],
   "source": [
    "def rev(low,high,a):\n",
    "    while(low<high):\n",
    "        a[low],a[high] = a[high],a[low]\n",
    "        low = low + 1\n",
    "        high = high -1\n",
    "\n",
    "def next_permutation(a):\n",
    "    n = len(a)\n",
    "    s = -1\n",
    "\n",
    "    for i in range(n-1,0,-1):\n",
    "        if (a[i] >  a[i-1]):\n",
    "            s = i - 1\n",
    "            break\n",
    "    if(s == -1):\n",
    "        rev(0,n,a)\n",
    "        print(a)\n",
    "        return\n",
    "    for i in range(n-1,0,-1):\n",
    "        if(a[s]<a[i]):\n",
    "            a[i],a[s] = a[s],a[i]\n",
    "            break\n",
    "    rev(s+1,n-1,a)\n",
    "    print(a)\n",
    "\n",
    "a = [6, 2, 3, 0, 1, 4, 5]\n",
    "next_permutation(a)\n"
   ]
  },
  {
   "cell_type": "markdown",
   "metadata": {
    "id": "5aMPy4kym3aZ"
   },
   "source": [
    "#### Next Permutation"
   ]
  },
  {
   "cell_type": "code",
   "execution_count": null,
   "metadata": {
    "id": "5hdW_-1Vm3aa"
   },
   "outputs": [],
   "source": [
    "def rev(low,high,a):\n",
    "    while(low<high):\n",
    "        a[low],a[high] = a[high],a[low]\n",
    "        low = low + 1\n",
    "        high = high -1\n",
    "\n",
    "def nextPermutation(a):\n",
    "    n = len(a)\n",
    "    s = -1\n",
    "    for i in range(n-1,0,-1):\n",
    "        if (a[i] >  a[i-1]):\n",
    "            s = i - 1\n",
    "            break\n",
    "\n",
    "        if(s == -1):\n",
    "            rev(0,n-1,a)\n",
    "            return\n",
    "\n",
    "        for i in range(n-1,0,-1):\n",
    "            if(a[s]<a[i]):\n",
    "                a[i],a[s] = a[s],a[i]\n",
    "                break\n",
    "        rev(s+1,n-1,a)\n",
    "        return a\n",
    "\n",
    "\n",
    "a = [1,2,3,4,5]\n",
    "out = nextPermutation(a)\n",
    "print(a)\n",
    "print(a)"
   ]
  },
  {
   "cell_type": "markdown",
   "metadata": {
    "id": "nCtA-T7xm3aa"
   },
   "source": [
    "#### Merge Sort"
   ]
  },
  {
   "cell_type": "code",
   "execution_count": null,
   "metadata": {
    "id": "r3-ZOzbam3ab"
   },
   "outputs": [],
   "source": [
    "# def mergeSort(low,high,a):\n",
    "#     if(low<high):\n",
    "#         mid = (low+high)//2\n",
    "#         mergeSort(low,mid,a)\n",
    "#         mergeSort(mid+1,high,a)\n",
    "#         merge(low,mid,high,a)\n",
    "\n",
    "# def merge(low,mid,high,a):\n",
    "#     l_n = mid - low + 1\n",
    "#     r_n = high - mid\n",
    "\n",
    "#     left_list = [0] * l_n\n",
    "#     right_list = [0] * r_n\n",
    "\n",
    "#     for i in range(0,l_n):\n",
    "#         left_list[i] = a[low+i]\n",
    "\n",
    "#     for j in range(0,r_n):\n",
    "#         right_list[j] = a[mid+1+j]\n",
    "\n",
    "#     i = 0\n",
    "#     j = 0\n",
    "#     k = low\n",
    "\n",
    "#     while(i<l_n and j<r_n):\n",
    "#         if(left_list[i] < right_list[j]):\n",
    "#             a[k] = left_list[i]\n",
    "#             i = i+1\n",
    "#         else:\n",
    "#             a[k] = right_list[j]\n",
    "#             j = j+1\n",
    "#         k = k+1\n",
    "\n",
    "#     while(j < r_n):\n",
    "#             a[k] = right_list[j]\n",
    "#             j = j +1\n",
    "#             k = k+1\n",
    "#     while(i< l_n):\n",
    "#             a[k] = left_list[i]\n",
    "#             i = i+1\n",
    "#             k = k + 1\n",
    "\n",
    "# a = [15,5,24,8,1,3,16,10,20]\n",
    "# mergeSort(0,len(a)-1,a)\n",
    "# print(a)\n",
    "\n"
   ]
  },
  {
   "cell_type": "markdown",
   "metadata": {
    "id": "rZjJUz_Km3ab"
   },
   "source": [
    "#### MergeSort (Self -)"
   ]
  },
  {
   "cell_type": "code",
   "execution_count": null,
   "metadata": {
    "id": "uUVbffpam3ac"
   },
   "outputs": [],
   "source": [
    "# Python program for implemeting  of MergeSort\n",
    "\n",
    "# Merges two subarrays of arr[].\n",
    "# First subarray is arr[low..mid]\n",
    "# Second subarray is arr[mid+1..high]\n",
    "\n",
    "def mergeSort(low,high,a):\n",
    "    if low<high:\n",
    "        mid = (low+high)//2\n",
    "        mergeSort(low,mid,a)\n",
    "        mergeSort(mid+1,high,a)\n",
    "        merge(low,mid,high,a)\n",
    "\n",
    "\n",
    "def merge(low,mid,high,a):\n",
    "    i = low\n",
    "    j = mid +1\n",
    "    b= []\n",
    "\n",
    "    while (i<=mid and j<=high):\n",
    "        if(a[i] <= a[j]):\n",
    "            b.append(a[i])\n",
    "            i = i+1\n",
    "        else:\n",
    "            b.append(a[j])\n",
    "            j = j + 1\n",
    "\n",
    "    if (i>mid):\n",
    "        while(j <= high):\n",
    "            b.append(a[j])\n",
    "            j = j+1\n",
    "    else:\n",
    "        while(i<=mid):\n",
    "            b.append(a[i])\n",
    "            i = i+1\n",
    "\n",
    "\n",
    "    a[low:high+1] = b[:]\n",
    "\n",
    "\n",
    "a = [2, 4, 1, 3, 5]\n",
    "mergeSort(0,len(a)-1,a)\n",
    "print(a)\n",
    "\n",
    "\n",
    "\n",
    "\n",
    "\n"
   ]
  },
  {
   "cell_type": "markdown",
   "metadata": {
    "id": "QTiUIEY6m3ac"
   },
   "source": [
    "#### Inversion Count"
   ]
  },
  {
   "cell_type": "code",
   "execution_count": null,
   "metadata": {
    "id": "uH1dnuWdm3ac"
   },
   "outputs": [],
   "source": [
    "def inversionCount(a):\n",
    "    inv_count = 0\n",
    "    for i in range(len(a)):\n",
    "        for j in range(i+1,len(a)):\n",
    "            if(a[i]>a[j]):\n",
    "                inv_count = inv_count + 1\n",
    "    print(inv_count)\n",
    "\n",
    "a = [2, 3, 4, 5, 6]\n",
    "inversionCount(a)\n",
    "\n"
   ]
  },
  {
   "cell_type": "code",
   "execution_count": null,
   "metadata": {
    "id": "1maZvwHvm3ac"
   },
   "outputs": [],
   "source": []
  },
  {
   "cell_type": "code",
   "execution_count": null,
   "metadata": {
    "id": "KhqUjNjzm3ad"
   },
   "outputs": [],
   "source": [
    "#### Inversion Count Using Merge Sort\n",
    "def mergeSort(low,high,a):\n",
    "    inv_count = 0\n",
    "    if low<high:\n",
    "        mid = (low+high) // 2\n",
    "        inv_count = inv_count + mergeSort(low,mid,a)\n",
    "        inv_count = inv_count + mergeSort(mid+1,high,a)\n",
    "\n",
    "        inv_count = inv_count + merge(low,mid,high,a)\n",
    "    return inv_count\n",
    "\n",
    "def merge(low,mid,high,a):\n",
    "    i = low\n",
    "    j = mid+1\n",
    "    b = []\n",
    "    inv_count = 0\n",
    "\n",
    "    while i<= mid and j<=high:\n",
    "        if (a[i]<=a[j]):\n",
    "            b.append(a[i])\n",
    "            i = i+1\n",
    "        else:\n",
    "            inv_count = inv_count + (mid-i+1)\n",
    "            b.append(a[j])\n",
    "            j = j + 1\n",
    "\n",
    "    if(i>mid):\n",
    "        while(j<=high):\n",
    "            b.append(a[j])\n",
    "            j = j+1\n",
    "    else:\n",
    "        while(i<=mid):\n",
    "            b.append(a[i])\n",
    "            i = i + 1\n",
    "    a[low:high+1] = b[:]\n",
    "    return inv_count\n",
    "\n",
    "a = [174,165, 142, 212, 254, 369, 48 ,145 ,163, 258, 38 ,360 ,224, 242, 30, 279, 317, 36, 191, 343, 289 ,107, 41, 443, 265, 149, 447 ,306 ,391 ,230, 371 ,351 ,7 ,102]\n",
    "inv_count = mergeSort(0,len(a)-1,a)\n",
    "print(a)\n",
    "print(inv_count)"
   ]
  },
  {
   "cell_type": "markdown",
   "metadata": {
    "id": "2Gv5nrvUm3ad"
   },
   "source": [
    "#### MaxProfit (Brurte Force)"
   ]
  },
  {
   "cell_type": "code",
   "execution_count": null,
   "metadata": {
    "id": "nsqtlq1Cm3ad"
   },
   "outputs": [],
   "source": [
    "def maxProfit(a):\n",
    "    max_profit = 0\n",
    "    for i in range(len(a)):\n",
    "        for j in range(len(a)-1,i,-1):\n",
    "            if (a[j]>a[i] and max_profit < a[j]-a[i]):\n",
    "                max_profit = a[j] - a[i]\n",
    "\n",
    "    return max_profit\n",
    "\n",
    "\n",
    "a = [7,6,4,3,1]\n",
    "print(maxProfit(a))"
   ]
  },
  {
   "cell_type": "markdown",
   "metadata": {
    "id": "2Aagskrqm3ae"
   },
   "source": [
    "#### Max Profit (O(n))"
   ]
  },
  {
   "cell_type": "code",
   "execution_count": null,
   "metadata": {
    "id": "Lx-exViPm3ae"
   },
   "outputs": [],
   "source": [
    "def mProfit(a):\n",
    "    min1 = 9999\n",
    "    profit = 0\n",
    "    for i in range(len(a)):\n",
    "        if (a[i]<min1):\n",
    "            min1 = a[i]\n",
    "        if (profit < a[i] - min1):\n",
    "            profit = a[i] - min1\n",
    "    return profit\n",
    "a = [7,1,5,3,6,4]\n",
    "print(mProfit(a))"
   ]
  },
  {
   "cell_type": "markdown",
   "metadata": {
    "id": "D_lZ2RXym3ae"
   },
   "source": [
    "#### Pairs of sum K (O(n))"
   ]
  },
  {
   "cell_type": "code",
   "execution_count": null,
   "metadata": {
    "colab": {
     "base_uri": "https://localhost:8080/"
    },
    "executionInfo": {
     "elapsed": 76,
     "status": "ok",
     "timestamp": 1757321584687,
     "user": {
      "displayName": "Sulaiman T",
      "userId": "03489698800880169818"
     },
     "user_tz": -330
    },
    "id": "F5gZGQhjm3ae",
    "outputId": "a2ae473d-d498-42a4-9f92-e709b97676c6"
   },
   "outputs": [
    {
     "data": {
      "text/plain": [
       "2"
      ]
     },
     "execution_count": 1,
     "metadata": {},
     "output_type": "execute_result"
    }
   ],
   "source": [
    "def getPairsCount(a, n, k):\n",
    "        m = [0]*1000\n",
    "\n",
    "        for i in range(n):\n",
    "            m[a[i]] = m [a[i]]+ 1\n",
    "\n",
    "\n",
    "        twice_count = 0\n",
    "\n",
    "        for i in range(n):\n",
    "            twice_count = twice_count + m[k - a[i]]\n",
    "\n",
    "            if(k-a[i] == a[i]):\n",
    "                print(\"ye!\")\n",
    "                twice_count = twice_count - 1\n",
    "        return (int(twice_count/2))\n",
    "\n",
    "a = [1,5,7,1]\n",
    "n = len(a)\n",
    "k = 6\n",
    "getPairsCount(a,n,k)\n"
   ]
  },
  {
   "cell_type": "markdown",
   "metadata": {
    "id": "klcTtquym3af"
   },
   "source": [
    "#### Common element from 3 sorted array"
   ]
  },
  {
   "cell_type": "code",
   "execution_count": null,
   "metadata": {
    "id": "7OveuMYBm3af"
   },
   "outputs": [],
   "source": [
    "def common_ele(a,b,c):\n",
    "    i = 0\n",
    "    j = 0\n",
    "    k = 0\n",
    "    x = []\n",
    "\n",
    "    while(i<= len(a)-1 and j <= len(b)-1 and k<=len(c)-1):\n",
    "        print(\"a[i]=\",a[i],\" b[j]=\",b[j],\" c[k]\",c[k])\n",
    "        if(a[i] == b[j] == c[k]):\n",
    "            x.append(a[i])\n",
    "            i = i+1\n",
    "            j = j + 1\n",
    "            k = k+1\n",
    "        else:\n",
    "            if( a[i]>=b[j] and a[i]>=c[k]):\n",
    "                if(a[i]==b[j]):\n",
    "                    k = k + 1\n",
    "                elif(a[i]==c[k]):\n",
    "                    j = j + 1\n",
    "                else:\n",
    "                    k = k + 1\n",
    "                    j = j + 1\n",
    "            elif(b[j]>=a[i] and b[j]>=c[k]):\n",
    "                if(b[j]==a[i]):\n",
    "                    k = k + 1\n",
    "                elif(b[j]==c[k]):\n",
    "                    i = i+1\n",
    "                else:\n",
    "                    k = k + 1\n",
    "                    i = i+1\n",
    "            else:\n",
    "                if(c[k]==a[i]):\n",
    "                    j = j +1\n",
    "                elif(c[k]==b[j]):\n",
    "                    i = i+1\n",
    "                else:\n",
    "                    i = i + 1\n",
    "                    j = j + 1\n",
    "\n",
    "    print(x)\n",
    "\n",
    "a = [1, 5, 10, 20, 40, 80]\n",
    "b = [6, 7, 20, 80, 100]\n",
    "c = [3, 4, 15, 20, 30, 70, 80, 120]\n",
    "\n",
    "common_ele(a,b,c)"
   ]
  },
  {
   "cell_type": "markdown",
   "metadata": {
    "id": "RXAlfkwOm3af"
   },
   "source": [
    "#### Rearrane alternative numbers"
   ]
  },
  {
   "cell_type": "code",
   "execution_count": null,
   "metadata": {
    "id": "0C41JfRvm3ag"
   },
   "outputs": [],
   "source": [
    "\n",
    "def rearrange(a):\n",
    "    for i in range(len(a)):\n",
    "        if(i%2 == 0):\n",
    "            if (a[i]>0):\n",
    "                for j in range(i,len(a)):\n",
    "                    if(a[j]<0):\n",
    "                        temp = a[j]\n",
    "                        while(j>i):\n",
    "                            a[j] = a[j-1]\n",
    "                            j = j - 1\n",
    "                        a[i] = temp\n",
    "                        break\n",
    "        else:\n",
    "            if (a[i]<0):\n",
    "                for j in range(i,len(a)):\n",
    "                    if(a[j]>0):\n",
    "                        temp = a[j]\n",
    "                        print(temp)\n",
    "                        while(j>i):\n",
    "                            a[j] = a[j-1]\n",
    "                            j = j - 1\n",
    "                        a[j] = temp\n",
    "                        break\n",
    "\n",
    "\n",
    "a = [1, 2, 3, -4, -1, 4]\n",
    "rearrange(a)\n",
    "print(a)\n",
    "\n"
   ]
  },
  {
   "cell_type": "markdown",
   "metadata": {
    "id": "NCAeYWkKm3ag"
   },
   "source": [
    "#### rearrang(O(n) -- >time and O(i)-->space)   [Order does not matter]"
   ]
  },
  {
   "cell_type": "code",
   "execution_count": null,
   "metadata": {
    "id": "MCvrwJ8jm3ag"
   },
   "outputs": [],
   "source": [
    "def rearrange(a):\n",
    "    i = -1\n",
    "    for j in range(len(a)):\n",
    "        if(a[j]< 0):\n",
    "            i = i+1\n",
    "            a[j],a[i] = a[i],a[j]\n",
    "    i = i+ 1\n",
    "    print(a)\n",
    "    for j in range(len(a)):\n",
    "        if(j%2 != 0):\n",
    "            a[j],a[i] = a[i],a[j]\n",
    "            i = i + 1\n",
    "a = [1, 2, 3, -4, -1, 4]\n",
    "rearrange(a)\n",
    "print(a)\n"
   ]
  },
  {
   "cell_type": "markdown",
   "metadata": {
    "id": "Lyw4hRRqm3ag"
   },
   "source": [
    "#### Rearrang(O(n) -- >time and O(i)-->space)   [Order MATTERS]\n",
    "\n",
    "> Add blockquote\n",
    "\n"
   ]
  },
  {
   "cell_type": "code",
   "execution_count": null,
   "metadata": {
    "id": "wJLmd8pfm3ag"
   },
   "outputs": [],
   "source": [
    "def right_rotate(low,high,a):\n",
    "    temp = a[high]\n",
    "    while(high > low):\n",
    "        a[high] = a[high-1]\n",
    "        high = high - 1\n",
    "    a[low] = temp\n",
    "\n",
    "def rearrange_order_maintain(a):\n",
    "    wrong_index = -1\n",
    "\n",
    "    for i in range(len(a)):\n",
    "        if(wrong_index == -1):\n",
    "            if(i%2 == 0 and a[i]>=0) or (i%2 !=0  and  a[i]<0):\n",
    "                wrong_index = i\n",
    "\n",
    "        else:\n",
    "            if(a[i]>=0 and a[wrong_index]<0) or (a[i]<0 and a[wrong_index]>=0):\n",
    "                right_rotate(wrong_index,i,a)\n",
    "\n",
    "                if(i-wrong_index  >= 2):\n",
    "                    print(\"Ye\")\n",
    "                    wrong_index = wrong_index + 2\n",
    "                else:\n",
    "                    print(\"yooo\")\n",
    "                    wrong_index = -1\n",
    "\n",
    "    print(a)\n",
    "\n",
    "a = [1, 2, 3, -4, -1, 4]\n",
    "rearrange_order_maintain(a)\n"
   ]
  },
  {
   "cell_type": "code",
   "execution_count": null,
   "metadata": {
    "id": "HS_e8A-zlZrS",
    "outputId": "9a7a92c4-82ee-4d93-b1c7-97ae1f17bd81"
   },
   "outputs": [
    {
     "name": "stdout",
     "output_type": "stream",
     "text": [
      "0\n"
     ]
    }
   ],
   "source": [
    "print(0%2)"
   ]
  },
  {
   "cell_type": "code",
   "execution_count": null,
   "metadata": {
    "id": "oNdJSoZ0m3ah"
   },
   "outputs": [],
   "source": [
    "def rearrange(a):\n",
    "    for i in range(len(a)):\n",
    "        if(i%2 == 0):\n",
    "            if (a[i]>0):\n",
    "                for j in range(i,len(a)):\n",
    "                    if(a[j]<0):\n",
    "                        temp = a[j]\n",
    "                        while(j>i):\n",
    "                            a[j] = a[j-1]\n",
    "                            j = j - 1\n",
    "                        a[i] = temp\n",
    "                        break\n",
    "        else:\n",
    "            if (a[i]<0):\n",
    "                for j in range(i,len(a)):\n",
    "                    if(a[j]>0):\n",
    "                        temp = a[j]\n",
    "                        while(j>i):\n",
    "                            a[j] = a[j-1]\n",
    "                            j = j - 1\n",
    "                        a[i] = temp\n",
    "                        break\n",
    "\n",
    "\n",
    "\n",
    "a = [1, 2, 3, -4, -1, 4]\n",
    "rearrange(a)\n",
    "print(a)\n",
    "\n"
   ]
  },
  {
   "cell_type": "code",
   "execution_count": null,
   "metadata": {
    "id": "60khClK_m3ah"
   },
   "outputs": [],
   "source": [
    "def right_rotate(i,j,a):\n",
    "    temp = a[j]\n",
    "    while(j>i):\n",
    "        a[j] = a[j-1]\n",
    "        j = j - 1\n",
    "    a[i] = temp\n",
    "\n",
    "\n",
    "def rearrange(a):\n",
    "    for i in range(len(a)):\n",
    "        if(i%2 == 0):\n",
    "            if (a[i]>0):\n",
    "                for j in range(i,len(a)):\n",
    "                    if(a[j]<0):\n",
    "                        right_rotate(i,j,a)\n",
    "                        break\n",
    "        else:\n",
    "            if (a[i]<0):\n",
    "                for j in range(i,len(a)):\n",
    "                    if(a[j]>0):\n",
    "                        right_rotate(i,j,a)\n",
    "                    break\n",
    "\n",
    "\n",
    "\n",
    "\n",
    "a = [1, 2, 3, -4, -1, 4]\n",
    "rearrange(a)\n",
    "print(a)\n"
   ]
  },
  {
   "cell_type": "code",
   "execution_count": null,
   "metadata": {
    "id": "--gXC1-fm3ah"
   },
   "outputs": [],
   "source": [
    "def checkSum_zero(a):\n",
    "    x = {0: True}\n",
    "    sum1 = 0\n",
    "    for i in range(len(a)):\n",
    "        print(x)\n",
    "        sum1 = sum1 + a[i]\n",
    "        if(x.get(sum1) != None):\n",
    "            print(sum1)\n",
    "            return True\n",
    "        else:\n",
    "            x[sum1] = True\n",
    "\n",
    "\n",
    "a = [0,4,2,-3,1,6]\n",
    "print(checkSum_zero(a))"
   ]
  },
  {
   "cell_type": "markdown",
   "metadata": {
    "id": "IWsNV0Gtm3ai"
   },
   "source": [
    "## *italicized text*#### Factorial Normal"
   ]
  },
  {
   "cell_type": "code",
   "execution_count": null,
   "metadata": {
    "id": "3qFCA5dhm3ai"
   },
   "outputs": [],
   "source": [
    "def factorial(n):\n",
    "    if(n==1):\n",
    "        return n\n",
    "    else:\n",
    "        return factorial( n*n-1)\n",
    "print(factorial(5))"
   ]
  },
  {
   "cell_type": "markdown",
   "metadata": {
    "id": "1HZEQM4Hm3ai"
   },
   "source": [
    "#### Factorial Of LARGE Number"
   ]
  },
  {
   "cell_type": "code",
   "execution_count": null,
   "metadata": {
    "id": "1Ed_KDjRm3aj",
    "outputId": "0f900e86-6c43-4e0c-e7d6-9fe5b8ec7216"
   },
   "outputs": [
    {
     "name": "stdout",
     "output_type": "stream",
     "text": [
      "0\n",
      "0\n",
      "2\n",
      "2\n",
      "1\n",
      "0\n",
      "1\n",
      "0\n",
      "0\n",
      "1\n",
      "5\n",
      "0\n",
      "3\n",
      "0\n",
      "4\n",
      "0\n",
      "1\n",
      "2\n",
      "0\n",
      "3\n",
      "0\n",
      "8\n",
      "8\n",
      "2\n",
      "6\n",
      "3\n",
      "[3, 6, 2, 8, 8, 0, 0]\n"
     ]
    }
   ],
   "source": [
    "def fact_large_number(n):\n",
    "    q = 2\n",
    "    a = [0]*100\n",
    "    a[0] = 1\n",
    "    len1 = 1\n",
    "    num = 0\n",
    "    while(q<=n):\n",
    "        x = 0\n",
    "        while(x<len1):\n",
    "            a[x] = a[x]*q\n",
    "            a[x] = a[x]+num\n",
    "            num = a[x]//10\n",
    "            print(num)\n",
    "            a[x] = a[x]%10\n",
    "            x = x + 1\n",
    "\n",
    "        while(num!=0):\n",
    "            a[len1] = num%10\n",
    "            num = num//10\n",
    "            len1 = len1 + 1\n",
    "\n",
    "        q = q + 1\n",
    "\n",
    "    out = []\n",
    "    for i in range(len1-1,-1,-1):\n",
    "        out.append(a[i])\n",
    "\n",
    "    print(out)\n",
    "\n",
    "fact_large_number(10)"
   ]
  },
  {
   "cell_type": "code",
   "execution_count": null,
   "metadata": {
    "id": "UdqvHHOslZrU",
    "outputId": "3b03bf0c-907e-4ed1-a40f-e99196e9621c"
   },
   "outputs": [
    {
     "data": {
      "text/plain": [
       "[3, 6, 2, 8, 8, 0, 0]"
      ]
     },
     "execution_count": 38,
     "metadata": {},
     "output_type": "execute_result"
    }
   ],
   "source": [
    "def fact_large_number(n):\n",
    "    next_product = 2\n",
    "    array = [0] * n\n",
    "    array[0] = 1\n",
    "    carry = 0\n",
    "    lenght = 1\n",
    "\n",
    "    while(next_product <= n):\n",
    "        x = 0\n",
    "        while(x < lenght):\n",
    "            product_curr = array[x] * next_product + carry\n",
    "            carry = product_curr // 10\n",
    "            array[x] = product_curr % 10\n",
    "            x = x + 1\n",
    "\n",
    "        while(carry != 0):\n",
    "            array[lenght] = carry % 10\n",
    "            carry = carry // 10\n",
    "            lenght = lenght + 1\n",
    "\n",
    "        next_product = next_product + 1\n",
    "\n",
    "    output = []\n",
    "    for i in range(lenght-1, -1, -1):\n",
    "        output.append(array[i])\n",
    "\n",
    "    return output\n",
    "fact_large_number(10)"
   ]
  },
  {
   "cell_type": "code",
   "execution_count": null,
   "metadata": {
    "id": "Tls8abugm3aj",
    "outputId": "063dcf21-af3c-4245-b3cb-c40fd53ed715"
   },
   "outputs": [
    {
     "name": "stdout",
     "output_type": "stream",
     "text": [
      "180\n"
     ]
    }
   ],
   "source": [
    "def max_product(a):\n",
    "    max_so_far = a[0]\n",
    "    max_ending_here = a[0]\n",
    "    min_ending_here = a[0]\n",
    "\n",
    "    for i in range(1,len(a)):\n",
    "        if (a[i]<0):\n",
    "            max_ending_here,min_ending_here = min_ending_here,max_ending_here\n",
    "        max_ending_here = max(a[i],max_ending_here*a[i])\n",
    "        min_ending_here = min(a[i],min_ending_here*a[i])\n",
    "\n",
    "        max_so_far = max(max_ending_here,max_so_far)\n",
    "\n",
    "    return max_so_far\n",
    "\n",
    "a =  [6, -3, -10, 0, 2]\n",
    "print(max_product(a))"
   ]
  },
  {
   "cell_type": "code",
   "execution_count": null,
   "metadata": {
    "colab": {
     "base_uri": "https://localhost:8080/"
    },
    "executionInfo": {
     "elapsed": 50,
     "status": "ok",
     "timestamp": 1757406851075,
     "user": {
      "displayName": "Sulaiman T",
      "userId": "03489698800880169818"
     },
     "user_tz": -330
    },
    "id": "8czp4tycm3aj",
    "outputId": "2c90ee86-ee57-48a9-e330-f81484c4215a"
   },
   "outputs": [
    {
     "name": "stdout",
     "output_type": "stream",
     "text": [
      "180\n"
     ]
    }
   ],
   "source": [
    "def max_product(array):\n",
    "    max_product_till_here = array[0]\n",
    "    min_product_till_here = array[0]\n",
    "    max_product_so_far = array[0]\n",
    "    n = len(array)\n",
    "    for i in range(1, n):\n",
    "        if(array[i] < 0):\n",
    "            max_product_till_here,min_product_till_here = min_product_till_here, max_product_till_here\n",
    "\n",
    "        max_product_till_here = max(array[i], max_product_till_here* array[i])\n",
    "        min_product_till_here = min(array[i], min_product_till_here*array[i])\n",
    "\n",
    "        max_product_so_far = max(max_product_so_far, max_product_till_here)\n",
    "\n",
    "    return max_product_so_far\n",
    "a =  [6, -3, -10, 0, 2]\n",
    "print(max_product(a))"
   ]
  },
  {
   "cell_type": "code",
   "execution_count": null,
   "metadata": {
    "id": "3KUNxvipm3ak"
   },
   "outputs": [],
   "source": [
    "print(\"6 6 2 3 1 4 1 5 6 2 8 7 4 2 1 3 4 5 9 6\".replace(\" \", \",\"))"
   ]
  },
  {
   "cell_type": "code",
   "execution_count": null,
   "metadata": {
    "id": "ybh64ByKm3ak"
   },
   "outputs": [],
   "source": [
    "a = [2,6,1,9,4,5,3]\n",
    "a = list(set(a))\n",
    "a.sort\n",
    "print(a)\n",
    "count = 1\n",
    "\n",
    "for i in range(1,len(a)):\n",
    "    print(\"a[i]-1 -->\",a[i]-1 ,\"        a[i-1]--->\",a[i-1])\n",
    "    if(a[i]-1 == a[i-1]):\n",
    "        count = count+ 1\n",
    "\n",
    "print(count)"
   ]
  },
  {
   "cell_type": "code",
   "execution_count": null,
   "metadata": {
    "id": "MQa3TyY9m3ak"
   },
   "outputs": [],
   "source": [
    "def findLongestConseqSubseq(a, N):\n",
    "    a = list(set(a))\n",
    "    a.sort()\n",
    "    N = len(a)\n",
    "    print(a)\n",
    "    count = 0\n",
    "    if(a[0]==a[1]-1):\n",
    "        count = 1\n",
    "        for i in range(1,N):\n",
    "            if(a[i]-1 == a[i-1]):\n",
    "                count = count + 1\n",
    "            else:\n",
    "                break\n",
    "    return count\n",
    "\n",
    "a = [1,9,3,10,4,20,2]\n",
    "findLongestConseqSubseq(a, len(a))\n"
   ]
  },
  {
   "cell_type": "markdown",
   "metadata": {
    "id": "hqAMEiyPvpRM"
   },
   "source": [
    "#### Longest consequtive sequece\n",
    "\n",
    "here any item can come in any order, not necessarily subsequece\n",
    "\n",
    "1. Brute force:\n",
    "    o(n^2) : for each element we will do linear search and check if the next greater element is present or not\n",
    "\n",
    "2. Better Approach:\n",
    "    o(nlogn) :\n",
    "    Sort the elements,\n",
    "    and the check if the last element is + 1 = next element,\n",
    "    count the streak\n",
    "\n",
    "3. Optimal:\n",
    "    O(n) Time and O(n) Space : we can simply store each element in a stack,\n",
    "    for each element we'll check if the prev element is found,\n",
    "    if not found we'll figure out that's going to be our starting elements, once we figuire that out, we'll start checking increasing elements are found or not.\n",
    "\n"
   ]
  },
  {
   "cell_type": "code",
   "execution_count": null,
   "metadata": {
    "id": "L6cMR-D-m3al"
   },
   "outputs": [],
   "source": [
    "def longestIncreasing(a):\n",
    "    max_a = [1]*len(a)\n",
    "    print(\"befoe max_a\",max_a)\n",
    "\n",
    "    for j in range(1,len(a)):\n",
    "#         print(max_a)\n",
    "        for i in range(0,j):\n",
    "            if (a[i]<=a[j]):\n",
    "                max_a[j] = max(max_a[j],max_a[i]+1)\n",
    "    return max_a[-1]\n",
    "a = [-1,3,4,5,2,2,2,2]\n",
    "print(longestIncreasing(a))\n"
   ]
  },
  {
   "cell_type": "markdown",
   "metadata": {
    "id": "rLRFTMUsm3al"
   },
   "source": [
    "#### find_n_by_k_repeat ( self)"
   ]
  },
  {
   "cell_type": "code",
   "execution_count": null,
   "metadata": {
    "id": "0wzRFm2nm3al"
   },
   "outputs": [],
   "source": [
    "def find_n_by_k_repeat(a,k):\n",
    "    times_req = int(len(a)/k)\n",
    "    m = [0]*1000\n",
    "    out = []\n",
    "    for i in range(len(a)):\n",
    "        m[a[i]] = m[a[i]]+1\n",
    "    for i in range(len(a)):\n",
    "        if(m[a[i]]>times_req):\n",
    "            out.append(a[i])\n",
    "    return(list(set(out)))\n",
    "\n",
    "a =[3, 1, 2, 2, 1, 2, 3, 3]\n",
    "print(find_n_by_k_repeat(a,4))\n",
    "\n"
   ]
  },
  {
   "cell_type": "markdown",
   "metadata": {
    "id": "SKM8Pz9Am3al"
   },
   "source": [
    "#### find_n_by_k_repeat (gfg - sort O(n log n ))"
   ]
  },
  {
   "cell_type": "code",
   "execution_count": null,
   "metadata": {
    "id": "3_Y1b5HNm3al"
   },
   "outputs": [],
   "source": [
    "def find_n_by_k_repeat(a,k):\n",
    "    times_req = int(len(a)/k)\n",
    "    a.sort()\n",
    "    print(a)\n",
    "    count = 1\n",
    "    out_count = 0\n",
    "    i = 0\n",
    "    j = i+1\n",
    "    out = []\n",
    "    while(i<len(a) and j<len(a)):\n",
    "        if(a[i]==a[j]):\n",
    "            j = j + 1\n",
    "            count = count+1\n",
    "        else:\n",
    "            count = 1\n",
    "            i = j\n",
    "            j = j+1\n",
    "\n",
    "        if(count>times_req):\n",
    "            out.append(a[i])\n",
    "            out_count = len(out)\n",
    "\n",
    "    print(out)\n",
    "    return (out_count)\n",
    "\n",
    "a =[3, 1, 2, 2, 1, 2, 3, 3]\n",
    "print(find_n_by_k_repeat(a,4))\n",
    "\n",
    "\n",
    "\n"
   ]
  },
  {
   "cell_type": "markdown",
   "metadata": {
    "id": "K6lpaOdTm3am"
   },
   "source": [
    "#### find_n_by_k_repeat (gfg - Tetris -O(nK))"
   ]
  },
  {
   "cell_type": "code",
   "execution_count": null,
   "metadata": {
    "id": "-gRSwsIdm3am"
   },
   "outputs": [],
   "source": [
    "def find_n_by_k(a,k):\n",
    "    times_req = len(a)//k\n",
    "    temp = []\n",
    "    out = []\n",
    "\n",
    "    for i in range(k-1):\n",
    "        temp.append([0,0])\n",
    "\n",
    "    for i in range(len(a)):\n",
    "        j = 0\n",
    "\n",
    "        while(j < k - 1):\n",
    "            if(temp[j][0] == a[i]):\n",
    "                temp[j][1] += 1\n",
    "                break\n",
    "            j = j + 1\n",
    "\n",
    "        if(j == k-1):\n",
    "            l = 0\n",
    "\n",
    "            while(l<k-1):\n",
    "                if(temp[l][1]==0):\n",
    "                    temp[l][0] = a[i]\n",
    "                    temp[l][1] = 1\n",
    "                    break\n",
    "                l = l + 1\n",
    "\n",
    "            if(l == k - 1):\n",
    "                l = 0\n",
    "                while(l<k-1):\n",
    "                    temp[l][1] -= 1\n",
    "                    l = l + 1\n",
    "        print(temp)\n",
    "\n",
    "    for i in range(k-1):\n",
    "        count = 0\n",
    "        for j in range(len(a)):\n",
    "            if(temp[i][1]==a[j]):\n",
    "                count = count + 1\n",
    "        if(count>times_req):\n",
    "            out.append(temp[i][0])\n",
    "\n",
    "    return out\n",
    "\n",
    "a =[3, 1, 2, 2, 1, 2, 3, 3]\n",
    "print(find_n_by_k(a,4))\n"
   ]
  },
  {
   "cell_type": "markdown",
   "metadata": {
    "id": "3bCWoKXJm3am"
   },
   "source": [
    "#### Maximum Profit by Buying and Selling Atmost Twice"
   ]
  },
  {
   "cell_type": "code",
   "execution_count": null,
   "metadata": {
    "id": "XYc9kBAJm3an"
   },
   "outputs": [],
   "source": [
    "def maxProfit(price,k):\n",
    "    t = [[0 for i in range (len(price))] for i in range(k)]\n",
    "    print(t)\n",
    "    for i in range(k):\n",
    "        t[0]=t[1]\n",
    "        t[1] = [0]*len(price)\n",
    "        print(\"t=\", t)\n",
    "        max_diff = -99999\n",
    "        for j in range(1,len(price)):\n",
    "            max_diff = max(max_diff,t[0][j-1]-price[j-1])\n",
    "            t[1][j] = max(t[1][j-1],price[j]+max_diff)\n",
    "        print(t)\n",
    "\n",
    "    print(t[1][len(price)-1])\n",
    "\n",
    "\n",
    "a = [10, 22, 5, 75, 65, 80]\n",
    "maxProfit(a,2)\n",
    "\n",
    "\n"
   ]
  },
  {
   "cell_type": "markdown",
   "metadata": {
    "id": "eU4py69lvpRO"
   },
   "source": [
    "#### Maximum Profit by Buying and Selling Atmost Twice - Simple Code solution"
   ]
  },
  {
   "cell_type": "code",
   "execution_count": null,
   "metadata": {
    "id": "WHWJWJ7CvpRO",
    "outputId": "0c192e39-cd9f-4965-e579-eaca62c2c8b0"
   },
   "outputs": [
    {
     "name": "stdout",
     "output_type": "stream",
     "text": [
      "[75, 75, 75, 15, 15, 0]\n",
      "[75, 87, 87, 87, 87, 87]\n"
     ]
    }
   ],
   "source": [
    "def maximum_profil_atmost_2times(array):\n",
    "    n = len(array)\n",
    "\n",
    "    # we are iterating from right to left\n",
    "    # we are trying to find a transaction in the right side\n",
    "    # as in we are trying to find the profic occurred from the second transaction\n",
    "\n",
    "    profit_array = [0] * n\n",
    "    max_sell_price = array[n-1]\n",
    "\n",
    "    for i in range(n-2, -1, -1):\n",
    "        if(max_sell_price < array[i]):\n",
    "            max_sell_price = array[i]\n",
    "\n",
    "        profit_array[i] = max(profit_array[i+1],  max_sell_price - array[i])\n",
    "\n",
    "    print(profit_array)\n",
    "    min_buy_price = array[0]\n",
    "    for i in range(1, n):\n",
    "        if(min_buy_price>array[i]):\n",
    "            min_buy_price = array[i]\n",
    "\n",
    "        profit_array[i] = max(profit_array[i-1], profit_array[i]+ (array[i] - min_buy_price))\n",
    "\n",
    "\n",
    "    print(profit_array)\n",
    "\n",
    "array = [10, 22, 5, 75, 65, 80]\n",
    "maximum_profil_atmost_2times(array)"
   ]
  },
  {
   "cell_type": "code",
   "execution_count": null,
   "metadata": {
    "id": "IjCTpn4zm3an"
   },
   "outputs": [],
   "source": [
    "t = [[1 for i in range (8)] for i in range(2)]\n",
    "t[0]=t[1]\n",
    "t[1] = [0]*8\n",
    "print(t)\n"
   ]
  },
  {
   "cell_type": "markdown",
   "metadata": {
    "id": "-2ZNl-qYm3an"
   },
   "source": [
    "#### Max Profit doing atmost K transactions (Tushar)"
   ]
  },
  {
   "cell_type": "code",
   "execution_count": null,
   "metadata": {
    "id": "FB2sSnbVm3ao"
   },
   "outputs": [],
   "source": [
    "def maxProfit(prices,k):\n",
    "    t = [[0 for  i in range(len(prices))] for i in range(k+1)]\n",
    "\n",
    "\n",
    "\n",
    "    for i in range(1,k+1):\n",
    "        maxDiff = -9999\n",
    "        for j in range(len(prices)):\n",
    "            t[i][j] = max(t[i][j-1],prices[j]+maxDiff)\n",
    "            maxDiff = max(maxDiff,t[i-1][j]-prices[j])\n",
    "\n",
    "    for i in range(len(t)):\n",
    "        print(t[i])\n",
    "\n",
    "    print(t[-1][-1])\n",
    "\n",
    "\n",
    "\n",
    "a = [2, 5, 7, 1, 4, 3, 1, 3]\n",
    "maxProfit(a,3)\n",
    "\n",
    "\n",
    "\n",
    "\n"
   ]
  },
  {
   "cell_type": "markdown",
   "metadata": {
    "id": "Q4iW-ihFm3ao"
   },
   "source": [
    "#### Maximum Profit of At most K transaction (the another Youtube Guy)"
   ]
  },
  {
   "cell_type": "code",
   "execution_count": null,
   "metadata": {
    "id": "Iibtv91Lm3ao"
   },
   "outputs": [],
   "source": [
    "def  max_profit_k_transaction(a, k):\n",
    "    t = [[None for  i in range(k+1)] for i in range(len(a))]\n",
    "\n",
    "    for i in range(len(a)):\n",
    "        for j in range(k+1):\n",
    "            if(i == 0 or j == 0):\n",
    "                t[i][j] = 0\n",
    "                continue\n",
    "\n",
    "            max_diff = 0\n",
    "\n",
    "            if(max_diff < t[i-1][j]):\n",
    "                max_diff = t[i-1][j]\n",
    "\n",
    "            for k in range(i-2, -1,-1):\n",
    "                if(max_diff < (t[k][j-1] + (a[i] - a[k+1]))):\n",
    "                    max_diff = (t[k][j-1] + (a[i] - a[k+1]))\n",
    "            if(max_diff <  (a[i] - a[0])):\n",
    "                max_diff = (a[i] - a[0])\n",
    "            t[i][j] = max_diff\n",
    "    for i in range(len(t)):\n",
    "        print(t[i])\n",
    "\n",
    "\n",
    "a = [2, 5, 7, 1, 4, 3, 1, 3]\n",
    "max_profit_k_transaction(a, 3)"
   ]
  },
  {
   "cell_type": "markdown",
   "metadata": {
    "id": "WCx4-uH_m3ap"
   },
   "source": [
    "#### Maximum Profit of At most K transaction (Self)"
   ]
  },
  {
   "cell_type": "code",
   "execution_count": null,
   "metadata": {
    "id": "lZ22tJ8gm3ap"
   },
   "outputs": [],
   "source": [
    "def max_profit_k_transaction(a,transactions):\n",
    "    t = [[0 for i in range(len(a))] for i in range(transactions+1)]\n",
    "\n",
    "    for i in range(1,transactions+1):\n",
    "        for j in range(1,len(a)):\n",
    "            max_diff = float('-inf')\n",
    "            for m in range(j):\n",
    "                max_diff = max(max_diff, a[j] - a[m] + t[i-1][m])\n",
    "            t[i][j] = max(max_diff, t[i][j-1])\n",
    "\n",
    "    for i in range(len(t)):\n",
    "        print(t[i])\n",
    "a = [2, 5, 7, 1, 4, 3, 1, 3]\n",
    "max_profit_k_transaction(a, 3)"
   ]
  },
  {
   "cell_type": "markdown",
   "metadata": {
    "id": "Da6I1jBFm3ap"
   },
   "source": [
    "#### Maximum Profit of At most K transaction (Self Optimized)"
   ]
  },
  {
   "cell_type": "code",
   "execution_count": null,
   "metadata": {
    "id": "vhaJI8l7m3ap"
   },
   "outputs": [],
   "source": [
    "def max_profit_atmost_k_transaction(a,transactions):\n",
    "    t = [[0 for i in range(len(a))] for i in range(transactions+1)]\n",
    "\n",
    "    for i in range(1,transactions+1):\n",
    "        max_diff = float('-inf')\n",
    "        for j in range(1,len(a)):\n",
    "            max_diff = max(max_diff, t[i-1][j-1] - a[j-1])\n",
    "            t[i][j] = max(t[i][j-1], a[j]+max_diff)\n",
    "\n",
    "    for i in range(len(t)):\n",
    "        print(t[i])\n",
    "\n",
    "a = [2, 5, 7, 1, 4, 3, 1, 3]\n",
    "max_profit_atmost_k_transaction(a, 3)\n"
   ]
  },
  {
   "cell_type": "markdown",
   "metadata": {
    "id": "dxVGsu_gm3aq"
   },
   "source": [
    "#### find the subset of the array (quickSort - binary Search)"
   ]
  },
  {
   "cell_type": "code",
   "execution_count": null,
   "metadata": {
    "id": "4wy2GyLmm3aq"
   },
   "outputs": [],
   "source": [
    "\n",
    "\n",
    "def quickSort(low,high,a):\n",
    "    if low<high:\n",
    "        p = partition(low,high,a)\n",
    "        quickSort(low,p-1,a)\n",
    "        quickSort(p+1,high,a)\n",
    "\n",
    "def partition(low,high,a):\n",
    "    pivot = high\n",
    "    i = low - 1\n",
    "    j = low\n",
    "\n",
    "    for j in range(low,high):\n",
    "        if(a[j]<=a[pivot]):\n",
    "            i = i+1\n",
    "            a[i],a[j] = a[j],a[i]\n",
    "\n",
    "    i = i+1\n",
    "    a[high],a[i] = a[i],a[high]\n",
    "    return i\n",
    "\n",
    "def binarySearch (low,high,a,k):\n",
    "    if(low<high):\n",
    "        mid = int((low+high)/2)\n",
    "        if(a[mid]==k):\n",
    "            return True\n",
    "        elif(k<a[mid]):\n",
    "            return binarySearch(low,mid,a,k)\n",
    "        else:\n",
    "            return binarySearch(mid+1,high,a,k)\n",
    "\n",
    "def find_subArray(a_super,a_sub):\n",
    "    quickSort(0,len(a_super)-1,a_super)\n",
    "    print(a_super)\n",
    "    flag = 0\n",
    "    for i in range(len(a_sub)):\n",
    "        if (binarySearch(0,len(a_super),a_super,a_sub[i])) != True:\n",
    "            flag = 1\n",
    "    if(flag == 1):\n",
    "        print(\"No\")\n",
    "    else:\n",
    "        print(\"Yes\")\n",
    "\n",
    "t = int(input())\n",
    "\n",
    "while(t>0):\n",
    "    a_super_size,a_sub_size = input().split()\n",
    "    a_super = list(map(int,input().split()))\n",
    "    a_sub = list(map(int,input().split()))\n",
    "    find_subArray(a_super,a_sub)\n",
    "    t = t- 1\n"
   ]
  },
  {
   "cell_type": "markdown",
   "metadata": {
    "id": "b0y7e2wFm3aq"
   },
   "source": [
    "#### Find Subset (Hashing)"
   ]
  },
  {
   "cell_type": "code",
   "execution_count": null,
   "metadata": {
    "id": "l7QY-Jdhm3aq"
   },
   "outputs": [],
   "source": [
    "def findSubSet(a_super,a_sub):\n",
    "    hashSet = set()\n",
    "    for i in range(len(a_super)):\n",
    "        hashSet.add(a_super[i])\n",
    "\n",
    "    for i in range(len(a_sub)):\n",
    "        if (a_sub[i] in hashSet) !=True:\n",
    "            print(\"No\")\n",
    "            return\n",
    "\n",
    "    print(\"Yes\")\n",
    "    return\n",
    "\n",
    "t = int(input())\n",
    "while(t>0):\n",
    "    a_super_size,a_sub_size = input().split()\n",
    "    a_super = list(map(int,input().split()))\n",
    "    a_sub = list(map(int,input().split()))\n",
    "    findSubSet(a_super,a_sub)\n",
    "    t = t- 1"
   ]
  },
  {
   "cell_type": "code",
   "execution_count": null,
   "metadata": {
    "id": "oG_f3lHIm3ar"
   },
   "outputs": [],
   "source": [
    "print(\"11 3 7 1\".replace(\" \",\",\"))"
   ]
  },
  {
   "cell_type": "code",
   "execution_count": null,
   "metadata": {
    "id": "o6n2cKn0m3ar"
   },
   "outputs": [],
   "source": []
  },
  {
   "cell_type": "markdown",
   "metadata": {
    "id": "pvfqg6Ehm3ar"
   },
   "source": [
    "#### find Triplets for a sum (hashing)"
   ]
  },
  {
   "cell_type": "code",
   "execution_count": 3,
   "metadata": {
    "id": "62I7ewpIm3ar"
   },
   "outputs": [
    {
     "data": {
      "text/plain": [
       "1"
      ]
     },
     "execution_count": 3,
     "metadata": {},
     "output_type": "execute_result"
    }
   ],
   "source": [
    "def find3Numbers(a,X):\n",
    "\n",
    "    for i in range(len(a)):\n",
    "        hashSet = set()\n",
    "        currentSum = X-a[i]\n",
    "        for j in range(i+1,len(a)):\n",
    "            if(currentSum-a[j] in hashSet):\n",
    "                return 1\n",
    "            hashSet.add(a[j])\n",
    "    return 0\n",
    "a = [1, 4, 45, 6, 10, 8]\n",
    "find3Numbers(a,22)"
   ]
  },
  {
   "cell_type": "code",
   "execution_count": 5,
   "metadata": {},
   "outputs": [
    {
     "data": {
      "text/plain": [
       "True"
      ]
     },
     "execution_count": 5,
     "metadata": {},
     "output_type": "execute_result"
    }
   ],
   "source": [
    "def find3NumberHash(array, sum):\n",
    "    n = len(array)\n",
    "    \n",
    "    for i in range(n):\n",
    "        a = array[i]\n",
    "        sum_sub_a = sum - a\n",
    "        hash = {}\n",
    "        for j in range(i+1, n):\n",
    "            b = array[j]\n",
    "            c = sum_sub_a - b\n",
    "            if(hash.get(c) != None):\n",
    "                return True\n",
    "            hash[b] = True\n",
    "\n",
    "    return False\n",
    "a = [1, 4, 45, 6, 10, 8]\n",
    "find3NumberHash(a,22)"
   ]
  },
  {
   "cell_type": "markdown",
   "metadata": {
    "id": "vXA-2Ri8m3ar"
   },
   "source": [
    "#### find Triplets (two Pointer)"
   ]
  },
  {
   "cell_type": "code",
   "execution_count": null,
   "metadata": {
    "id": "6nd8d4iIm3ar"
   },
   "outputs": [],
   "source": [
    "def find3Numbers(a,X):\n",
    "    a.sort()\n",
    "    for i in range(len(a)-2):\n",
    "        l = i + 1\n",
    "\n",
    "        r = len(a)-1\n",
    "\n",
    "        while(l<r):\n",
    "            sum1 = a[i] + a[l] + a[r]\n",
    "            if( sum1 == X):\n",
    "                return True\n",
    "            elif(sum1<X):\n",
    "                l=l+1\n",
    "            else:\n",
    "                r=r - 1\n",
    "\n",
    "a = [1, 4, 45, 6, 10, 8]\n",
    "find3Numbers(a,22)\n"
   ]
  },
  {
   "cell_type": "code",
   "execution_count": 4,
   "metadata": {
    "colab": {
     "base_uri": "https://localhost:8080/"
    },
    "executionInfo": {
     "elapsed": 42,
     "status": "ok",
     "timestamp": 1757520565233,
     "user": {
      "displayName": "Sulaiman T",
      "userId": "03489698800880169818"
     },
     "user_tz": -330
    },
    "id": "4Idot3pAYUPx",
    "outputId": "9a239685-707d-449b-d122-6e79bb4c191c"
   },
   "outputs": [
    {
     "name": "stdout",
     "output_type": "stream",
     "text": [
      "6\n"
     ]
    }
   ],
   "source": [
    "def trap(height):\n",
    "    n = len(height)\n",
    "    if n == 0:\n",
    "        return 0\n",
    "\n",
    "    # Pair (height, index) and sort by height descending\n",
    "    bars = sorted([(h, i) for i, h in enumerate(height)], reverse=True)\n",
    "\n",
    "    # Tallest bar defines initial boundaries\n",
    "    _, idx = bars[0]\n",
    "    left = right = idx\n",
    "    total_water = 0\n",
    "\n",
    "    for h, i in bars[1:]:\n",
    "        if i < left:  # New bar on the left side\n",
    "            for j in range(i, left):\n",
    "                total_water += max(0, h - height[j])\n",
    "            left = i\n",
    "        elif i > right:  # New bar on the right side\n",
    "            for j in range(right + 1, i + 1):\n",
    "                total_water += max(0, h - height[j])\n",
    "            right = i\n",
    "        # If inside [left, right], it's already covered\n",
    "\n",
    "    return total_water\n",
    "\n",
    "print(trap([0,1,0,2,1,0,1,3,2,1,2,1]))  # Output: 6\n"
   ]
  },
  {
   "cell_type": "markdown",
   "metadata": {
    "id": "IYm38xd2m3as"
   },
   "source": [
    "#### Trapping rainwater (self)"
   ]
  },
  {
   "cell_type": "code",
   "execution_count": null,
   "metadata": {
    "id": "xBuBt3NPm3as"
   },
   "outputs": [],
   "source": [
    "def trapRainWater(a):\n",
    "    capacity = 0\n",
    "\n",
    "    for i in range(1,len(a)-1):\n",
    "        max_right= max(a[i:])\n",
    "        max_left= max(a[:i])\n",
    "        small = min(max_right,max_left)\n",
    "        if(small>a[i]):\n",
    "            capacity = capacity + small-a[i]\n",
    "\n",
    "\n",
    "    return capacity\n",
    "\n",
    "a = [2, 0, 2]\n",
    "print(trapRainWater(a))"
   ]
  },
  {
   "cell_type": "code",
   "execution_count": null,
   "metadata": {
    "id": "IaxTYNyXm3as"
   },
   "outputs": [],
   "source": []
  },
  {
   "cell_type": "code",
   "execution_count": null,
   "metadata": {
    "id": "Ac-pneUXm3as"
   },
   "outputs": [],
   "source": [
    "def trappingWater(a):\n",
    "    left=[0]*len(a)\n",
    "    max1 = -999999\n",
    "    for i in range(len(a)):\n",
    "        max1 = max(max1,a[i])\n",
    "        left[i] = max1\n",
    "\n",
    "\n",
    "    right = [0]*len(a)\n",
    "    max1 = -999999\n",
    "    for i in range(len(a)-1,-1,-1):\n",
    "        max1 = max(max1,a[i])\n",
    "        right[i] = max1\n",
    "\n",
    "\n",
    "    capacity = 0\n",
    "    min1 = 9999999\n",
    "    print(left)\n",
    "    print(right)\n",
    "    for i in range(1,len(a)-1):\n",
    "        min1 = min(left[i],right[i])\n",
    "        if( min1 > a[i]):\n",
    "            capacity = capacity + (min1 - a[i])\n",
    "\n",
    "    return capacity\n",
    "\n",
    "a = [3,0,0,2,0,4]\n",
    "print(trappingWater(a))\n"
   ]
  },
  {
   "cell_type": "code",
   "execution_count": null,
   "metadata": {
    "id": "sA0v_hQnm3at"
   },
   "outputs": [],
   "source": []
  },
  {
   "cell_type": "code",
   "execution_count": null,
   "metadata": {
    "id": "wm-UVwkYm3at"
   },
   "outputs": [],
   "source": [
    "print(\"3 4 1 9 56 7 9 12\".replace(\" \",\",\")"
   ]
  },
  {
   "cell_type": "code",
   "execution_count": null,
   "metadata": {
    "id": "irWuugw3m3at"
   },
   "outputs": [],
   "source": [
    "def minDiff(a,m):\n",
    "    a.sort()\n",
    "    print(a)\n",
    "    min1 = float('inf')\n",
    "    for i in range(0,len(a)-(m-1)):\n",
    "        print(i)\n",
    "        min1 = min(min1,a[i+(m-1)]-a[i])\n",
    "    return min1\n",
    "\n",
    "a = [1, 3, 4, 7, 9, 9, 12, 56]\n",
    "m = \n",
    "minDiff(a, len(a)-1)\n",
    "\n"
   ]
  },
  {
   "cell_type": "markdown",
   "metadata": {
    "id": "QyNsqWjUm3at"
   },
   "source": [
    "#### find the min lenth of the subarray greater than whose sum is Give X (Simple Solution)"
   ]
  },
  {
   "cell_type": "code",
   "execution_count": null,
   "metadata": {
    "id": "R8rR0GCVm3au"
   },
   "outputs": [],
   "source": [
    "def sb(a,n,x):\n",
    "    output = 0\n",
    "    min1 = float('inf')\n",
    "    for i in range(len(a)):\n",
    "        for j in range(len(a),i,-1):\n",
    "            sum1 = sum(a[i:j])\n",
    "            if(sum1>x):\n",
    "                if(min1>=len(a[i:j])):\n",
    "                    min1 = len(a[i:j])\n",
    "\n",
    "\n",
    "    return (min1)\n",
    "\n",
    "a = [1, 2, 4]\n",
    "sb(a,len(a),8)\n",
    "\n"
   ]
  },
  {
   "cell_type": "markdown",
   "metadata": {
    "id": "lfCAZOtym3au"
   },
   "source": [
    "#### find the min lenth of the subarray greater than whose sum is Give X (Efficient Solution)"
   ]
  },
  {
   "cell_type": "code",
   "execution_count": null,
   "metadata": {
    "id": "6ZYJZ3xam3au"
   },
   "outputs": [],
   "source": [
    "def sb(a,n,X):\n",
    "    start = 0\n",
    "    end = 0\n",
    "    current_sum = 0\n",
    "    min_length = len(a)+1\n",
    "\n",
    "    while(end < len(a)):\n",
    "        while(current_sum <= X and end < len(a)):\n",
    "            current_sum = current_sum + a[end]\n",
    "\n",
    "            end = end + 1\n",
    "        print(\"current_sum_______\",current_sum)\n",
    "        while(current_sum > X and start < len(a)):\n",
    "            print(\"minimuum length\",min_length)\n",
    "            print(\"end=\",end,\"start=\",start)\n",
    "            if(end - start < min_length):\n",
    "                min_length = end - start\n",
    "\n",
    "            current_sum = current_sum - a[start]\n",
    "            start = start + 1\n",
    "\n",
    "    return min_length\n",
    "\n",
    "a = [6,3,4,5,4,3,7,9]\n",
    "print(sb(a,len(a),16))\n"
   ]
  },
  {
   "cell_type": "code",
   "execution_count": null,
   "metadata": {
    "id": "UHcY3MKHm3au"
   },
   "outputs": [],
   "source": [
    "def sb(a,n,X):\n",
    "    start = 0\n",
    "    end = 0\n",
    "    current_sum = 0\n",
    "    min_length = len(a)+1\n",
    "\n",
    "    while(end < len(a)):\n",
    "        current_sum = current_sum + a[end]\n",
    "        print(\"current_sum_______\",current_sum)\n",
    "        while(current_sum > X and start < len(a)):\n",
    "            print(\"minimuum length\",min_length)\n",
    "            print(\"end=\",end,\"start=\",start)\n",
    "            if(end - start+1 < min_length):\n",
    "                min_length = end - start\n",
    "\n",
    "            current_sum = current_sum - a[start]\n",
    "            start = start + 1\n",
    "        end = end + 1\n",
    "\n",
    "    return min_length\n",
    "\n",
    "a = [6,3,4,5,4,3,7,9]\n",
    "print(sb(a,len(a),16))\n"
   ]
  },
  {
   "cell_type": "code",
   "execution_count": null,
   "metadata": {
    "id": "i_ZfYbn4m3av"
   },
   "outputs": [],
   "source": [
    "print(\"6 3 4 5 4 3 7 9\".replace(\" \",\",\"))"
   ]
  },
  {
   "cell_type": "code",
   "execution_count": null,
   "metadata": {
    "id": "Kz_fKpxMm3aw"
   },
   "outputs": [],
   "source": [
    "a = [3,4,5,4,3,7]\n",
    "print(sum(a))"
   ]
  },
  {
   "cell_type": "markdown",
   "metadata": {
    "id": "_p6lgBYrm3aw"
   },
   "source": [
    "#### Min sub array whith sum greater than k"
   ]
  },
  {
   "cell_type": "code",
   "execution_count": null,
   "metadata": {
    "id": "xVUhefnjm3aw"
   },
   "outputs": [],
   "source": [
    "def sb(a,n,x):\n",
    "    start = 0\n",
    "    end = 0\n",
    "    min_len = len(a)+1\n",
    "    current_sum = 0\n",
    "\n",
    "    while(end<len(a)):\n",
    "        while(current_sum <= x and end<len(a)):\n",
    "            current_sum = current_sum + a[end]\n",
    "            end = end  + 1\n",
    "\n",
    "        while(current_sum > x and start < len(a)):\n",
    "            if(end - start < min_len):\n",
    "                min_len = end - start\n",
    "            current_sum = current_sum - a[start]\n",
    "            start = start + 1\n",
    "    return min_len\n",
    "a = [6,3,4,5,4,3,7,9]\n",
    "print(sb(a,len(a),16))\n"
   ]
  },
  {
   "cell_type": "markdown",
   "metadata": {
    "id": "Xy2_iHKkm3aw"
   },
   "source": [
    "#### Min sub array whith sum greater than k [ Sliding Window (self) ]"
   ]
  },
  {
   "cell_type": "code",
   "execution_count": null,
   "metadata": {
    "id": "YOBjZf2am3ax"
   },
   "outputs": [],
   "source": [
    "def min_subArray_k_sum(a, k):\n",
    "    end = 0\n",
    "    start = 0\n",
    "    curr_sum = 0\n",
    "    min_len = float('inf')\n",
    "\n",
    "    while(end < len(a)):\n",
    "        if(curr_sum + a[end] <= k):\n",
    "            curr_sum = curr_sum + a[end]\n",
    "            end = end + 1\n",
    "\n",
    "        else:\n",
    "            min_len = min(min_len, end - start+1)\n",
    "            curr_sum = curr_sum - a[start]\n",
    "            start = start + 1\n",
    "    print(min_len)\n",
    "\n",
    "\n",
    "a = [1, 4, 45, 6, 0, 19]\n",
    "min_subArray_k_sum(a, 51)"
   ]
  },
  {
   "cell_type": "markdown",
   "metadata": {
    "id": "IX2KJJKzm3ax"
   },
   "source": [
    "#### 3 way partition"
   ]
  },
  {
   "cell_type": "code",
   "execution_count": null,
   "metadata": {
    "id": "csosN3-em3ax"
   },
   "outputs": [],
   "source": [
    "def threeWayPartition(a,partition_array):\n",
    "    part_1 = list()\n",
    "    part_2 = list()\n",
    "    part_3 = list()\n",
    "\n",
    "    for i in range(0,len(a)):\n",
    "        if(a[i]<=partition_array[0]):\n",
    "            part_1.append(a[i])\n",
    "\n",
    "    for i in range(0,len(a)):\n",
    "        if(a[i] ==partition_array[1] ):\n",
    "            part_2.append(a[i])\n",
    "        if(a[i] >partition_array[1]):\n",
    "            part_3.append(a[i])\n",
    "    out_array = part_1+part_2+part_3\n",
    "    if(len(out_array) == len(a)):\n",
    "        return 1\n",
    "    else:\n",
    "        return 0\n",
    "\n",
    "\n",
    "a = [87,78,16,94]\n",
    "b = [36,72]\n",
    "threeWayPartition(a,b)"
   ]
  },
  {
   "cell_type": "code",
   "execution_count": null,
   "metadata": {
    "id": "7igh9Fw6m3ax"
   },
   "outputs": [],
   "source": [
    "print(\"87 78 16 94\".replace(\" \",\",\"))"
   ]
  },
  {
   "cell_type": "code",
   "execution_count": null,
   "metadata": {
    "id": "tDSXEExdm3ay"
   },
   "outputs": [],
   "source": [
    "def threeWayPartition(a, x, y):\n",
    "    part_1 = list()\n",
    "    part_2 = list()\n",
    "    part_3 = list()\n",
    "    for i in range(0,len(a)):\n",
    "        if(a[i]<=x):\n",
    "            part_1.append(a[i])\n",
    "\n",
    "    for i in range(0,len(a)):\n",
    "        if(a[i] == y ):\n",
    "            part_2.append(a[i])\n",
    "        if(a[i] > y):\n",
    "            part_3.append(a[i])\n",
    "    out_array = part_1+part_2+part_3\n",
    "\n",
    "    print(out_array)\n",
    "    if(len(out_array) == len(a)):\n",
    "        return 1\n",
    "    else:\n",
    "        return 0\n",
    "a = [87,78,16,94]\n",
    "b = [36,72]\n",
    "threeWayPartition(a,36,72)"
   ]
  },
  {
   "cell_type": "markdown",
   "metadata": {
    "id": "38gyMM3dm3ay"
   },
   "source": [
    "#### French national flag:"
   ]
  },
  {
   "cell_type": "code",
   "execution_count": null,
   "metadata": {
    "id": "aeC5rKXvm3ay"
   },
   "outputs": [],
   "source": [
    "def frenchFlag(a):\n",
    "    i = 0\n",
    "    while(i<len(a)):\n",
    "        if(a[i]>0):\n",
    "            for j in range(i+1,len(a)):\n",
    "                if(a[j] == 0):\n",
    "                    a[i],a[j] = a[j],a[i]\n",
    "                    break\n",
    "        i = i + 1\n",
    "    k = len(a)-1\n",
    "    while(k>0):\n",
    "        if(a[k]<2):\n",
    "            for j in range(j-1,0,-1):\n",
    "                if(a[j]==2):\n",
    "                    a[k],a[j] = a[j],a[k]\n",
    "                    break\n",
    "        k = k - 1\n",
    "    return a\n",
    "\n",
    "a = [0,1,2,1,2,1,1,1,0,0]\n",
    "print(frenchFlag(a))\n"
   ]
  },
  {
   "cell_type": "markdown",
   "metadata": {
    "id": "TMg4VMtem3az"
   },
   "source": [
    "#### FrenchFlag (o(n))"
   ]
  },
  {
   "cell_type": "code",
   "execution_count": null,
   "metadata": {
    "id": "YZPKmoSjm3az"
   },
   "outputs": [],
   "source": [
    "def frenchFlag(a):\n",
    "    start = 0\n",
    "    end = len(a)-1\n",
    "    i = 0\n",
    "    while(i<=end):\n",
    "        if(a[i] == 0):\n",
    "            a[i],a[start] = a[start],a[i]\n",
    "            start = start + 1\n",
    "            i = i + 1\n",
    "        elif(a[i]==2):\n",
    "            a[i],a[end] = a[end],a[i]\n",
    "            end = end - 1\n",
    "        else:\n",
    "            i = i + 1\n",
    "    return a\n",
    "a = [0,1,2,1,2,1,1,1,0,0]\n",
    "print(frenchFlag(a))\n"
   ]
  },
  {
   "cell_type": "markdown",
   "metadata": {
    "id": "Ujd2M8Ekm3az"
   },
   "source": [
    "#### frenchFlag (B2B)"
   ]
  },
  {
   "cell_type": "code",
   "execution_count": null,
   "metadata": {
    "id": "mjF_8zx9m3a0"
   },
   "outputs": [],
   "source": [
    "def frenchFlagB(a):\n",
    "    start = 0\n",
    "    i = 0\n",
    "    pivot = 1\n",
    "    j = len(a)-1\n",
    "    end = len(a)-1\n",
    "    while(i<=len(a)-1):\n",
    "        if(a[i]<pivot):\n",
    "            a[i],a[start] = a[start],a[i]\n",
    "            i = i + 1\n",
    "            start = start + 1\n",
    "        else:\n",
    "            i = i + 1\n",
    "    while(j>=0):\n",
    "        if(a[j]>pivot):\n",
    "            a[j],a[end] = a[end],a[j]\n",
    "            j = j - 1\n",
    "            end = end - 1\n",
    "        else :\n",
    "            j = j - 1\n",
    "\n",
    "    return a\n",
    "\n",
    "a = [0,1,2,1,2,1,1,1,0,0]\n",
    "print(frenchFlagB(a))\n",
    "\n"
   ]
  },
  {
   "cell_type": "markdown",
   "metadata": {
    "id": "KgX0qDchm3a0"
   },
   "source": [
    "#### 3Way partition"
   ]
  },
  {
   "cell_type": "code",
   "execution_count": null,
   "metadata": {
    "id": "AZ37zTuKm3a0"
   },
   "outputs": [],
   "source": [
    "def threeWayPartition(a,x,y):\n",
    "    i = 0\n",
    "    start = 0\n",
    "    j = len(a)-1\n",
    "    end = len(a)-1\n",
    "    while(i<=len(a)-1):\n",
    "        if(a[i]<x):\n",
    "            a[i],a[start] = a[start],a[i]\n",
    "            i = i + 1\n",
    "            start = start + 1\n",
    "        else:\n",
    "            i = i + 1\n",
    "    print(a)\n",
    "    while(j>=start):\n",
    "        print(\"j=\",j,\"a[j]=\",a[j])\n",
    "        if(a[j]>y):\n",
    "            a[j],a[end] = a[end],a[j]\n",
    "            j = j - 1\n",
    "            end = end - 1\n",
    "        else:\n",
    "            j = j - 1\n",
    "    print(a)\n",
    "a = [76,8,75,22,59,96,30,38,36]\n",
    "threeWayPartition(a,44,62)\n"
   ]
  },
  {
   "cell_type": "code",
   "execution_count": null,
   "metadata": {
    "id": "a1ezc22sm3a0"
   },
   "outputs": [],
   "source": [
    "def solve(A, K):\n",
    "    n = len(A)\n",
    "    if(len(A)==1):\n",
    "        return 0;\n",
    "    cnt = 0\n",
    "    bad = 0\n",
    "    for i in range(len(a)):\n",
    "        if(i<=K):\n",
    "            cnt = cnt+ 1\n",
    "        i=0\n",
    "        j=0\n",
    "    length= float('inf')\n",
    "\n",
    "    while(j<n):\n",
    "        if(A[j] > K):\n",
    "            bad += 1;\n",
    "        j += 1;\n",
    "\n",
    "        while(i<n and j-i>=cnt):\n",
    "            length = min(length, bad);\n",
    "            if(A[i]>K):\n",
    "                bad -= 1\n",
    "            i += 1\n",
    "\n",
    "    if(length!=float('inf')):\n",
    "        return length\n",
    "    else:\n",
    "        return 0\n",
    "\n",
    "\n",
    "a = [2, 1, 5, 6, 3]\n",
    "k = 3\n",
    "\n",
    "solve(a,k)"
   ]
  },
  {
   "cell_type": "markdown",
   "metadata": {
    "id": "AeV0gkB1m3a1"
   },
   "source": [
    "#### Min Swap K together (O(n^2))"
   ]
  },
  {
   "cell_type": "code",
   "execution_count": null,
   "metadata": {
    "id": "i8GVQKZXm3a1"
   },
   "outputs": [],
   "source": [
    "def swapK(a,k):\n",
    "    count = 0\n",
    "    bad = 0\n",
    "    minSwap = float('inf')\n",
    "\n",
    "    for i in range(len(a)):\n",
    "        if(a[i]<=k):\n",
    "            count = count + 1\n",
    "\n",
    "\n",
    "    for i in range(0,len(a)-(count-1),1):\n",
    "        bad = 0\n",
    "        for j in range(i,i+(count),1):\n",
    "            if(a[j]>k):\n",
    "                bad = bad + 1\n",
    "        minSwap = min(minSwap,bad)\n",
    "\n",
    "    return minSwap\n",
    "\n",
    "\n",
    "a = [2, 7, 9, 5, 8, 7, 4]\n",
    "k = 6\n",
    "swapK(a,k)"
   ]
  },
  {
   "cell_type": "markdown",
   "metadata": {
    "id": "C8uG0UjEm3a1"
   },
   "source": [
    "#### Min Swap K together (o(n))"
   ]
  },
  {
   "cell_type": "code",
   "execution_count": null,
   "metadata": {
    "id": "LxtX8eFmm3a1"
   },
   "outputs": [],
   "source": [
    "def minSwap (a, k) :\n",
    "    count = 0\n",
    "    bad = 0\n",
    "    res = 0\n",
    "\n",
    "    for i in range(len(a)):\n",
    "        if(a[i]<=k):\n",
    "            count = count + 1\n",
    "\n",
    "    for i in range(count):\n",
    "        if(a[i]>k):\n",
    "            res = res + 1\n",
    "\n",
    "    i=0\n",
    "    j=count\n",
    "    c=res\n",
    "\n",
    "    while(j<len(a)):\n",
    "        if(a[i]>k):\n",
    "            c = c - 1\n",
    "        if(a[j]>k):\n",
    "            c = c+ 1\n",
    "        res = min(res,c)\n",
    "        i = i + 1\n",
    "        j = j + 1\n",
    "\n",
    "    return res\n",
    "\n",
    "a = [2, 1, 5, 6, 3]\n",
    "k = 3\n",
    "minSwap(a,k)"
   ]
  },
  {
   "cell_type": "markdown",
   "metadata": {
    "id": "6TQ5TV44m3a1"
   },
   "source": [
    "#### Minimum Number of Merge Operation to make an Integer array palindrome"
   ]
  },
  {
   "cell_type": "code",
   "execution_count": 7,
   "metadata": {
    "id": "ZJktI6pGm3a2"
   },
   "outputs": [
    {
     "name": "stdout",
     "output_type": "stream",
     "text": [
      "[1, 5, 10, 30, 11]\n",
      "4\n"
     ]
    }
   ],
   "source": [
    "def min_op_palidrome(a):\n",
    "    i = 0\n",
    "    j = len(a)-1\n",
    "    ans = 0\n",
    "    while(i<j):\n",
    "        if(a[i] == a[j]):\n",
    "            i = i + 1\n",
    "            j = j - 1\n",
    "        elif(a[i]<a[j]):\n",
    "            a[i+1] = a[i] + a[i + 1]\n",
    "            \n",
    "            i = i + 1\n",
    "            ans = ans + 1\n",
    "        else:\n",
    "            a[j-1] = a[j] + a[j-1]\n",
    "            j = j - 1\n",
    "            ans = ans + 1\n",
    "\n",
    "    print(a)\n",
    "    print(ans)\n",
    "a = [1, 4, 5, 9, 11]\n",
    "min_op_palidrome(a)\n"
   ]
  },
  {
   "cell_type": "code",
   "execution_count": null,
   "metadata": {},
   "outputs": [],
   "source": []
  },
  {
   "cell_type": "markdown",
   "metadata": {
    "id": "oXDy19Zhm3a2"
   },
   "source": [
    "#### Median of 2 sorted array with same Size (O(n))"
   ]
  },
  {
   "cell_type": "code",
   "execution_count": null,
   "metadata": {
    "id": "LaQoYPN_m3a2"
   },
   "outputs": [],
   "source": [
    "def median_same_size(a1,a2):\n",
    "\n",
    "    n = len(a1)-1\n",
    "    m1 = -1\n",
    "    m2 = -1\n",
    "    count = 0\n",
    "    i = 0\n",
    "    j = 0\n",
    "    while(count<n+1):\n",
    "        count = count + 1\n",
    "        if(i == n):\n",
    "            m1 = m2\n",
    "            m2 = a2[0]\n",
    "            break\n",
    "\n",
    "        if(j == n):\n",
    "            m1 = m2\n",
    "            m2 = a1[0]\n",
    "            break\n",
    "\n",
    "        if(a1[i]<=a2[j]):\n",
    "            m1 = m2\n",
    "            m2 = a1[i]\n",
    "            i = i + 1\n",
    "        if(a2[j]<=a1[i]):\n",
    "            m1 = m2\n",
    "            m2 = a2[j]\n",
    "            j = j + 1\n",
    "\n",
    "    return (m1+m2)//2\n",
    "\n",
    "ar1 = [1,3,5]\n",
    "ar2 = [2,4,6]\n",
    "\n",
    "print(median_same_size(ar1,ar2))\n"
   ]
  },
  {
   "cell_type": "markdown",
   "metadata": {
    "id": "zmYDuOnrm3a2"
   },
   "source": [
    "#### Median of 2 sorted array (log(n)) - (Binary Search)"
   ]
  },
  {
   "cell_type": "code",
   "execution_count": null,
   "metadata": {
    "id": "M90C9VnBm3a3"
   },
   "outputs": [],
   "source": [
    "def median(start,end,a):\n",
    "\n",
    "    if((end - start)%2 == 0):\n",
    "        print(\"_%2!=0_____median=\",(a[(start+end)//2]))\n",
    "        return(a[(start+end)//2])\n",
    "    else:\n",
    "        left = (end+start)//2\n",
    "        right = left + 1\n",
    "        print(\"%2==0 ___median=\",(a[left]+a[right])//2)\n",
    "        return (a[left]+a[right])//2\n",
    "\n",
    "\n",
    "def median_fun(a_start, a_end, b_start, b_end, a , b):\n",
    "    print(\"_a ->start\",a_start,\"   _a -> end\",a_end,\"   _b->start\",b_start,\"   _b->end\",b_end)\n",
    "\n",
    "    if(a_end - a_start  == 1) and (b_end - b_start==1):\n",
    "        med = ((max(a[a_start],b[b_start])) + (min(b[b_end],a[a_end])))//2\n",
    "        print(a[a_start:a_end+1], b[b_start:b_end+1])\n",
    "        print(\"im here\")\n",
    "        return med\n",
    "\n",
    "    m1 = median(a_start,a_end,a)\n",
    "    m2 = median(b_start,b_end,b)\n",
    "\n",
    "    if(m1 == m2):\n",
    "        print(\"___ = = ___\")\n",
    "        return m1\n",
    "\n",
    "    if(m1<m2):\n",
    "        if((a_end - a_start)  % 2  ==0):\n",
    "            a_start = a_start + ((a_end - a_start)//2)\n",
    "            b_end = b_start + ((b_end - b_start)//2)\n",
    "        else:\n",
    "            a_start = a_start + (a_end - a_start)//2\n",
    "            b_end = b_start+ (b_end - b_start)//2+1\n",
    "\n",
    "    else:\n",
    "        if((b_end-b_start)  % 2 == 0):\n",
    "            b_start = b_start + (b_end - b_start)//2\n",
    "            a_end = a_start+(a_end - a_start)//2\n",
    "        else:\n",
    "            b_start = b_start+ (b_end - b_start)//2\n",
    "            a_end = a_start + (a_end - a_start)//2+1\n",
    "\n",
    "\n",
    "    return median_fun(a_start, a_end, b_start, b_end, a, b)\n",
    "\n",
    "\n",
    "a = [1, 2, 3, 6]\n",
    "b = [4, 6, 8, 10]\n",
    "n_a = len(a)-1\n",
    "n_b = len(b)-1\n",
    "\n",
    "print(median_fun(0,n_a,0,n_b,a,b))"
   ]
  },
  {
   "cell_type": "code",
   "execution_count": null,
   "metadata": {
    "id": "1mL1RPCVm3a3"
   },
   "outputs": [],
   "source": [
    "def median(start,end,a):\n",
    "    if((end - start)%2 == 0):\n",
    "        print(\"_%2!=0_____median=\",(a[(start+end)//2]))\n",
    "        return(a[(end-start)//2])\n",
    "    else:\n",
    "        left = (end - start)//2\n",
    "        right = left + 1\n",
    "        print(\"%2==0 ___median=\",(a[left]+a[right])//2)\n",
    "        return (a[left]+a[right])//2\n",
    "\n",
    "\n",
    "def median_fun(a_start, a_end, b_start, b_end, a , b):\n",
    "    print(\"_a ->start\",a_start,\"   _a -> end\",a_end,\"   _b->start\",b_start,\"   _b->end\",b_end)\n",
    "\n",
    "    #if((a_end-a_start == 0) and ((b_end - b_start == 0))):\n",
    "     #   return (a[0] + b[0])//2\n",
    "\n",
    "\n",
    "    if(a_end - a_start  == 1) and (b_end - b_start==1):\n",
    "        med = ((max(a[a_start],b[b_start])) + (min(b[b_end],a[a_end])))//2\n",
    "        print(a[a_start:a_end+1], b[b_start:b_end+1])\n",
    "        print(\"im here\")\n",
    "        return med\n",
    "\n",
    "    m1 = median(a_start,a_end,a)\n",
    "    m2 = median(b_start,b_end,b)\n",
    "\n",
    "    m1_index = (a_end - a_start)//2\n",
    "    m2_index = (b_end - b_start)//2\n",
    "\n",
    "    if(m1 == m2):\n",
    "        print(\"___ = = ___\")\n",
    "        return m1\n",
    "\n",
    "    if(m1<m2):\n",
    "        a_start = a_start + m1_index\n",
    "\n",
    "        if((a_end - a_start)  % 2  ==0):\n",
    "            b_end = b_start + m2_index\n",
    "        else:\n",
    "            b_end = b_start+ m2_index +   1   #for odd case --->Even Number of elemnts\n",
    "\n",
    "    else:\n",
    "        b_start = b_start + m2_index\n",
    "\n",
    "        if((b_end-b_start)  % 2 == 0):\n",
    "            a_end = a_start + m1_index\n",
    "        else:\n",
    "            a_end = a_start + m1_index+   1  #for odd case --->Even Number of elements\n",
    "\n",
    "\n",
    "    return median_fun(a_start, a_end, b_start, b_end, a, b)\n",
    "\n",
    "\n",
    "a = [1, 2, 3, 6]\n",
    "b = [4, 6, 8, 10]\n",
    "n_a = len(a)-1\n",
    "n_b = len(b)-1\n",
    "\n",
    "print(median_fun(0,n_a,0,n_b,a,b))"
   ]
  },
  {
   "cell_type": "code",
   "execution_count": null,
   "metadata": {
    "id": "DIt7EYikm3a3"
   },
   "outputs": [],
   "source": [
    "#### find Median (test)"
   ]
  },
  {
   "cell_type": "code",
   "execution_count": null,
   "metadata": {
    "id": "tC2rSbj9m3a3"
   },
   "outputs": [],
   "source": [
    "def median(start, end, a):\n",
    "    if((end-start) % 2 ==0 ):\n",
    "        return (a[(end - start)//2])\n",
    "    else:\n",
    "        left = (end - start)//2\n",
    "        right = left + 1\n",
    "        return (a[left]+a[right])//2\n",
    "\n",
    "def find_median(a_start, a_end, b_start, b_end, a, b):\n",
    "    print(\"_a ->start\",a_start,\"   _a -> end\",a_end,\"   _b->start\",b_start,\"   _b->end\",b_end)\n",
    "    print(a[a_start:a_end+1], b[b_start:b_end+1])\n",
    "    print(\"im here\")\n",
    "    if(a_end - a_start ==1) and (b_end - b_start==1):\n",
    "        return ((max(a[a_start],b[b_start])) + (min(a[a_end],b[b_end])))//2\n",
    "\n",
    "    m1 = median(a_start,a_end,a)\n",
    "    m2 = median(b_start,b_end,b)\n",
    "\n",
    "    m1_index = (a_end - a_start)//2\n",
    "    m2_index = (b_end - b_start+1)//2\n",
    "\n",
    "    if(m1 == m2):\n",
    "        return m1\n",
    "\n",
    "    if(m1<m2):\n",
    "        a_start = a_start + m1_index\n",
    "        b_end = b_start + m2_index\n",
    "\n",
    "    else:\n",
    "        b_start = b_start + m2_index\n",
    "        a_end = a_start + m1_index\n",
    "\n",
    "\n",
    "    return find_median(a_start,a_end,b_start,b_end,a,b)\n",
    "\n",
    "\n",
    "\n",
    "a = [1, 2, 3, 6]\n",
    "b = [4, 6, 8, 10]\n",
    "n_a = len(a)-1\n",
    "n_b = len(b)-1\n",
    "\n",
    "print(find_median(0,n_a,0,n_b,a,b))\n"
   ]
  },
  {
   "cell_type": "markdown",
   "metadata": {
    "id": "gK4ZIPVMm3a4"
   },
   "source": [
    "#### Median of sorted array Same size [ mininmal code ]"
   ]
  },
  {
   "cell_type": "code",
   "execution_count": null,
   "metadata": {
    "id": "vB2yeh9dm3a4"
   },
   "outputs": [],
   "source": [
    "def median(start, end, a):\n",
    "    if ((end - start) % 2 == 0):\n",
    "        mid_index = (end + start)//2\n",
    "        return  a[mid_index]\n",
    "    else:\n",
    "        left = (end - start)//2\n",
    "        right = left + 1\n",
    "        return (a[left] + a[right])//2\n",
    "\n",
    "def median_of_2_sorted_array_same_size(start_a, end_a, start_b, end_b, a, b):\n",
    "    print(\"_a ->start\",start_a,\"   _a -> end\",end_a,\"   _b->start\",start_b,\"   _b->end\",end_b)\n",
    "    print(a[start_a:end_a+1], b[start_b:end_b+1])\n",
    "\n",
    "    if (end_a - start_a) == 1 :\n",
    "        print(\"a(start)=\", a[start_a],\"a(start)=\", a[end_a])\n",
    "        print(\"b=(start)\", b[start_b], \"b=(start)\",b[end_b])\n",
    "        print(max(a[start_a],b[start_a]), min(b[end_b],a[end_a]))\n",
    "        median_val = (max(a[start_a],b[start_b]) + min(a[end_a],b[end_b]))//2\n",
    "        return median_val\n",
    "\n",
    "    odd_number_of_elements = False\n",
    "    if(end_a - start_a) %2 == 0:\n",
    "        odd_number_of_elements = True\n",
    "\n",
    "    print(\"odd_number_of_elements \",odd_number_of_elements)\n",
    "\n",
    "    m1 = median(start_a, end_a, a)\n",
    "    m2 = median(start_b, end_b, b)\n",
    "\n",
    "    m1_index = (start_a + end_a ) // 2\n",
    "    m2_index = (start_b + end_b ) //2\n",
    "\n",
    "    if(m1 == m2):\n",
    "        print(\"im here\")\n",
    "        return m1\n",
    "\n",
    "    if(m1< m2):\n",
    "        start_a = m1_index\n",
    "        if(odd_number_of_elements == True):\n",
    "            end_b = m2_index + 1\n",
    "        else:\n",
    "            end_b = m2_index\n",
    "    else:\n",
    "        start_b = m2_index\n",
    "        if(odd_number_of_elements == True):\n",
    "            end_a = m1_index + 1\n",
    "        else:\n",
    "            end_a = m1_index\n",
    "\n",
    "    return median_of_2_sorted_array_same_size(start_a, end_a, start_b, end_b, a, b)\n",
    "\n",
    "a = [1, 2, 3, 6]\n",
    "b = [4, 6, 8, 10]\n",
    "n_a = len(a)-1\n",
    "n_b = len(b)-1\n",
    "\n",
    "print(median_of_2_sorted_array_same_size(0,n_a,0,n_b,a,b))"
   ]
  },
  {
   "cell_type": "markdown",
   "metadata": {
    "id": "3al12Ff7m3a4"
   },
   "source": [
    "#### Median of 2 sorted array [ Different Size] O(log(n))"
   ]
  },
  {
   "cell_type": "code",
   "execution_count": null,
   "metadata": {
    "id": "2ScP0kJxm3a4"
   },
   "outputs": [],
   "source": [
    "def find_median_diff_size(a,b):\n",
    "    print(a,b)\n",
    "    if(len(a)>len(b)):\n",
    "        return find_median_diff_size(b,a)\n",
    "\n",
    "    a_len = len(a)\n",
    "    b_len = len(b)\n",
    "\n",
    "\n",
    "    start = 0\n",
    "    end = a_len\n",
    "\n",
    "    while(start <= end):\n",
    "        print(\"start=\",start,\"end =\",end)\n",
    "        partition_a = (end-start)//2\n",
    "        partition_b = (a_len + b_len + 1)//2 - partition_a\n",
    "\n",
    "        if(partition_a == 0):\n",
    "            max_left_a = float('-inf')\n",
    "        else:\n",
    "            max_left_a = a[partition_a-1]\n",
    "\n",
    "\n",
    "        if(partition_a == a_len):\n",
    "            min_right_a = float('inf')\n",
    "        else:\n",
    "            min_right_a = a[partition_a]\n",
    "\n",
    "\n",
    "        if(partition_b ==0):\n",
    "            max_left_b =  float('-inf')\n",
    "        else:\n",
    "            max_left_b = b[partition_b-1]\n",
    "\n",
    "        if(partition_b == b_len):\n",
    "            min_right_b  = float('inf')\n",
    "        else:\n",
    "            min_right_b = b[partition_b]\n",
    "\n",
    "\n",
    "        if(max_left_a <= min_right_b  and max_left_b <= min_right_a):\n",
    "            if(a_len+b_len %2 == 0):\n",
    "                return (max(max_left_a,max_left_b)+min(max_right_a,max_right_b))//2\n",
    "            else:\n",
    "                return max(max_left_a,max_left_b)\n",
    "\n",
    "        elif(max_left_a > min_right_b):\n",
    "            end = partition_a - 1\n",
    "        else:\n",
    "            start = partition_a + 1\n",
    "\n",
    "\n",
    "a = [2, 3, 5, 8]\n",
    "b = [10, 12, 14, 16, 18, 20]\n",
    "\n",
    "print(find_median_diff_size(a,b))\n",
    "\n"
   ]
  },
  {
   "cell_type": "markdown",
   "metadata": {
    "id": "SMoUSEGmm3a5"
   },
   "source": [
    "#### meadian of Diff Size"
   ]
  },
  {
   "cell_type": "code",
   "execution_count": null,
   "metadata": {
    "id": "C6GCnSLIm3a5"
   },
   "outputs": [],
   "source": [
    "def median_diff_size(a,b):\n",
    "    if(len(a)>len(b)):\n",
    "        return median_diff_size(b,a)\n",
    "\n",
    "    len_a = len(a)\n",
    "    len_b = len(b)\n",
    "\n",
    "    start = 0\n",
    "    end = len_a\n",
    "\n",
    "    while(start <= end):\n",
    "        partition_a = (start+end)//2\n",
    "        partition_b = (len_a+len_b+1)//2 - partition_a\n",
    "\n",
    "        max_left_a = float('-inf') if (partition_a == 0) else a[partition_a - 1]\n",
    "        min_right_a = float('inf') if (partition_a == len_a) else a[partition_a]\n",
    "\n",
    "        max_left_b = float('-inf') if (partition_b == 0) else b[partition_b - 1]\n",
    "        min_right_b = float('inf') if (partition_b == len_b) else b[partition_b]\n",
    "\n",
    "        if(max_left_a <= min_right_b and max_left_b <= min_right_a):\n",
    "            if(len_a + len_b %2 == 0):\n",
    "                return (max(max_left_a, max_left_b)+ min(min_right_a, min_right_b))//2\n",
    "            else:\n",
    "                return max(max_left_a, max_left_b)\n",
    "\n",
    "        elif(max_left_a > min_right_b):\n",
    "            end = partition_a - 1\n",
    "        else:\n",
    "            start = partition_a + 1\n",
    "\n",
    "a = [2, 3, 5, 8]\n",
    "b = [10, 12, 14, 16, 18, 20]\n",
    "\n",
    "print(median_diff_size(a,b))"
   ]
  },
  {
   "cell_type": "code",
   "execution_count": null,
   "metadata": {
    "id": "haw7rCLPm3a5"
   },
   "outputs": [],
   "source": [
    "def median_diff_size(a,b):\n",
    "#     if(len(a)>len(b)):\n",
    "#         return median_diff_size(b,a)\n",
    "\n",
    "    if(len(a) > len(b)):\n",
    "        a ,b = b, a\n",
    "\n",
    "    len_a = len(a)\n",
    "    len_b = len(b)\n",
    "    print(\"len_a=\",len_a)\n",
    "    print(\"len_b=\",len_b)\n",
    "\n",
    "    start = 0\n",
    "    end = len(a)\n",
    "\n",
    "    while(start <= len_a):\n",
    "        partition_a = (start + end)//2\n",
    "        partition_b = (len_a + len_b + 1)//2- partition_a\n",
    "\n",
    "        print(\"partition_a\", partition_a)\n",
    "        print(\"partition_b\", partition_b)\n",
    "\n",
    "\n",
    "\n",
    "        max_left_a = float('-inf') if (partition_a == 0) else a[partition_a - 1]\n",
    "        min_right_a = float('inf') if (partition_a == len_a) else a[partition_a]\n",
    "\n",
    "        max_left_b = float('-inf') if (partition_b == 0) else b[partition_b - 1]\n",
    "        min_right_b = float ('inf') if (partition_b == len_b) else b[partition_b]\n",
    "\n",
    "        if(max_left_a <= min_right_b and max_left_b <= min_right_a):\n",
    "            print(len_a + len_b%2 )\n",
    "            if(len_a + len_b)  %2 == 0:\n",
    "                return float((max(max_left_a,max_left_b)+min(min_right_a,min_right_b))/2 )\n",
    "            else:\n",
    "                return float(max(max_left_a,max_left_b))\n",
    "\n",
    "        elif(max_left_a > min_right_b):\n",
    "            end = partition_a - 1\n",
    "\n",
    "\n",
    "        else:\n",
    "            start = partition_a + 1\n",
    "\n",
    "\n",
    "a = []\n",
    "b = [0, 1, 2, 3, 5, 8, 9]\n",
    "\n",
    "print(median_diff_size(b,a))"
   ]
  },
  {
   "cell_type": "code",
   "execution_count": null,
   "metadata": {
    "id": "QtrcYEoem3a6"
   },
   "outputs": [],
   "source": [
    "if(len(a)==0 and len(b)!=0):\n",
    "        if(len(b)%2 == 0):\n",
    "            mid = len(b)//2\n",
    "            return float((b[mid] + b[mid-1])/2)\n",
    "        else:\n",
    "            mid = len(b)//2\n",
    "            return (b[mid])\n",
    "\n",
    "    if(len(a)!=0 and len(b)==0):\n",
    "        if(len(a)%2 == 0):\n",
    "            mid = len(a)//2\n",
    "            return float((a[mid] + a[mid-1])/2)\n",
    "        else:\n",
    "            mid = len(a)//2\n",
    "            return (a[mid])\n",
    "\n",
    "    if(len(a) == 0 and len(b)==0):\n",
    "        return 0\n",
    "\n",
    "\n",
    "\n",
    "\n",
    "\n",
    "\n",
    "    if(len(b) == 0):\n",
    "        return\n",
    "\n",
    "    len_a = len(a)\n",
    "    len_b = len(b)\n",
    "\n",
    "    start = 0\n",
    "    end = len(a)\n",
    "\n",
    "    while(start <=  len_a):\n",
    "\n",
    "        partition_a = (start + end)//2\n",
    "        partition_b = (len_a + len_b + 1)//2 - partition_a\n",
    "\n",
    "        max_left_a = float('-inf') if (partition_a == 0) else a[partition_a - 1]\n",
    "        min_right_a = float('inf') if (partition_a == len_a) else a[partition_a]\n",
    "        max_left_b = float('-inf') if (partition_b == 0) else b[partition_b - 1]\n",
    "        min_right_b = float ('inf') if (partition_b == len_b) else b[partition_b]\n",
    "\n",
    "        if(max_left_a <= min_right_b and max_left_b <= min_right_a):\n",
    "            if(len_a + len_b) % 2 == 0:\n",
    "                out = ((max(max_left_a,max_left_b)+min(min_right_a,min_right_b)))\n",
    "                if ((out % 2) == 0):\n",
    "                    return (out//2)\n",
    "                else:\n",
    "                    return (out/2)\n",
    "            else:\n",
    "                return (max(max_left_a,max_left_b))\n",
    "\n",
    "        elif(max_left_a > min_right_b):\n",
    "            end = partition_a - 1\n",
    "\n",
    "        else:\n",
    "            start = partition_a + 1"
   ]
  }
 ],
 "metadata": {
  "colab": {
   "provenance": []
  },
  "kernelspec": {
   "display_name": "Python 3",
   "language": "python",
   "name": "python3"
  },
  "language_info": {
   "codemirror_mode": {
    "name": "ipython",
    "version": 3
   },
   "file_extension": ".py",
   "mimetype": "text/x-python",
   "name": "python",
   "nbconvert_exporter": "python",
   "pygments_lexer": "ipython3",
   "version": "3.13.6"
  }
 },
 "nbformat": 4,
 "nbformat_minor": 0
}
