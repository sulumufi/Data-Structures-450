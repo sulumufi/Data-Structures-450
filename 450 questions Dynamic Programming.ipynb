{
 "cells": [
  {
   "cell_type": "markdown",
   "metadata": {
    "id": "_Z33zslThfdG",
    "vscode": {
     "languageId": "plaintext"
    }
   },
   "source": [
    "#### Fibonaccii Series - Recursive Memoization - Top Down approach"
   ]
  },
  {
   "cell_type": "code",
   "execution_count": null,
   "metadata": {
    "id": "kNjX45qghfdH"
   },
   "outputs": [],
   "source": [
    "def fibonacci(n, memo):\n",
    "    if(memo[n] != -1):\n",
    "        return memo[n]\n",
    "    if(n == 0):\n",
    "        return 0\n",
    "    if(n == 1):\n",
    "        return 1\n",
    "\n",
    "    sum_total = fibonacci(n-1, memo) + fibonacci(n-2, memo)\n",
    "    memo[n] = sum_total\n",
    "    return sum_total\n",
    "\n",
    "n = 5\n",
    "memo = [-1] * (n+1)\n",
    "print(fibonacci(n, memo))\n"
   ]
  },
  {
   "cell_type": "markdown",
   "metadata": {
    "id": "MosV4Dn1hfdI"
   },
   "source": [
    "Fibonacci - Bottom Up approach"
   ]
  },
  {
   "cell_type": "code",
   "execution_count": null,
   "metadata": {
    "id": "StNzlIgihfdJ"
   },
   "outputs": [],
   "source": [
    "def fibonacci(n):\n",
    "    memo = [None] * (n+1)\n",
    "    memo[0] = 0\n",
    "    memo[1] = 1\n",
    "\n",
    "    for i in range(2, n+1):\n",
    "        memo[i] = memo[i-1] + memo[i-2]\n",
    "\n",
    "    print(memo)\n",
    "    return memo[n]\n",
    "\n",
    "n = 5\n",
    "print(fibonacci(n))"
   ]
  },
  {
   "cell_type": "markdown",
   "metadata": {
    "id": "656kmUA9hfdJ"
   },
   "source": [
    "#### Coin change problem - Recursive approach"
   ]
  },
  {
   "cell_type": "code",
   "execution_count": null,
   "metadata": {
    "id": "ktenhNbHhfdJ"
   },
   "outputs": [],
   "source": [
    "\n",
    "\n",
    "def coin_change(n, coins):\n",
    "    print(n, coins)\n",
    "    if(n == 0):\n",
    "        return 0\n",
    "    if(n < 0):\n",
    "        return float('inf')\n",
    "\n",
    "    min_coins = float('inf')\n",
    "\n",
    "    for coin in coins:\n",
    "        count = coin_change(n-coin, coins)\n",
    "        min_coins = min(min_coins, count + 1)\n",
    "\n",
    "    return min_coins\n",
    "\n",
    "\n",
    "coins = [1, 2, 5]\n",
    "n = 11\n",
    "coin_change(n, coins)\n"
   ]
  },
  {
   "cell_type": "markdown",
   "metadata": {
    "id": "6Jssk24lhfdK"
   },
   "source": [
    "#### Coin change - Recursive - Memoization"
   ]
  },
  {
   "cell_type": "code",
   "execution_count": null,
   "metadata": {
    "id": "aFF67a9ChfdL"
   },
   "outputs": [],
   "source": [
    "def coin_change(n, coins, memo):\n",
    "    if(memo[n] != -1):\n",
    "        return memo[n]\n",
    "\n",
    "    if(n == 0):\n",
    "        return 0\n",
    "\n",
    "    if(n < 0):\n",
    "        return float('inf')\n",
    "\n",
    "    min_count = float('inf')\n",
    "    for coin in coins:\n",
    "        count = coin_change(n-coin, coins, memo)\n",
    "        min_count = min(min_count, count + 1)\n",
    "\n",
    "    memo[n] = min_count\n",
    "    return min_count\n",
    "\n",
    "n = 11\n",
    "memo = [-1] * (n+1)\n",
    "coins = [1,2,5]\n",
    "count = coin_change(n, coins, memo)\n",
    "print(count)\n"
   ]
  },
  {
   "cell_type": "code",
   "execution_count": null,
   "metadata": {
    "id": "9CISzZJkhfdL"
   },
   "outputs": [],
   "source": [
    "class Solution:\n",
    "\n",
    "    def coin_change(self, n, coins, memo):\n",
    "        if(n == 0):\n",
    "            print(\"increasing ...\")\n",
    "            self.possible_ways = self.possible_ways + 1\n",
    "\n",
    "        if(memo[n] != -1):\n",
    "            return memo[n]\n",
    "\n",
    "        if(n == 0):\n",
    "            return 0\n",
    "\n",
    "        if(n < 0):\n",
    "            return float('inf')\n",
    "\n",
    "        min_count = float('inf')\n",
    "        for coin in coins:\n",
    "            count = self.coin_change(n-coin, coins, memo)\n",
    "            min_count = min(min_count, count + 1)\n",
    "\n",
    "        memo[n] = min_count\n",
    "        return min_count\n",
    "\n",
    "    def count(self, coins, Sum):\n",
    "        memo = [-1] * (Sum+1)\n",
    "        self.possible_ways = 0\n",
    "        # print(coins, Sum, possible_ways)\n",
    "        count = self.coin_change(Sum, coins, memo)\n",
    "\n",
    "        return self.possible_ways\n",
    "\n",
    "\n",
    "s  = Solution()\n",
    "n = 4\n",
    "coins = [1, 2, 3]\n",
    "\n",
    "s.count(coins, n)"
   ]
  },
  {
   "cell_type": "markdown",
   "metadata": {
    "id": "CoAMeu-WhfdM"
   },
   "source": [
    "#### Coin Change - Problem - Bottom Up approach"
   ]
  },
  {
   "cell_type": "code",
   "execution_count": null,
   "metadata": {
    "id": "1HN2C9cYhfdM"
   },
   "outputs": [],
   "source": [
    "def coin_change_bottom_up(coins, amout):\n",
    "    memo = [float('inf')] * (amout+1)\n",
    "\n",
    "    memo [0] = 0\n",
    "\n",
    "    for i in range(1, amout+1):\n",
    "        for coin in coins:\n",
    "            if(coin <= i):\n",
    "                remaining = i - coin\n",
    "                memo[i] = min(memo[i], memo[remaining] + 1)\n",
    "\n",
    "    print(memo)\n",
    "\n",
    "n = 11\n",
    "memo = [-1] * (n+1)\n",
    "coins = [1,2,5]\n",
    "count = coin_change_bottom_up(coins, n)\n",
    "print(count)"
   ]
  },
  {
   "cell_type": "markdown",
   "metadata": {
    "id": "Y3C3f2sYhfdN"
   },
   "source": [
    "#### Coin Change - Number of Unique ways to make change"
   ]
  },
  {
   "cell_type": "code",
   "execution_count": null,
   "metadata": {
    "id": "pOdgY7pthfdN"
   },
   "outputs": [],
   "source": [
    "#User function Template for python3\n",
    "\n",
    "class Solution:\n",
    "    def count(self, coins, Sum):\n",
    "        dp = [ [None] * (Sum+1) for _ in range(len(coins) + 1)]\n",
    "        # print(dp)\n",
    "\n",
    "        for i in range(len(coins)+1):\n",
    "            dp[i][0] = 1\n",
    "\n",
    "        for i in range(1, (Sum + 1)):\n",
    "            dp[0][i] = 0\n",
    "\n",
    "\n",
    "        for i in range(1, len(coins) + 1):\n",
    "            for j in range(1, (Sum + 1)):\n",
    "                print(dp)\n",
    "                print(i,j)\n",
    "                coin = coins[i - 1]\n",
    "                print(\"coin -->\", coin)\n",
    "\n",
    "                if(j >=  coin):\n",
    "                    dp[i][j] = dp[i-1][j] + dp[i][j - coin]\n",
    "                else:\n",
    "                    dp[i][j] = dp[i-1][j]\n",
    "\n",
    "        print(dp)\n",
    "\n",
    "coins = [1, 2, 5]\n",
    "amount= 5\n",
    "\n",
    "s = Solution()\n",
    "s.count(coins, amount)"
   ]
  },
  {
   "cell_type": "markdown",
   "metadata": {
    "id": "Kmx5jObXhfdN"
   },
   "source": [
    "#### 0/1 Knapsack Problem - Bottom Up approach"
   ]
  },
  {
   "cell_type": "code",
   "execution_count": null,
   "metadata": {
    "id": "nOr1Gf84hfdN"
   },
   "outputs": [],
   "source": [
    "def knapsackProblem(capacity, val, wt):\n",
    "    dp = [[None] * (capacity + 1)  for _ in range(len(wt))]\n",
    "\n",
    "    row_n = capacity+1\n",
    "    col_m =  len(wt)\n",
    "    # print(col_m)\n",
    "\n",
    "    for i in range(row_n):\n",
    "        item_weight = wt[0]\n",
    "        # print(item_weight)\n",
    "        if(item_weight > i):\n",
    "            dp[0][i] = 0\n",
    "        else :\n",
    "            dp[0][i] = val[0]\n",
    "\n",
    "    for i in dp:\n",
    "        print(i)\n",
    "\n",
    "    for i in range(1, col_m):\n",
    "        for j in range(row_n):\n",
    "            if(j >= wt[i]):\n",
    "                remaining_weight = j - wt[i]\n",
    "                dp[i][j] = max(dp[i-1][j], val[i] + dp[i-1][remaining_weight])\n",
    "\n",
    "            else :\n",
    "                dp[i][j] = dp[i-1][j]\n",
    "\n",
    "    print(dp)\n",
    "    return dp[i][j]\n",
    "\n",
    "capacity = 5\n",
    "val = [60, 50, 70, 30]\n",
    "wt = [1, 2, 3, 4]\n",
    "\n",
    "capacity = 5\n",
    "val = [20, 0, 0, 0, 0]\n",
    "wt =  [1,  2,  3,  4,  5]\n",
    "\n",
    "knapsackProblem(capacity, val, wt)\n",
    "\n"
   ]
  },
  {
   "cell_type": "markdown",
   "metadata": {
    "id": "GmvQwRlphfdN"
   },
   "source": [
    "#### Binomial Co-efficient Problem - Dynamic Programming problem"
   ]
  },
  {
   "cell_type": "code",
   "execution_count": null,
   "metadata": {
    "id": "GCwBUJd5hfdN"
   },
   "outputs": [],
   "source": [
    "def binomialCoefficient(n, r):\n",
    "    dp = [[None] * (n+1) for _ in range(n+1)]\n",
    "\n",
    "    for i in range(n+1):\n",
    "        for j in range(n+1):\n",
    "            if(j==0):\n",
    "                dp[i][j] = 1\n",
    "            if(i==j) :\n",
    "                dp[i][j] = 1\n",
    "\n",
    "    for i in range(2, n+1):\n",
    "        for j in range(1, i):\n",
    "            dp[i][j] = dp[i-1][j-1] + dp[i-1][j]\n",
    "\n",
    "    for i in dp:\n",
    "        print(i)\n",
    "\n",
    "    return dp[5][2]\n",
    "\n",
    "n = 5\n",
    "r = 2\n",
    "\n",
    "binomialCoefficient(n, r)"
   ]
  },
  {
   "cell_type": "markdown",
   "metadata": {
    "id": "eW2nqzzrhfdN"
   },
   "source": [
    "#### Binomial Coefficient - O(r) Space Complexity"
   ]
  },
  {
   "cell_type": "code",
   "execution_count": null,
   "metadata": {
    "id": "I8pYeGWChfdO"
   },
   "outputs": [],
   "source": [
    "def binomialCoefficient_optimalSpace(n, r):\n",
    "    dp = [0] * (r+1)\n",
    "\n",
    "    dp[0] = 1\n",
    "\n",
    "    # print(dp)\n",
    "\n",
    "    for i in range(1, n+1):\n",
    "        print(dp)\n",
    "        for j in range(r, 0, -1):\n",
    "            print(i, j)\n",
    "            dp[j] = dp[j] + dp[j-1]\n",
    "\n",
    "    print(dp[r])\n",
    "\n",
    "\n",
    "n = 4\n",
    "r =4\n",
    "binomialCoefficient_optimalSpace(n,r)"
   ]
  },
  {
   "cell_type": "markdown",
   "metadata": {
    "id": "YqfVoIGwhfdO"
   },
   "source": [
    "#### Binomial Coefficient -  Recursion"
   ]
  },
  {
   "cell_type": "code",
   "execution_count": null,
   "metadata": {
    "id": "38yjiC3dhfdO"
   },
   "outputs": [],
   "source": [
    "def binomialCoefficient_recursion(n, r, dp):\n",
    "    if(dp[n][r] != None):\n",
    "        return dp[n][r]\n",
    "\n",
    "    if(n == r or r==0):\n",
    "        return 1\n",
    "\n",
    "    ans = (binomialCoefficient_recursion(n-1, r-1, dp)) + (binomialCoefficient_recursion(n-1, r, dp))\n",
    "    dp[n][r] = ans\n",
    "    return ans\n",
    "\n",
    "n = 5\n",
    "r = 2\n",
    "dp = [ [None] * (n+1) for _ in range(n+1)]\n",
    "\n",
    "binomialCoefficient_recursion(n, r, dp)"
   ]
  },
  {
   "cell_type": "markdown",
   "metadata": {
    "id": "mpmVUERkhfdO"
   },
   "source": [
    "#### Permutation:"
   ]
  },
  {
   "cell_type": "code",
   "execution_count": null,
   "metadata": {
    "id": "qgeZN_mChfdO"
   },
   "outputs": [],
   "source": [
    "def permutationCoeff( n, k):\n",
    "    MOD = 10**9 + 7  # Define the modulo value\n",
    "    ans = 1\n",
    "    for i in range(n, n - k, -1):\n",
    "        ans = (ans * i) % MOD  # Take modulo at each step to avoid overflow\n",
    "    return ans\n",
    "\n",
    "permutationCoeff(4,2)\n"
   ]
  },
  {
   "cell_type": "markdown",
   "metadata": {
    "id": "AV6EcAB5hfdO"
   },
   "source": [
    "#### Permuation Coefficient - Dyanamic Programmig:"
   ]
  },
  {
   "cell_type": "code",
   "execution_count": null,
   "metadata": {
    "id": "tud1mtWvhfdO"
   },
   "outputs": [],
   "source": [
    "def permutationCoefficient_DP(n, r):\n",
    "    fact = [ None ] * (n+1)\n",
    "\n",
    "    fact [0] = 1\n",
    "    for i in range(1, n+1):\n",
    "        fact[i] = fact[i-1] * i\n",
    "\n",
    "    print(fact)\n",
    "\n",
    "    return fact[n]/fact[n-r]\n",
    "\n",
    "permutationCoefficient_DP(4,2)\n",
    "\n"
   ]
  },
  {
   "cell_type": "markdown",
   "metadata": {
    "id": "Duh0GEmzhfdO"
   },
   "source": [
    "#### Nth Catalan Numbers"
   ]
  },
  {
   "cell_type": "code",
   "execution_count": null,
   "metadata": {
    "id": "kntXma3khfdO"
   },
   "outputs": [],
   "source": [
    "def nthCatalanRecursion(n, dp):\n",
    "    if (dp[n] != None):\n",
    "        return dp[n]\n",
    "\n",
    "\n",
    "    if (n == 0 or n == 1):\n",
    "        return 1\n",
    "\n",
    "    ans = 0\n",
    "    for i in range(1, n+1):\n",
    "        left = i-1\n",
    "        right = n - i\n",
    "\n",
    "        ans = ans + (nthCatalanRecursion(left, dp) * nthCatalanRecursion(right, dp))\n",
    "\n",
    "    dp[n] = ans\n",
    "    return ans\n",
    "\n",
    "n = 2\n",
    "dp = [None] * (n+1)\n",
    "nthCatalanRecursion(n, dp)"
   ]
  },
  {
   "cell_type": "markdown",
   "metadata": {
    "id": "tktti6HChfdP"
   },
   "source": [
    "#### Nth Catalan number - Bottom Up approach"
   ]
  },
  {
   "cell_type": "code",
   "execution_count": null,
   "metadata": {
    "id": "KV14sIdPhfdP"
   },
   "outputs": [],
   "source": [
    "def nthCatalanBottomUp(n):\n",
    "    dp = [0] * (n+1)\n",
    "    dp[0]= 1\n",
    "    dp[1] = 1\n",
    "\n",
    "    for i in range(2, n+1):\n",
    "        print(\"  i -- >\", i)\n",
    "        for j in range(1, i+1):\n",
    "            print(\"G-->\", j-1, i-j)\n",
    "            dp[i] = dp[i] + (dp[j-1] * dp[i-j])\n",
    "\n",
    "    print(dp)\n",
    "\n",
    "nthCatalanBottomUp(7)\n",
    "\n"
   ]
  },
  {
   "cell_type": "markdown",
   "metadata": {
    "id": "PI88WUQqhfdP"
   },
   "source": [
    "#### Matrix chain Multiplication - Recursive approach"
   ]
  },
  {
   "cell_type": "code",
   "execution_count": null,
   "metadata": {
    "id": "ttsdzSdghfdP"
   },
   "outputs": [],
   "source": [
    "def matrixChainRecursive(i, j, array):\n",
    "    print(i, j)\n",
    "    if(i >= j):\n",
    "        return 0\n",
    "\n",
    "    min_val = float('inf')\n",
    "    for k in range(i, j):\n",
    "        ans = (array[i-1] * array[k] * array[j]) + matrixChainRecursive(i, k, array) + matrixChainRecursive(k+1, j, array)\n",
    "        min_val = min(min_val, ans)\n",
    "\n",
    "    return min_val\n",
    "\n",
    "array = [40,  20 , 30, 10, 30]\n",
    "ans = matrixChainRecursive(1, len(array)-1, array)\n",
    "print(ans)"
   ]
  },
  {
   "cell_type": "markdown",
   "metadata": {
    "id": "Wd3yJ89KhfdP"
   },
   "source": [
    "#### Edit Distance - Recursive approach"
   ]
  },
  {
   "cell_type": "code",
   "execution_count": null,
   "metadata": {
    "id": "LtUEmpMHhfdP"
   },
   "outputs": [],
   "source": [
    "def editDistaceRecursive(source, destination, i, j, memo):\n",
    "    if(memo[i][j] != None):\n",
    "        return memo[i][j]\n",
    "    print(source, destination, i, j)\n",
    "\n",
    "    if(i < 0):\n",
    "        memo[i][j] = j+1\n",
    "        return memo[i][j]\n",
    "\n",
    "    if(j < 0):\n",
    "        memo[i][j] = i+1\n",
    "        return memo[i][j]\n",
    "\n",
    "\n",
    "    if(source[i] == destination[j]):\n",
    "        memo[i][j] = return editDistaceRecursive(source, destination, i-1, j-1, memo)\n",
    "    else:\n",
    "        replace = editDistaceRecursive(source, destination, i-1, j-1, memo)\n",
    "        insert = editDistaceRecursive(source, destination, i, j-1, memo)\n",
    "        delete = editDistaceRecursive(source, destination, i-1, j, memo)\n",
    "        memo[i][j] = min (replace, insert, delete)\n",
    "\n",
    "    return memo[i][j]\n",
    "\n",
    "\n",
    "source = 'benyam'\n",
    "destination = 'ephrem'\n",
    "\n",
    "\n",
    "\n",
    "memo = [[None] * (len(source)+1)  for _ in range((len(destination)+1))]\n",
    "output =editDistaceRecursive(source, destination, len(source)-1, len(destination)-1, memo)\n",
    "print(output)\n"
   ]
  },
  {
   "cell_type": "code",
   "execution_count": null,
   "metadata": {
    "id": "bE9BzjxwhfdP"
   },
   "outputs": [],
   "source": [
    "class Solution:\n",
    "    def editDistance(self, s1, s2):\n",
    "        return self.editDistanceRecursive(s1, s2, len(s1), len(s2), {})\n",
    "\n",
    "    def editDistanceRecursive(self, source, destination, i, j, memo):\n",
    "        # Base cases\n",
    "        if i == 0:\n",
    "            return j  # All characters of destination need to be inserted\n",
    "        if j == 0:\n",
    "            return i  # All characters of source need to be deleted\n",
    "\n",
    "        # Check if the result is already in the memo\n",
    "        if (i, j) in memo:\n",
    "            return memo[(i, j)]\n",
    "\n",
    "        # If characters are the same, no operation is needed\n",
    "        if source[i - 1] == destination[j - 1]:\n",
    "            memo[(i, j)] = self.editDistanceRecursive(source, destination, i - 1, j - 1, memo)\n",
    "        else:\n",
    "            # Compute the minimum of three possible operations:\n",
    "            # Insert, Delete, or Replace\n",
    "            insert = self.editDistanceRecursive(source, destination, i, j - 1, memo)\n",
    "            delete = self.editDistanceRecursive(source, destination, i - 1, j, memo)\n",
    "            replace = self.editDistanceRecursive(source, destination, i - 1, j - 1, memo)\n",
    "            memo[(i, j)] = 1 + min(insert, delete, replace)\n",
    "\n",
    "        return memo[(i, j)]\n",
    "\n",
    "\n",
    "s = Solution()\n",
    "\n",
    "source = 'benyam'\n",
    "destination = 'ephrem'\n",
    "\n",
    "output = s.editDistance(source, destination)\n",
    "print(output)"
   ]
  },
  {
   "cell_type": "markdown",
   "metadata": {
    "id": "kqt48u5HhfdP"
   },
   "source": [
    "#### Subset Sum Problem - Dynamic programming approach"
   ]
  },
  {
   "cell_type": "code",
   "execution_count": null,
   "metadata": {
    "id": "y9UJMFrihfdP"
   },
   "outputs": [],
   "source": [
    "def subsetSumProblem(array, sum):\n",
    "    dp = [ [None] * (sum+1)  for _ in range(len(array)+1) ]\n",
    "\n",
    "    print(array, sum)\n",
    "\n",
    "\n",
    "    for i in dp:\n",
    "        print(i)\n",
    "\n",
    "    for i in range(len(dp)):\n",
    "        for j in range(len(dp[0])):\n",
    "\n",
    "\n",
    "            if(i == 0 or j ==0):\n",
    "                if(i == 0):\n",
    "                    dp[i][j] = False\n",
    "                if(j == 0):\n",
    "                    dp[i][j] = True\n",
    "\n",
    "                continue\n",
    "\n",
    "            print(i, j)\n",
    "            if(j >= array[i-1]):\n",
    "                remaining =  j - array[i-1]\n",
    "                print(array[i-1], j)\n",
    "                print(remaining)\n",
    "                dp[i][j] = dp[i-1][j] or dp[i-1][remaining]\n",
    "            else:\n",
    "                dp[i][j] = dp[i-1][j]\n",
    "\n",
    "\n",
    "    for i in dp:\n",
    "        print(i)\n",
    "\n",
    "\n",
    "    return dp[i][j]\n",
    "\n",
    "\n",
    "\n",
    "array = [2, 3, 7, 8, 10]\n",
    "sum = 11\n",
    "\n",
    "# array = [3, 34, 4, 12, 5, 2]\n",
    "# sum = 9\n",
    "\n",
    "\n",
    "\n",
    "\n",
    "subsetSumProblem(array, sum)\n"
   ]
  },
  {
   "cell_type": "markdown",
   "metadata": {
    "id": "DaV-NYcOhfdQ"
   },
   "source": [
    "#### SubsetSum - Equal partition"
   ]
  },
  {
   "cell_type": "code",
   "execution_count": null,
   "metadata": {
    "id": "niRF6EX2hfdQ"
   },
   "outputs": [],
   "source": [
    "def subsetSumEqualPartition(array):\n",
    "    total_sum = 0\n",
    "\n",
    "    for i in array:\n",
    "        total_sum = total_sum + i\n",
    "\n",
    "    # print(total_sum)\n",
    "\n",
    "    if(total_sum%2 != 0):\n",
    "        return False\n",
    "\n",
    "    half = total_sum // 2\n",
    "\n",
    "    output = subSetSum(array, half)\n",
    "    return output\n",
    "\n",
    "\n",
    "def subSetSum(array, sum):\n",
    "    print(array, sum)\n",
    "    dp =  [ [None] * (sum+1) for _ in range(len(array)+1)]\n",
    "\n",
    "    for i in dp:\n",
    "        print(i)\n",
    "\n",
    "    print(len(dp[0]))\n",
    "\n",
    "    for i in range(len(dp)):\n",
    "        for j in range(len(dp[0])):\n",
    "            if( i==0 or j==0 ):\n",
    "                if(i == 0):\n",
    "                    dp[i][j] = False\n",
    "                if(j == 0):\n",
    "                    dp[i][j] = True\n",
    "                continue\n",
    "\n",
    "\n",
    "            print(\"below   i=\",i, \"j=\",j)\n",
    "            if(j >= arr[i-1]):\n",
    "                remaining = j - array[i-1]\n",
    "                dp[i][j] = dp[i-1][j] or dp[i-1][remaining]\n",
    "            else :\n",
    "                dp[i][j] = dp[i-1][j]\n",
    "\n",
    "    for i in dp:\n",
    "        print(i)\n",
    "\n",
    "    # return dp[i][j]\n",
    "\n",
    "\n",
    "arr = [1, 5, 11, 5]\n",
    "subsetSumEqualPartition(arr)\n",
    "\n",
    "\n"
   ]
  },
  {
   "cell_type": "code",
   "execution_count": null,
   "metadata": {
    "id": "JWey6jTNhfdQ"
   },
   "outputs": [],
   "source": [
    "print(2//1)"
   ]
  },
  {
   "cell_type": "markdown",
   "metadata": {
    "id": "4Ej7KhpphfdZ"
   },
   "source": [
    "#### Pair Friends - Problem"
   ]
  },
  {
   "cell_type": "code",
   "execution_count": null,
   "metadata": {
    "id": "jv-8FdydhfdZ"
   },
   "outputs": [],
   "source": [
    "def pair_friends_recursive(n, dp):\n",
    "    if(dp[n] != None):\n",
    "        return dp[n]\n",
    "    if(n == 2):\n",
    "        return 2\n",
    "    if(n == 1):\n",
    "        return 1\n",
    "\n",
    "    ans = pair_friends_recursive(n-1, dp) + (n-1) * pair_friends_recursive(n-2, dp)\n",
    "\n",
    "    dp[n] = ans\n",
    "    return ans\n",
    "\n",
    "n = 3\n",
    "dp =  [None] * (n+1)\n",
    "print(pair_friends_recursive(n, dp))"
   ]
  },
  {
   "cell_type": "markdown",
   "metadata": {
    "id": "oVGm9iylhfdZ"
   },
   "source": [
    "#### Pair friends Tabulation"
   ]
  },
  {
   "cell_type": "code",
   "execution_count": null,
   "metadata": {
    "id": "4UG_1xxFhfdZ"
   },
   "outputs": [],
   "source": [
    "def pair_friends_tabulation(n):\n",
    "    dp = [None] * (n+1)\n",
    "    for i in range(1, n+1):\n",
    "        if(i == 1):\n",
    "            dp[i] = 1\n",
    "            continue\n",
    "        if( i == 2):\n",
    "            dp[i] = 2\n",
    "            continue\n",
    "\n",
    "        dp[i] = dp[i-1] + ((i-1) * dp[i-2])\n",
    "\n",
    "    print(dp)\n",
    "    return dp[n]\n",
    "\n",
    "n = 4\n",
    "\n",
    "print(pair_friends_tabulation(n))"
   ]
  },
  {
   "cell_type": "markdown",
   "metadata": {
    "id": "Jriwm1alhfdZ"
   },
   "source": [
    "#### Gold mine problem  - attempt 1"
   ]
  },
  {
   "cell_type": "code",
   "execution_count": null,
   "metadata": {
    "id": "h-0Re1XhhfdZ"
   },
   "outputs": [],
   "source": [
    "def goldMine_recursion(array, column, row):\n",
    "    n = len(array[0])\n",
    "    max_val = float('-inf')\n",
    "\n",
    "    if(n-1  == column):\n",
    "        for row in range(len(array)):\n",
    "            max_val = max(max_val, array[row][column])\n",
    "\n",
    "        return max_val\n",
    "\n",
    "    for row in range(len(array)):\n",
    "        max_val = max(max_val, array[row][column] + goldMine_recursion(array, column + 1))\n",
    "\n",
    "    return max_val\n",
    "\n",
    "\n",
    "array = [[1, 3, 3],\n",
    "         [2, 1, 4],\n",
    "         [0, 6, 4]]\n",
    "\n",
    "\n",
    "goldMine_recursion(array, 0)"
   ]
  },
  {
   "cell_type": "markdown",
   "metadata": {
    "id": "K83FAbNHhfdZ"
   },
   "source": [
    "#### Gold mine problem  - attempt 2"
   ]
  },
  {
   "cell_type": "code",
   "execution_count": null,
   "metadata": {
    "id": "SPxQBS17hfdZ"
   },
   "outputs": [],
   "source": [
    "def goldMine_recursion(array, row, column):\n",
    "    print(row, column)\n",
    "    print(\"array[row][column]\", array[row][column])\n",
    "    n_row = len(array[0])\n",
    "    m_column = len(array)\n",
    "\n",
    "    if(column -1 == m_column):\n",
    "        return array[row][column]\n",
    "\n",
    "    # max_val = float('inf')\n",
    "    print(\"upper_right calculating...\", row, column, \"--->\", row - 1, column + 1)\n",
    "    upper_right = goldMine_recursion(array, row - 1, column +  1)  if row-1 >= 0  and column+1 < m_column else 0\n",
    "    print(\"upper_right calculated\", upper_right)\n",
    "\n",
    "    print(\"right calculating...\", )\n",
    "    right = goldMine_recursion(array, row , column + 1) if column + 1  < m_column else 0\n",
    "    print(\"right calculated\", right)\n",
    "\n",
    "    print(\"lower_right calculating...\")\n",
    "    lower_right = goldMine_recursion(array, row +1, column+1) if row +1 < n_row  and column+1 < m_column else 0\n",
    "    print(\"lower_right calculated\", lower_right)\n",
    "\n",
    "    max_value = array[row][column] + max(upper_right, right, lower_right)\n",
    "\n",
    "    print(\"max_value:\", max_value)\n",
    "\n",
    "    return max_value\n",
    "\n",
    "\n",
    "array = [[1, 3, 3],\n",
    "         [2, 1, 4],\n",
    "         [0, 6, 4]]\n",
    "\n",
    "max_val = float('-inf')\n",
    "\n",
    "for i in range(len(array)):\n",
    "    max_val = max(max_val, goldMine_recursion(array, 0, i))\n",
    "    print(max_val)\n",
    "\n",
    "print(max_val)\n"
   ]
  },
  {
   "cell_type": "code",
   "execution_count": null,
   "metadata": {
    "id": "BXMA7tXqhfda"
   },
   "outputs": [],
   "source": [
    "def goldMine_recursion(array, i, j):\n",
    "    i_max = len(array)\n",
    "    j_max = len(array[0])\n",
    "\n",
    "    if(j == j_max):\n",
    "        return array[i][j]\n",
    "\n",
    "    upper_right = goldMine_recursion(array, i-1, j+1)  if i-1 >= 0  and j+1 < j_max else 0\n",
    "\n",
    "    right = goldMine_recursion(array, i , j+1 ) if  j + 1 < j_max else 0\n",
    "\n",
    "    lower_right = goldMine_recursion(array, i+1, j+1) if  i+1 < i_max  and j+1 < j_max else 0\n",
    "\n",
    "    max_value = array[i][j] + max(upper_right, right, lower_right)\n",
    "\n",
    "\n",
    "    return max_value\n",
    "\n",
    "\n",
    "array = [[1, 3, 3],\n",
    "         [2, 1, 4],\n",
    "         [0, 6, 4]]\n",
    "\n",
    "max_val = float('-inf')\n",
    "\n",
    "for row_i in range(len(array)):\n",
    "    max_val = max(max_val, goldMine_recursion(array, row_i, 0))\n",
    "    print(max_val)\n",
    "\n",
    "print(max_val)\n"
   ]
  },
  {
   "cell_type": "code",
   "execution_count": null,
   "metadata": {
    "id": "-y087jbHhfda"
   },
   "outputs": [],
   "source": [
    "def goldMine_recursion(array, i, j, dp):\n",
    "    if(dp[i][j] != None):\n",
    "        return dp[i][j]\n",
    "\n",
    "    i_max = len(array)\n",
    "    j_max = len(array[0])\n",
    "\n",
    "    if(j == j_max):\n",
    "        dp[i][j] = array[i][j]\n",
    "        return array[i][j]\n",
    "\n",
    "    upper_right = goldMine_recursion(array, i-1, j+1, dp)  if i-1 >= 0  and j+1 < j_max else 0\n",
    "\n",
    "    right = goldMine_recursion(array, i , j+1 , dp) if  j + 1 < j_max else 0\n",
    "\n",
    "    lower_right = goldMine_recursion(array, i+1, j+1, dp) if  i+1 < i_max  and j+1 < j_max else 0\n",
    "\n",
    "    max_value = array[i][j] + max(upper_right, right, lower_right)\n",
    "\n",
    "    dp[i][j] = max_value\n",
    "    return max_value\n",
    "\n",
    "\n",
    "array = [[1, 3, 3],\n",
    "         [2, 1, 4],\n",
    "         [0, 6, 4]]\n",
    "\n",
    "max_val = float('-inf')\n",
    "dp = [[None] * len(array[0]) for _ in range(len(array))]\n",
    "\n",
    "for row_i in range(len(array)):\n",
    "    max_val = max(max_val, goldMine_recursion(array, row_i, 0, dp))\n",
    "    print(max_val)\n",
    "\n",
    "print(max_val)\n"
   ]
  },
  {
   "cell_type": "code",
   "execution_count": null,
   "metadata": {
    "id": "W4f3tViEhfda"
   },
   "outputs": [],
   "source": [
    "def gold_mine_tabulation(array):\n",
    "    dp = [ [None] * len(array[0]) for _ in range(len(array)) ]\n",
    "\n",
    "    i_max = len(array)\n",
    "    j_max = len(array[0])\n",
    "\n",
    "    for i in range(i_max):\n",
    "        dp[i][j_max-1] = array[i][j_max-1]\n",
    "\n",
    "\n",
    "    for j in range(j_max-2, -1, -1):\n",
    "        for i in range(i_max):\n",
    "\n",
    "            upper_right = dp[i-1][j+1] if i-1 >= 0  and j+1 < j_max else 0\n",
    "            right = dp[i][j+1] if  j + 1 < j_max else 0\n",
    "            lower_right = dp[i+1][j+1] if  i+1 < i_max  and j+1 < j_max else 0\n",
    "\n",
    "            dp[i][j] = array[i][j] + max(upper_right, right, lower_right)\n",
    "\n",
    "\n",
    "    max_val = float('-inf')\n",
    "    for i in range(i_max):\n",
    "        max_val = max(max_val, dp[i][0])\n",
    "\n",
    "    return max_val\n",
    "\n",
    "array = [[1, 3, 3],\n",
    "         [2, 1, 4],\n",
    "         [0, 6, 4]]\n",
    "\n",
    "gold_mine_tabulation(array)"
   ]
  },
  {
   "cell_type": "markdown",
   "metadata": {
    "id": "BKo8ioMMhfda"
   },
   "source": [
    "#### Assembly line scheduling problem"
   ]
  },
  {
   "cell_type": "code",
   "execution_count": null,
   "metadata": {
    "id": "fvkKE9WYhfda"
   },
   "outputs": [],
   "source": [
    "def change(n):\n",
    "    if(n==0):\n",
    "        return 1\n",
    "    return 0\n",
    "def assemlyLineProblem_recusion(i, line, assembly_array, transefer_array, entry_array, exit_array, memo):\n",
    "    if(memo[line][i] != None):\n",
    "        return memo[line][i]\n",
    "\n",
    "    print(\"line = \", line, \"i\", i)\n",
    "    i_max = len(assembly_array[0])\n",
    "    # print(\"i_max\", i_max)\n",
    "    if(i == i_max-1):\n",
    "        print(\"assembly_array[line][i+1]\", assembly_array[line][i], \"exit_array[line]\", exit_array[line])\n",
    "        print(\"returning.. \", assembly_array[line][i] + exit_array[line] )\n",
    "        return assembly_array[line][i] + exit_array[line]\n",
    "\n",
    "    print(\"wihtout transfer...\")\n",
    "    without_transfer = assemlyLineProblem_recusion(i+1, line, assembly_array, transefer_array, entry_array, exit_array, memo)\n",
    "    line_change = change(line)\n",
    "\n",
    "    print(\"wiht transfer...\")\n",
    "    with_transfer = transefer_array[line][i+1] + assemlyLineProblem_recusion(i+1, line_change, assembly_array, transefer_array, entry_array, exit_array, memo)\n",
    "\n",
    "    min_time = assembly_array[line][i] + min(without_transfer, with_transfer)\n",
    "\n",
    "    print(\"returnning..\", min_time)\n",
    "    memo[line][i] = min_time\n",
    "    return min_time\n",
    "\n",
    "assembly_array = [\n",
    "    [4, 5, 3, 2],\n",
    "    [2, 10, 1, 4]\n",
    "    ]\n",
    "transefer_array = [\n",
    "    [0,7, 4, 5],\n",
    "    [0,9, 2, 8]\n",
    "    ]\n",
    "\n",
    "entry_array = [10,12]\n",
    "exit_array = [18,7]\n",
    "\n",
    "memo = [[None] * (len(assembly_array[0]))  for _ in range(len(assembly_array))]\n",
    "\n",
    "m1_entry = entry_array[0] + assemlyLineProblem_recusion(0, 0, assembly_array, transefer_array, entry_array, exit_array, memo)\n",
    "m2_entry = entry_array[1] + assemlyLineProblem_recusion(0, 1, assembly_array, transefer_array, entry_array, exit_array, memo)\n",
    "\n",
    "print(m1_entry, m2_entry)\n",
    "\n"
   ]
  },
  {
   "cell_type": "code",
   "execution_count": null,
   "metadata": {
    "id": "1lzG1S66hfda"
   },
   "outputs": [],
   "source": [
    "def assemblyLineProblemTabulation(assembly_array, transefer_array, entry_array, exit_array):\n",
    "    dp =  [[None] * (len(assembly_array[0]))  for _ in range(len(assembly_array))]\n",
    "\n",
    "    i_max = len(assembly_array[0])\n",
    "\n",
    "    dp[0][i_max-1] = assembly_array[0][i_max-1] + exit_array[0]\n",
    "    dp[1][i_max-1] = assembly_array[1][i_max-1] + exit_array[1]\n",
    "\n",
    "    print(dp)\n",
    "\n",
    "\n",
    "    for i in range(i_max-2, -1, -1):\n",
    "        print(i)\n",
    "        without_transfer =  dp[0][i+1]\n",
    "        with_transfer = transefer_array[0][i+1]+ dp[1][i+1]\n",
    "\n",
    "        dp[0][i] = assembly_array[0][i] + min(without_transfer, with_transfer)\n",
    "\n",
    "        without_transfer =  dp[1][i+1]\n",
    "        with_transfer = transefer_array[1][i+1]+ dp[1][i+1]\n",
    "\n",
    "        dp[1][i] = assembly_array[1][i] + min(without_transfer, with_transfer)\n",
    "\n",
    "    print(dp)\n",
    "\n",
    "    m1_entry = entry_array[0] + dp[0][0]\n",
    "    m2_entry = entry_array[1] + dp[1][0]\n",
    "\n",
    "    return min(m1_entry, m2_entry)\n",
    "\n",
    "\n",
    "\n",
    "\n",
    "assembly_array = [\n",
    "    [4, 5, 3, 2],\n",
    "    [2, 10, 1, 4]\n",
    "    ]\n",
    "transefer_array = [\n",
    "    [0,7, 4, 5],\n",
    "    [0,9, 2, 8]\n",
    "    ]\n",
    "\n",
    "entry_array = [10,12]\n",
    "exit_array = [18,7]\n",
    "assemblyLineProblemTabulation(assembly_array, transefer_array, entry_array, exit_array)\n"
   ]
  },
  {
   "cell_type": "markdown",
   "metadata": {
    "id": "KtsVycSBhfda"
   },
   "source": [
    "#### Painting Fence Problem"
   ]
  },
  {
   "cell_type": "code",
   "execution_count": null,
   "metadata": {
    "id": "hcxDCWx8hfda"
   },
   "outputs": [],
   "source": [
    "def paintingFence(n, k, memo):\n",
    "    if(n == 0):\n",
    "        return 0\n",
    "\n",
    "    if(n == 1):\n",
    "        return k\n",
    "\n",
    "\n",
    "    if(n == 2):\n",
    "        return  k + (k * (k-1))\n",
    "\n",
    "    if(memo[n] != None):\n",
    "        return memo[n]\n",
    "\n",
    "    same = paintingFence(n-2, k, memo) * (k-1)\n",
    "    different = paintingFence(n-1, k, memo) * (k-1)\n",
    "\n",
    "    memo[n] = same+different\n",
    "    return same+different\n",
    "\n",
    "n = 2\n",
    "k = 4\n",
    "memo = [None] * (n+1)\n",
    "\n",
    "ans = paintingFence(n, k, memo)\n",
    "print(ans)\n",
    "\n"
   ]
  },
  {
   "cell_type": "code",
   "execution_count": null,
   "metadata": {
    "id": "PPtc9aBuhfda"
   },
   "outputs": [],
   "source": [
    "def paintingFence_tabulaton(n, k):\n",
    "    dp = [None] * (n+1)\n",
    "\n",
    "\n",
    "    dp[0] = 0\n",
    "    dp[1] = k\n",
    "    dp[2] = k + (k * (k-1))\n",
    "\n",
    "    for i in range(3,len(dp)):\n",
    "        same = dp[i-2] * (k-1)\n",
    "        different = dp[i-1] * (k-1)\n",
    "\n",
    "        dp[i] = same + different\n",
    "\n",
    "\n",
    "    return dp[n]\n",
    "\n",
    "\n",
    "n = 2\n",
    "k = 4\n",
    "ans = paintingFence_tabulaton(n, k)\n",
    "print(ans)\n",
    "\n"
   ]
  },
  {
   "cell_type": "code",
   "execution_count": null,
   "metadata": {
    "id": "N5-dioachfdb"
   },
   "outputs": [],
   "source": [
    "#User function Template for python3\n",
    "\n",
    "\n",
    "class Solution:\n",
    "\n",
    "    def maximizeTheCuts(self,n,x,y,z):\n",
    "\n",
    "        memo = [None] * (n+1)\n",
    "        out = self.max_cut_rec(n, x, y, z, memo)\n",
    "        return 0 if (out == -1) else out\n",
    "\n",
    "    def maximizeTheCuts_tabulation(self,n,x,y,z):\n",
    "\n",
    "        dp = [None] * (n+1)\n",
    "        dp[0] = 0\n",
    "\n",
    "        cut_sizes = [x, y, z]\n",
    "\n",
    "        for i in range(1, len(dp)):\n",
    "            max_val = -1\n",
    "            for cut_size in  cut_sizes:\n",
    "\n",
    "                if(i-cut_size < 0):\n",
    "                    cut = -1\n",
    "                else:\n",
    "                    cut = dp[i-cut_size]\n",
    "                    cut = (1 + cut) if cut >=0 else cut\n",
    "\n",
    "                max_val = max(max_val, cut)\n",
    "\n",
    "            dp[i] = max_val\n",
    "\n",
    "\n",
    "        return dp[n] if(dp[n] >= 0) else 0\n",
    "\n",
    "\n",
    "    def max_cut_rec(self, n, x,y,z, memo):\n",
    "\n",
    "        if(memo[n] != None):\n",
    "            return memo[n]\n",
    "\n",
    "        if(n==0):\n",
    "            return 0\n",
    "\n",
    "        cut_sizes = [x, y, z]\n",
    "\n",
    "        max_val = -1\n",
    "\n",
    "        for cut_size in cut_sizes:\n",
    "            current_cut = n-cut_size\n",
    "\n",
    "            if (current_cut < 0):\n",
    "                final_cut = -1\n",
    "            else:\n",
    "                rec_sol = self.max_cut_rec((n-cut_size), x,y,z, memo)\n",
    "\n",
    "                final_cut = ( 1 + rec_sol ) if rec_sol >=0 else rec_sol\n",
    "\n",
    "            max_val = max(max_val, final_cut)\n",
    "\n",
    "        memo[n] = max_val\n",
    "        return max_val\n",
    "\n",
    "\n",
    "\n",
    "s = Solution()\n",
    "\n",
    "n = 7\n",
    "x = 5\n",
    "y = 5\n",
    "z = 2\n",
    "print(s.maximizeTheCuts(n,x,y,z))\n"
   ]
  },
  {
   "cell_type": "code",
   "execution_count": null,
   "metadata": {
    "id": "aTZAPnVAhfdb"
   },
   "outputs": [],
   "source": [
    "def longesCommomSubsequnce(i, j, string1, string2, memo):\n",
    "    print(string1[:i+1], string2[:j+1], i, j)\n",
    "\n",
    "    if(i < 0 or j < 0):\n",
    "        print(\"returing\")\n",
    "        return 0\n",
    "\n",
    "\n",
    "    if(memo[i][j] != None):\n",
    "        return memo[i][j]\n",
    "\n",
    "\n",
    "\n",
    "\n",
    "    if(string1[i] == string2[j]):\n",
    "        print(\"adding 2 ---------------------------\", i, j, string1[i], string2[j])\n",
    "        ans = 1 + longesCommomSubsequnce(i-1, j-1, string1, string2, memo)\n",
    "\n",
    "    else :\n",
    "        str1_reduce = longesCommomSubsequnce(i-1, j, string1, string2, memo)\n",
    "        str2_reduce = longesCommomSubsequnce(i, j-1, string1, string2, memo)\n",
    "\n",
    "\n",
    "        ans =  max(str1_reduce, str2_reduce)\n",
    "\n",
    "    memo[i][j] = ans\n",
    "    return ans\n",
    "\n",
    "string1 = \"YESBJ\"\n",
    "string2 = \"FASEGBZUVC\"\n",
    "\n",
    "\n",
    "i = len(string1) - 1\n",
    "j =  len(string2) -1\n",
    "\n",
    "memo = [ [None] * ((max(i,j))+1) for _ in range(max(i,j) +1)]\n",
    "\n",
    "lcs = longesCommomSubsequnce(i, j, string1, string2, memo)\n",
    "print(lcs)\n"
   ]
  },
  {
   "cell_type": "code",
   "execution_count": null,
   "metadata": {
    "id": "hirj0Q2Yhfdb"
   },
   "outputs": [],
   "source": [
    "def longesCommomSubsequnce_tabulation(string_1, string_2):\n",
    "    i_max = (len(string_2)+1)\n",
    "    j_max = (len(string_1)+1)\n",
    "    dp = [[None] * j_max for _ in range(i_max)]\n",
    "\n",
    "\n",
    "    for i in range(i_max):\n",
    "        for j in range(j_max):\n",
    "\n",
    "            if(i == 0 or j == 0):\n",
    "                dp[i][j] = 0\n",
    "                continue\n",
    "\n",
    "            if(string_2[i-1] == string_1[j-1]):\n",
    "                dp [i][j] = 1 + dp[i-1][j-1]\n",
    "            else :\n",
    "                dp[i][j] = max(dp[i-1][j], dp[i][j-1])\n",
    "\n",
    "    return dp[i][j]\n",
    "\n",
    "\n",
    "string1 = \"axxzxy\"\n",
    "string2 = \"FSEGBZUVC\"\n",
    "\n",
    "\n",
    "longesCommomSubsequnce_tabulation(string1, string2)\n",
    "\n"
   ]
  },
  {
   "cell_type": "markdown",
   "metadata": {
    "id": "wTgrvELxhfdb"
   },
   "source": [
    "#### Longest Repeated Subsequence"
   ]
  },
  {
   "cell_type": "code",
   "execution_count": null,
   "metadata": {
    "id": "xo9Mj1K_hfdc"
   },
   "outputs": [],
   "source": [
    "def longesRepeatedSubsequnce_tabulation(string_1, string_2):\n",
    "    i_max = (len(string_2)+1)\n",
    "    j_max = (len(string_1)+1)\n",
    "    dp = [[None] * j_max for _ in range(i_max)]\n",
    "\n",
    "\n",
    "    for i in range(i_max):\n",
    "        for j in range(j_max):\n",
    "\n",
    "            if(i == 0 or j == 0 ):\n",
    "                dp[i][j] = 0\n",
    "                continue\n",
    "\n",
    "            if(string_2[i-1] == string_1[j-1] and i != j):\n",
    "                dp [i][j] = 1 + dp[i-1][j-1]\n",
    "            else :\n",
    "                dp[i][j] = max(dp[i-1][j], dp[i][j-1])\n",
    "\n",
    "    return dp[i][j]\n",
    "\n",
    "\n",
    "string1 = \"axxxy\"\n",
    "string2 = \"axxxy\"\n",
    "\n",
    "longesCommomSubsequnce_tabulation(string1, string2)"
   ]
  },
  {
   "cell_type": "markdown",
   "metadata": {
    "id": "yDs6mdhBhfdc"
   },
   "source": [
    "#### Print all possible subsequence"
   ]
  },
  {
   "cell_type": "code",
   "execution_count": null,
   "metadata": {
    "id": "gRjAoZVohfdc"
   },
   "outputs": [],
   "source": []
  },
  {
   "cell_type": "code",
   "execution_count": null,
   "metadata": {
    "id": "tcRITLBghfdc"
   },
   "outputs": [],
   "source": [
    "def subsequnce(i, temp_array, n, array):\n",
    "    # print(\"---------------------------->\",i, temp_array)\n",
    "    if(i == n):\n",
    "        print(temp_array)\n",
    "        return\n",
    "\n",
    "    temp_array.append(array[i])\n",
    "    subsequnce(i+1, temp_array, n, array)\n",
    "\n",
    "    temp_array.pop(-1)\n",
    "    subsequnce(i+1, temp_array, n, array)\n",
    "\n",
    "\n",
    "array = [3, 2, 1]\n",
    "subsequnce(0, [], len(array), array)\n",
    "\n",
    "\n",
    "\n"
   ]
  },
  {
   "cell_type": "markdown",
   "metadata": {
    "id": "MrUFi4_7hfdc"
   },
   "source": [
    "#### Longest increasing subsequence - Recursive solution"
   ]
  },
  {
   "cell_type": "code",
   "execution_count": null,
   "metadata": {
    "id": "a-YFia4ehfdd"
   },
   "outputs": [],
   "source": [
    "def longest_increasing_rec(current, prev, array, n, memo):\n",
    "    if(current == n):\n",
    "        return 0\n",
    "\n",
    "    if(memo[current][prev+1] != None):\n",
    "        return memo[current][prev+1]\n",
    "\n",
    "\n",
    "\n",
    "    max_lenght_without_taking = longest_increasing_rec(current+1, prev, array, n, memo)\n",
    "\n",
    "    max_lenghth = max_lenght_without_taking\n",
    "\n",
    "    if(array[current] >  array[prev] or prev == -1):\n",
    "        max_lenghth = max(max_lenght_without_taking,  1 + longest_increasing_rec(current+1, current, array, n, memo))\n",
    "\n",
    "\n",
    "    memo[current][prev+1] = max_lenghth\n",
    "\n",
    "    return max_lenghth\n",
    "\n",
    "\n",
    "array = [0, 8, 4, 12, 2, 10, 6, 14, 1, 9, 5, 13, 3, 11, 7, 15]\n",
    "memo = [[None] * (len(array)+1) for i in range(len(array)) ]\n",
    "\n",
    "lis =longest_increasing_rec(0, -1, array, len(array), memo)\n",
    "print(lis)"
   ]
  },
  {
   "cell_type": "markdown",
   "metadata": {
    "id": "scwf_xD5hfdd"
   },
   "source": [
    "#### Longes increasing subsequence - Tabulation"
   ]
  },
  {
   "cell_type": "code",
   "execution_count": null,
   "metadata": {
    "id": "w1x0AZHwhfdd"
   },
   "outputs": [],
   "source": [
    "def longest_increasing_tabulation(array):\n",
    "    n = len(array)\n",
    "    dp = [[0] * (n+1) for _ in range(n+1)]\n",
    "\n",
    "    for current in range(n-1, -1, -1):\n",
    "        for prev in range(current-1, -2, -1):\n",
    "\n",
    "            without_selecting = dp[current+1][prev+1]\n",
    "            max_val = without_selecting\n",
    "\n",
    "            if(prev == -1 or array[current] > array[prev]):\n",
    "                with_selecting = 1 + dp[current+1][current+1]\n",
    "                max_val = max(max_val, with_selecting)\n",
    "\n",
    "            dp[current][prev+1] = max_val\n",
    "\n",
    "    print(dp)\n",
    "\n",
    "array = [5, 8, 3, 7, 9, 1]\n",
    "longest_increasing_tabulation(array)"
   ]
  },
  {
   "cell_type": "code",
   "execution_count": null,
   "metadata": {
    "id": "RG7iqd7nhfdd"
   },
   "outputs": [],
   "source": [
    "def longest_increasing_tabulation_space_optimized(array):\n",
    "    n = len(array)\n",
    "    dp = [[0] * (n+1) for _ in range(n+1)]\n",
    "    next_arr = [0] * (n+1)\n",
    "    current_arr = [0] * (n+1)\n",
    "\n",
    "    for current in range(n-1, -1, -1):\n",
    "        for prev in range(current-1, -2, -1):\n",
    "\n",
    "            without_selecting = next_arr[prev+1]\n",
    "            max_val = without_selecting\n",
    "\n",
    "            if(prev == -1 or array[current] > array[prev]):\n",
    "                with_selecting = 1 + next_arr[current+1]\n",
    "                max_val = max(max_val, with_selecting)\n",
    "\n",
    "\n",
    "            current_arr[prev+1] = max_val\n",
    "\n",
    "        next_arr = current_arr\n",
    "\n",
    "    print(next_arr)\n",
    "\n",
    "array = [5, 8, 3, 7, 9, 1]\n",
    "longest_increasing_tabulation_space_optimized(array)"
   ]
  },
  {
   "cell_type": "code",
   "execution_count": null,
   "metadata": {
    "id": "QjRhgiZThfdd"
   },
   "outputs": [],
   "source": [
    "def longest_increasing_tabulation(array):\n",
    "    n = len(array)\n",
    "    next_dp_array = [0] * (n+1)\n",
    "    curr_dp_array = [0] * (n+1)\n",
    "\n",
    "\n",
    "    for current in range(n-1, -1, -1):\n",
    "        for prev in range(current-1, -2, -1):\n",
    "\n",
    "            without_selecting = next_dp_array[prev+1]\n",
    "            max_val = without_selecting\n",
    "\n",
    "            if(prev == -1 or array[current] > array[prev]):\n",
    "                with_selecting = 1 + next_dp_array[current+1]\n",
    "                max_val = max(max_val, with_selecting)\n",
    "\n",
    "            curr_dp_array[prev+1] = max_val\n",
    "        next_dp_array = curr_dp_array[:]\n",
    "\n",
    "    print(next_dp_array)\n",
    "\n",
    "array = [5, 8, 3, 7, 9, 1]\n",
    "longest_increasing_tabulation(array)"
   ]
  },
  {
   "cell_type": "markdown",
   "metadata": {
    "id": "SNPB9A5phfdd"
   },
   "source": []
  },
  {
   "cell_type": "code",
   "execution_count": null,
   "metadata": {
    "id": "s_mRJvCbhfdd"
   },
   "outputs": [],
   "source": [
    "def longes_increasing_tabulation_simple(array):\n",
    "    n = len(array)\n",
    "    dp = [1] * n\n",
    "    back_track = [i for i in range(n)]\n",
    "    max_index = 0\n",
    "    max_i = 1\n",
    "\n",
    "    max_i = 1\n",
    "    for i in range(n):\n",
    "        for j in range(0, i):\n",
    "            if(array[j] < array[i]):\n",
    "                # dp[i] = max(dp[i], 1 + dp[j])\n",
    "                if(dp[i] < 1 + dp[j]):\n",
    "                    dp[i] = 1 + dp[j]\n",
    "                    back_track[i] = j\n",
    "        if(max_i < dp[i]):\n",
    "            max_i = dp[i]\n",
    "            max_index = i\n",
    "\n",
    "    print(\"array\", array)\n",
    "    print(\"dp\", dp)\n",
    "    print(\"back_track\", back_track)\n",
    "    print(\"max_index\", max_index)\n",
    "\n",
    "    out_array = []\n",
    "    while(True):\n",
    "        out_array.append(array[max_index])\n",
    "        if(max_index == back_track[max_index]):\n",
    "            break\n",
    "        max_index = back_track[max_index]\n",
    "        print(max_index)\n",
    "\n",
    "\n",
    "    print(out_array)\n",
    "    return max_i\n",
    "\n",
    "array = [5, 4, 11, 1, 16, 8]\n",
    "longes_increasing_tabulation_simple(array)\n"
   ]
  },
  {
   "cell_type": "code",
   "execution_count": null,
   "metadata": {
    "id": "rhV3NjOihfde"
   },
   "outputs": [],
   "source": [
    "from bisect import bisect_left as lower_bound\n",
    "\n",
    "def longest_increasing_subsequence(array):\n",
    "    sequence_array = []\n",
    "    sequence_array.append(array[0])\n",
    "\n",
    "    for i in range(1, len(array)):\n",
    "        if(array[i] > sequence_array[-1]):\n",
    "            sequence_array.append(array[i])\n",
    "        else :\n",
    "            index = lower_bound(sequence_array, array[i])\n",
    "            sequence_array[index] = array[i]\n",
    "\n",
    "    # print(sequence_array)\n",
    "    return (len(sequence_array))\n",
    "\n",
    "\n",
    "array = [5, 4, 11, 1, 16, 8]\n",
    "longest_increasing_subsequence(array)"
   ]
  },
  {
   "cell_type": "code",
   "execution_count": null,
   "metadata": {
    "id": "2PCuNILbhfde"
   },
   "outputs": [],
   "source": [
    "def max_sum_subsequence(prev, curr, array, memo):\n",
    "    if(curr == len(array)):\n",
    "        return 0\n",
    "\n",
    "    if(memo[prev+1][curr] !=0):\n",
    "        return memo[prev+1][curr]\n",
    "\n",
    "    without_selecting = max_sum_subsequence(prev, curr+1, array, memo)\n",
    "    max_val = without_selecting\n",
    "\n",
    "    if(prev == -1 or array[prev] < array[curr]):\n",
    "\n",
    "        with_selecting = array[curr] + max_sum_subsequence(curr, curr + 1, array, memo)\n",
    "        max_val = max(max_val, with_selecting)\n",
    "\n",
    "    memo[prev+1][curr] = max_val\n",
    "    return max_val\n",
    "\n",
    "array = [4, 1, 2, 4]\n",
    "n = len(array)\n",
    "memo = [[0] * (n+1) for _ in range(n+1) ]\n",
    "print(max_sum_subsequence(-1, 0, array, memo))\n",
    "\n",
    "\n"
   ]
  },
  {
   "cell_type": "code",
   "execution_count": null,
   "metadata": {
    "id": "ir3IuAIVhfde"
   },
   "outputs": [],
   "source": []
  },
  {
   "cell_type": "code",
   "execution_count": null,
   "metadata": {
    "id": "-UI05mzBhfde"
   },
   "outputs": [],
   "source": [
    "def max_sum_subsequence(prev, curr, array, memo):\n",
    "    if(curr == len(array)):\n",
    "        return 0\n",
    "\n",
    "    if(memo[prev+1][curr] !=0):\n",
    "        return memo[prev+1][curr]\n",
    "\n",
    "    without_selecting = max_sum_subsequence(prev, curr+1, array, memo)\n",
    "    max_val = without_selecting\n",
    "\n",
    "    if(prev == -1 or array[prev] < array[curr]):\n",
    "\n",
    "        with_selecting = array[curr] + max_sum_subsequence(curr, curr + 1, array, memo)\n",
    "        max_val = max(max_val, with_selecting)\n",
    "\n",
    "    memo[prev+1][curr] = max_val\n",
    "    return max_val\n",
    "\n",
    "array = [4, 1, 2, 4]\n",
    "n = len(array)\n",
    "memo = [[0] * (n+1) for _ in range(n+1) ]\n",
    "print(max_sum_subsequence(-1, 0, array, memo))\n"
   ]
  },
  {
   "cell_type": "markdown",
   "metadata": {
    "id": "Jvz3XrSHhfde"
   },
   "source": [
    "#### Max sum subsequence Tabulation Approach"
   ]
  },
  {
   "cell_type": "code",
   "execution_count": null,
   "metadata": {
    "id": "OpQ0A8FIhfde"
   },
   "outputs": [],
   "source": [
    "def max_sum_subsequence_tabulation(array):\n",
    "    n = len(array)\n",
    "    dp = [[0] * (n+1) for _ in range(n+1)]\n",
    "\n",
    "\n",
    "    for curr in range(n, -2, -1):\n",
    "        for prev in range(curr-1, -2, -1):\n",
    "            if(curr == n):\n",
    "                dp[curr][prev+1] = 0\n",
    "                continue\n",
    "\n",
    "            without_selecting = dp[curr+1][prev+1]\n",
    "\n",
    "            max_val = without_selecting\n",
    "\n",
    "            if(prev == -1 or array[prev] < array[curr]):\n",
    "                with_selecting = array[curr] + dp[curr+1][curr+1]\n",
    "                max_val = max(max_val, with_selecting)\n",
    "\n",
    "            dp[curr][prev+1] = max_val\n",
    "\n",
    "    return dp[0][0]\n",
    "\n",
    "array = [4, 1, 2, 3]\n",
    "n = len(array)\n",
    "max_sum_subsequence_tabulation(array)\n",
    "\n",
    "\n",
    "\n"
   ]
  },
  {
   "cell_type": "code",
   "execution_count": null,
   "metadata": {
    "id": "gBX2NRqohfde"
   },
   "outputs": [],
   "source": [
    "def max_sum_subsequence_tabulation_space_optimization(array):\n",
    "    n = len(array)\n",
    "    dp = [[0] * (n+1) for _ in range(n+1)]\n",
    "\n",
    "    curr_array = [0] * (n+1)\n",
    "    next_array = [0] * (n+1)\n",
    "\n",
    "\n",
    "    for curr in range(n, -2, -1):\n",
    "        for prev in range(curr-1, -2, -1):\n",
    "            if(curr == n):\n",
    "                curr_array[prev+1] = 0\n",
    "                continue\n",
    "\n",
    "            without_selecting = curr_array[prev+1]\n",
    "\n",
    "            max_val = without_selecting\n",
    "\n",
    "            if(prev == -1 or array[prev] < array[curr]):\n",
    "                with_selecting = array[curr] + curr_array[curr+1]\n",
    "                max_val = max(max_val, with_selecting)\n",
    "\n",
    "            curr_array[prev+1] = max_val\n",
    "        next_array = curr_array[:]\n",
    "\n",
    "    return curr_array[0]\n",
    "\n",
    "array = [4, 1, 2, 3]\n",
    "n = len(array)\n",
    "max_sum_subsequence_tabulation(array)\n"
   ]
  },
  {
   "cell_type": "markdown",
   "metadata": {
    "id": "-vy3om6Ahfde"
   },
   "source": [
    "#### Subsequence Productuct < k : recursion"
   ]
  },
  {
   "cell_type": "code",
   "execution_count": null,
   "metadata": {
    "id": "iczrHHCGhfde"
   },
   "outputs": [],
   "source": [
    "def count_prod_less_than_k(prev, curr, array, k, product, is_selected):\n",
    "    if(curr == len(array)):\n",
    "        if(product <= k and is_selected):\n",
    "            return 1\n",
    "        else:\n",
    "            return 0\n",
    "\n",
    "    without_selecting = count_prod_less_than_k(prev, curr+1, array, k, product, is_selected)\n",
    "    out_value = without_selecting\n",
    "\n",
    "    if(product * array[curr] <= k):\n",
    "        with_selecting = count_prod_less_than_k(curr, curr + 1, array, k, (product * array[curr]), True)\n",
    "        out_value = without_selecting + with_selecting\n",
    "\n",
    "    return out_value\n",
    "\n",
    "array = [2, 4, 5, 3]\n",
    "k = 12\n",
    "product = 1\n",
    "n = len(array)\n",
    "count = 0\n",
    "\n",
    "print(count_prod_less_than_k(-1, 0, array, k, product, False))"
   ]
  },
  {
   "cell_type": "markdown",
   "metadata": {
    "id": "Ne-r1VjBhfdf"
   },
   "source": [
    "#### Subsequence Product < k - Recursive with Memoization"
   ]
  },
  {
   "cell_type": "code",
   "execution_count": null,
   "metadata": {
    "id": "hv3c0-5Ihfdf"
   },
   "outputs": [],
   "source": [
    "def count_prod_less_than_k(prev, curr, array, k, product, is_selected, memo):\n",
    "    if(curr == len(array)):\n",
    "        if(product <= k and is_selected):\n",
    "            return 1\n",
    "        else:\n",
    "            return 0\n",
    "\n",
    "    if(memo[prev+1][curr] != None):\n",
    "        return memo[prev+1][curr]\n",
    "\n",
    "    without_selecting = count_prod_less_than_k(prev, curr+1, array, k, product, is_selected, memo)\n",
    "    out_value = without_selecting\n",
    "\n",
    "    if(prev == -1 or product * array[curr] <= k):\n",
    "        with_selecting = count_prod_less_than_k(curr, curr + 1, array, k, (product * array[curr]), True, memo)\n",
    "        out_value = without_selecting + with_selecting\n",
    "\n",
    "    memo[prev+1][curr] = out_value\n",
    "\n",
    "    return out_value\n",
    "\n",
    "array =  [9, 8, 3]\n",
    "k = 2\n",
    "product = 1\n",
    "n = len(array)\n",
    "count = 0\n",
    "memo = [[None] * (n+1)  for _ in range(n+1)]\n",
    "\n",
    "print(count_prod_less_than_k(-1, 0, array, k, product, False, memo))"
   ]
  },
  {
   "cell_type": "code",
   "execution_count": null,
   "metadata": {
    "id": "mtWNo1Inhfdf"
   },
   "outputs": [],
   "source": [
    "def count_prod_less_than_k_tabulation(array, k):\n",
    "    n = len(array)\n",
    "    dp = [[0] * (n+1) for _ in range(n+1)]\n",
    "    product = 1\n",
    "\n",
    "    for i in range(n):\n",
    "        if(array[i] < k):\n",
    "            dp[n][i] = 1\n",
    "\n",
    "    for i in dp:\n",
    "        print(i)\n",
    "\n",
    "    for curr in range(n-1, -1, -1):\n",
    "        for prev in range(curr - 1, -2, -1):\n",
    "\n",
    "            not_selecting = dp[curr+1][prev+1]\n",
    "            out_value = not_selecting\n",
    "\n",
    "            if(prev == -1 or array[curr] * product < k):\n",
    "                selecting = dp[curr+1][curr+1]\n",
    "                out_value = selecting + not_selecting\n",
    "\n",
    "\n",
    "            dp[curr][prev+1] = out_value\n",
    "\n",
    "    print(\"\\n\")\n",
    "    for i in dp:\n",
    "        print(i)\n",
    "\n",
    "array =  [2, 4, 5, 3]\n",
    "k = 12\n",
    "count_prod_less_than_k_tabulation(array, k)"
   ]
  },
  {
   "cell_type": "code",
   "execution_count": null,
   "metadata": {
    "id": "rh96Tq99hfdf"
   },
   "outputs": [],
   "source": []
  },
  {
   "cell_type": "markdown",
   "metadata": {
    "id": "fH--AzG0hfdf"
   },
   "source": [
    "#### Subsequence Prod < K - Using product Memo"
   ]
  },
  {
   "cell_type": "code",
   "execution_count": null,
   "metadata": {
    "id": "Urdoj3rEhfdf"
   },
   "outputs": [],
   "source": [
    "def count_prod_less_than_k(prev, curr, array, k, product, is_selected, memo):\n",
    "    if(curr == len(array)):\n",
    "        if(product <= k and is_selected):\n",
    "            return 1\n",
    "        else:\n",
    "            return 0\n",
    "\n",
    "    if(memo[curr][product] != None):\n",
    "        return memo[curr][product]\n",
    "\n",
    "    without_selecting = count_prod_less_than_k(prev, curr+1, array, k, product, is_selected, memo)\n",
    "    out_value = without_selecting\n",
    "\n",
    "    if(product * array[curr] < k):\n",
    "        with_selecting = count_prod_less_than_k(curr, curr + 1, array, k, (product * array[curr]), True, memo)\n",
    "        out_value = without_selecting + with_selecting\n",
    "\n",
    "    memo[curr][product] = out_value\n",
    "\n",
    "    return out_value\n",
    "\n",
    "array =  [1,2,3,4]\n",
    "k = 10\n",
    "product = 1\n",
    "n = len(array)\n",
    "count = 0\n",
    "memo = [[None] * (k+1)  for _ in range(n+1)]\n",
    "print(count_prod_less_than_k(-1, 0, array, k, product, False, memo))"
   ]
  },
  {
   "cell_type": "markdown",
   "metadata": {
    "id": "wylj2cdihfdf"
   },
   "source": [
    "#### Subsequence Prod < K - Using product Tabulation"
   ]
  },
  {
   "cell_type": "code",
   "execution_count": null,
   "metadata": {
    "id": "UCrBdfJwhfdf"
   },
   "outputs": [],
   "source": [
    "import math\n",
    "def count_sub_sequence_tabulation(array, k):\n",
    "    n = len(array)\n",
    "    dp = [[0] * (n+1) for _ in range(k+1)]\n",
    "\n",
    "\n",
    "    for p in range(1, k+1):\n",
    "        for i in range(1, n+1):\n",
    "            value = array[i-1]\n",
    "\n",
    "            if(value <= p):\n",
    "                exclude = dp[p][i-1]\n",
    "                alone = 1\n",
    "                include_p_index = math.floor(p/value)\n",
    "                include = dp[include_p_index][i-1]\n",
    "\n",
    "                dp[p][i] = exclude + alone + include\n",
    "            else :\n",
    "                dp[p][i] = dp[p][i-1]\n",
    "\n",
    "    for i in dp:\n",
    "        print(i)\n",
    "array = [1, 2, 3, 4]\n",
    "k = 10\n",
    "\n",
    "# array =  [2, 4, 5, 3]\n",
    "# k = 12\n",
    "\n",
    "count_sub_sequence_tabulation(array, k)\n"
   ]
  },
  {
   "cell_type": "markdown",
   "metadata": {
    "id": "qUt5r-bthfdf"
   },
   "source": [
    "#### count of subsequence less than K , in Tabulation - GFG approach"
   ]
  },
  {
   "cell_type": "code",
   "execution_count": null,
   "metadata": {
    "id": "5UeMCxFnhfdg"
   },
   "outputs": [],
   "source": [
    "def count_sub_sequence_tabulation_gfg(array, k):\n",
    "    n = len(array)\n",
    "    dp = [[1]* (k+1) for _ in range(n+1) ]\n",
    "\n",
    "    for i in range(1, n+1):\n",
    "        for k_i in range(1, k+1):\n",
    "            # exclude\n",
    "            dp[i][k_i] = dp[i-1][k_i]\n",
    "\n",
    "            # include\n",
    "            if(k_i >= array[i-1]):\n",
    "                remaining = k_i // array[i-1]\n",
    "                dp[i][k_i] += dp[i-1][remaining]\n",
    "\n",
    "    print(dp)\n",
    "\n",
    "array = [1,2,3,4]\n",
    "k = 10\n",
    "\n",
    "count_sub_sequence_tabulation_gfg(array, k)\n"
   ]
  },
  {
   "cell_type": "code",
   "execution_count": null,
   "metadata": {
    "id": "Ndv-65nshfdg"
   },
   "outputs": [],
   "source": [
    "def longest_increasing_rec(current, prev, array, n, memo):\n",
    "    if (current == n):\n",
    "        return 0\n",
    "\n",
    "    # if(memo[current][prev+1] != None):\n",
    "    #     return memo[current][prev+1]\n",
    "\n",
    "\n",
    "    with_out_selecting = longest_increasing_rec((current+1), prev, array, n, memo)\n",
    "    max_val = with_out_selecting\n",
    "\n",
    "\n",
    "    if(prev == -1 or (array[prev] - array[current]) == 1 or  (array[prev] - array[current]) == -1):\n",
    "        with_selecting = 1 + longest_increasing_rec((current+1), (current), array, n, memo)\n",
    "        max_val = max(max_val, with_selecting)\n",
    "\n",
    "\n",
    "    # memo[current][prev+1] = max_val\n",
    "    return max_val\n",
    "\n",
    "array = [1, 2, 3, 4, 5]\n",
    "memo = [[None] * (len(array)+1) for i in range(len(array)) ]\n",
    "\n",
    "lis =longest_increasing_rec(0, -1, array, len(array), memo)\n",
    "print(lis)"
   ]
  },
  {
   "cell_type": "code",
   "execution_count": null,
   "metadata": {
    "id": "8qWBYGhfhfdg"
   },
   "outputs": [],
   "source": [
    "def longest_increasing_tabulation(array):\n",
    "    n = len(array)\n",
    "    dp = [[0] * (n+1) for i in range(n+1)]\n",
    "\n",
    "\n",
    "\n",
    "    for curr in range(n-1, -1, -1):\n",
    "        for prev in range(curr-1, -2, -1):\n",
    "\n",
    "            with_out_selecting = dp[curr+1][prev+1]\n",
    "            max_val = with_out_selecting\n",
    "\n",
    "            if(prev == -1 or (array[prev] - array[curr]) == -1 or  (array[prev] - array[curr]) == 1):\n",
    "\n",
    "                with_selecting = 1 + dp[curr+1][curr+1]\n",
    "                max_val = max(max_val, with_selecting)\n",
    "\n",
    "\n",
    "            dp[curr][prev+1] = max_val\n",
    "\n",
    "    return (dp[0][0])\n",
    "\n",
    "\n",
    "array = [1, 2, 3, 4, 5]\n",
    "\n",
    "longest_increasing_tabulation(array)\n",
    "\n",
    "\n",
    "\n"
   ]
  },
  {
   "cell_type": "markdown",
   "metadata": {
    "id": "CwJ2Q-Aghfdg"
   },
   "source": [
    "#### Stikcler thief - Maximum sum such that no two elements are adjacent"
   ]
  },
  {
   "cell_type": "code",
   "execution_count": null,
   "metadata": {
    "id": "lvTyf7vThfdg"
   },
   "outputs": [],
   "source": [
    "def max_no_2_consec_rec(curr, array, n):\n",
    "    if(curr >= n):\n",
    "        return 0\n",
    "\n",
    "    with_out_selecting = max_no_2_consec_rec(curr + 1, array, n)\n",
    "    with_selecting = array[curr] + max_no_2_consec_rec(curr+2, array, n)\n",
    "\n",
    "    max_val = max(with_selecting, with_out_selecting)\n",
    "\n",
    "    return max_val\n",
    "\n",
    "array = [6, 5, 5, 7, 4]\n",
    "n = len(array)\n",
    "max_no_2_consec_rec(0, array , n)\n"
   ]
  },
  {
   "cell_type": "code",
   "execution_count": null,
   "metadata": {
    "id": "PFVjxnfXhfdg"
   },
   "outputs": [],
   "source": [
    "def max_no_2_consec_memo(curr, array, n, memo):\n",
    "    if(curr >= n):\n",
    "        return 0\n",
    "\n",
    "    if (memo[curr] != None):\n",
    "        return memo[curr]\n",
    "\n",
    "    with_out_selecting = max_no_2_consec_memo(curr + 1, array, n, memo)\n",
    "    with_selecting = array[curr] + max_no_2_consec_memo(curr+3, array,n, memo)\n",
    "\n",
    "    max_val = max(with_selecting, with_out_selecting)\n",
    "\n",
    "    memo[curr] = max_val\n",
    "    return max_val\n",
    "\n",
    "array = [3000, 2000, 1000, 3, 10]\n",
    "n = len(array)\n",
    "memo = [None] * n\n",
    "max_no_2_consec_memo(0, array , n, memo)"
   ]
  },
  {
   "cell_type": "code",
   "execution_count": null,
   "metadata": {
    "id": "9Tb-yiOfhfdg"
   },
   "outputs": [],
   "source": [
    "def max_no_2_consec_memo(curr, array, n, memo):\n",
    "    if(curr >= n):\n",
    "        return 0\n",
    "\n",
    "    if (memo[curr] != None):\n",
    "        return memo[curr]\n",
    "\n",
    "    with_out_selecting = max_no_2_consec_memo(curr + 1, array, n, memo)\n",
    "    with_selecting = array[curr] + max_no_2_consec_memo(curr+3, array, memo)\n",
    "\n",
    "    max_val = max(with_selecting, with_out_selecting)\n",
    "\n",
    "    memo[curr] = max_val\n",
    "    return max_val\n",
    "\n",
    "array = [3000, 2000, 1000, 3, 10]\n",
    "n = len(array)\n",
    "memo = [None] * n\n",
    "max_no_2_consec_memo(0, array , n, memo)"
   ]
  },
  {
   "cell_type": "code",
   "execution_count": null,
   "metadata": {
    "id": "Zz6aAA1jhfdg"
   },
   "outputs": [],
   "source": [
    "def max_no_3_consec_rec(curr, array, n, consec_count, memo):\n",
    "    if(curr >= n):\n",
    "        return 0\n",
    "\n",
    "    if(memo[consec_count][curr] != None):\n",
    "        return memo[consec_count][curr]\n",
    "\n",
    "    with_out_selecting = max_no_3_consec_rec(curr + 1, array, n, 0, memo)\n",
    "    max_val = with_out_selecting\n",
    "    if(consec_count < 2):\n",
    "        with_selecting = array[curr] + max_no_3_consec_rec(curr+1, array, n,(consec_count+1), memo)\n",
    "        max_val = max(max_val, with_selecting)\n",
    "\n",
    "    memo[consec_count][curr] = max_val\n",
    "    return max_val\n",
    "\n",
    "array =  [1, 2, 3]\n",
    "n = len(array)\n",
    "memo = [[None] * n for _ in range(3)]\n",
    "max_no_3_consec_rec(0, array , n , 0, memo)\n"
   ]
  },
  {
   "cell_type": "code",
   "execution_count": null,
   "metadata": {
    "id": "mvKUD6Pihfdg"
   },
   "outputs": [],
   "source": [
    "def max_no_3_consec_tab(array):\n",
    "    n = len(array)\n",
    "    dp = [[0] * (n + 1) for _ in range(3)]  # dp[consec_count][curr]\n",
    "    # print (dp)\n",
    "\n",
    "    # Traverse from the end of the array to the beginning\n",
    "    for curr in range(n - 1, -1, -1):\n",
    "        for consec_count in range(3):\n",
    "            # Option 1: Skip current element → reset consec_count\n",
    "            skip = dp[0][curr + 1]\n",
    "\n",
    "            # Option 2: Take current element if consec_count < 2\n",
    "            take = 0\n",
    "            if consec_count < 2:\n",
    "                take = array[curr] + dp[consec_count + 1][curr + 1]\n",
    "\n",
    "            # Store the max of both options\n",
    "            dp[consec_count][curr] = max(skip, take)\n",
    "        for i in dp:\n",
    "            print(i)\n",
    "        print(\"\")\n",
    "    return dp[0][0]  # Start from index 0 with 0 consecutive picks\n",
    "\n",
    "\n",
    "array =  [1, 2, 3]\n",
    "max_no_3_consec_tab(array)\n"
   ]
  },
  {
   "cell_type": "code",
   "execution_count": null,
   "metadata": {
    "id": "RNWBCA8Khfdh"
   },
   "outputs": [],
   "source": [
    "def max_3_consecuive_tab(array):\n",
    "    n = len(array)\n",
    "    dp = [[0] * (n+1) for _ in range(3)]\n",
    "\n",
    "\n",
    "    for curr in range(n-1, -1, -1):\n",
    "        for consec in range(3):\n",
    "            skip = dp[0][curr + 1]\n",
    "\n",
    "            out = skip\n",
    "            if(consec < 2):\n",
    "                take = array[curr] + dp[consec+1][curr+1]\n",
    "                out = max(out, take)\n",
    "\n",
    "            dp[consec][curr] = out\n",
    "\n",
    "\n",
    "    return dp[0][0]\n",
    "\n",
    "\n",
    "array =  [1, 2, 3]\n",
    "max_3_consecuive_tab(array)\n"
   ]
  },
  {
   "cell_type": "markdown",
   "metadata": {
    "id": "sqfwvUvJhfdh"
   },
   "source": [
    "#### Egg Dropping Problem"
   ]
  },
  {
   "cell_type": "code",
   "execution_count": null,
   "metadata": {
    "id": "qO5yxkefhfdh"
   },
   "outputs": [],
   "source": [
    "def egg_dropping_rec(eggs, floors, memo):\n",
    "    print(floors, eggs)\n",
    "    if(memo[floors][eggs] != None):\n",
    "        return memo[floors][eggs]\n",
    "\n",
    "    if(eggs == 1 or (floors == 1 or floors ==0)):\n",
    "        return floors\n",
    "\n",
    "    # print(\"here\")\n",
    "    min_number = float('inf')\n",
    "    # print(\"iterating from 1 to \",floors)\n",
    "    for i in range(1, floors+1):\n",
    "        # do not break\n",
    "        # print(\"Attempt (\",i, eggs,\")\")\n",
    "        # print(\"Calling DNB: (\",floors - i, eggs,\")\")\n",
    "        dontbreak = egg_dropping_rec(eggs, floors - i, memo, )\n",
    "\n",
    "        # print(\"retruned to : 1 to \",floors)\n",
    "\n",
    "        # print(\"Calling B: (\",i-1, eggs-1,\")\")\n",
    "        breaks = egg_dropping_rec(eggs-1, i-1, memo)\n",
    "\n",
    "\n",
    "        max_output = 1 + max(dontbreak, breaks)\n",
    "        # print(\"final of : 1 to \",floors, \"max_out:\", max_output)\n",
    "\n",
    "        if(max_output < min_number):\n",
    "            min_number = max_output\n",
    "\n",
    "    memo[floors][eggs] = min_number\n",
    "    return ( min_number)\n",
    "\n",
    "\n",
    "eggs = 10\n",
    "floors = 100\n",
    "\n",
    "memo = [[None]*(eggs+1) for _ in range(floors+1) ]\n",
    "# print(memo[3][])\n",
    "\n",
    "egg_dropping_rec(eggs, floors,memo)\n"
   ]
  },
  {
   "cell_type": "code",
   "execution_count": null,
   "metadata": {
    "id": "ai1FjSaEhfdh"
   },
   "outputs": [],
   "source": [
    "def egg_dropping_tabulation(floors, eggs):\n",
    "    dp = [[0] * (floors+1) for _ in range((eggs+1))]\n",
    "\n",
    "    for i in dp:\n",
    "        print(i)\n",
    "\n",
    "    print(\" \")\n",
    "\n",
    "    for i in range(1, (floors+1)):\n",
    "        dp[1][i] = i\n",
    "\n",
    "    for i in range(1, (eggs+1)):\n",
    "        dp[i][1] = 1\n",
    "\n",
    "\n",
    "    for i in dp:\n",
    "        print(i)\n",
    "\n",
    "    for egg in range(2, (eggs+1)):\n",
    "        for floor in range(2, (floors+1)):\n",
    "\n",
    "            min_num = float('inf')\n",
    "\n",
    "            for i in range(floor):\n",
    "\n",
    "                breaks = dp[egg-1][i-1]\n",
    "                donotbreak = dp[egg][floor - i]\n",
    "\n",
    "                max_output = 1 + max(breaks, donotbreak)\n",
    "\n",
    "                if(max_output < min_num):\n",
    "                    min_num = max_output\n",
    "\n",
    "            dp[egg][floor] = min_num\n",
    "\n",
    "    print(\"\")\n",
    "\n",
    "\n",
    "    for i in dp:\n",
    "        print(i)\n",
    "\n",
    "    return dp[eggs][floors]\n",
    "\n",
    "floors= 8\n",
    "eggs = 2\n",
    "\n",
    "egg_dropping_tabulation(floors, eggs)"
   ]
  },
  {
   "cell_type": "code",
   "execution_count": null,
   "metadata": {
    "id": "mH9IjyD4hfdh"
   },
   "outputs": [],
   "source": [
    "def egg_dropping_tabulation_binary_search(floors, eggs):\n",
    "    dp = [[0] * (floors+1) for _ in range((eggs+1))]\n",
    "\n",
    "    for i in dp:\n",
    "        print(i)\n",
    "\n",
    "    print(\" \")\n",
    "\n",
    "    for i in range(1, (floors+1)):\n",
    "        dp[1][i] = i\n",
    "\n",
    "    for i in range(1, (eggs+1)):\n",
    "        dp[i][1] = 1\n",
    "\n",
    "\n",
    "    for i in dp:\n",
    "        print(i)\n",
    "\n",
    "    for egg in range(2, (eggs+1)):\n",
    "        for floor in range(2, (floors+1)):\n",
    "\n",
    "            min_num = floor\n",
    "            low = 1\n",
    "            high = floor+1\n",
    "\n",
    "            while(low < high):\n",
    "                mid = (low + high)//2\n",
    "                breaks = dp[egg-1][mid-1]\n",
    "                donotbreak = dp[egg][floor - mid]\n",
    "                max_output = 1 + max(breaks, donotbreak)\n",
    "\n",
    "                if(max_output < min_num):\n",
    "                    min_num = max_output\n",
    "\n",
    "\n",
    "                if(breaks < donotbreak):\n",
    "                    low  = mid + 1\n",
    "                else:\n",
    "                    high = mid\n",
    "\n",
    "\n",
    "            dp[egg][floor] = min_num\n",
    "\n",
    "    print(\"\")\n",
    "\n",
    "\n",
    "    for i in dp:\n",
    "        print(i)\n",
    "\n",
    "    return dp[eggs][floors]\n",
    "\n",
    "floors= 20\n",
    "eggs = 10\n",
    "\n",
    "egg_dropping_tabulation_binary_search(floors, eggs)"
   ]
  },
  {
   "cell_type": "code",
   "execution_count": null,
   "metadata": {
    "id": "H7jZM0B-hfdh"
   },
   "outputs": [],
   "source": [
    "def egg_drop(k, n):\n",
    "    # m = number of moves (experiments)\n",
    "    # k = number of eggs\n",
    "    dp = [[0] * (k + 1) for _ in range(n + 1)]\n",
    "\n",
    "    for m in range(1, n + 1):\n",
    "        for e in range(1, k + 1):\n",
    "            dp[m][e] = 1 + dp[m - 1][e - 1] + dp[m - 1][e]\n",
    "        if dp[m][k] >= n:\n",
    "            return m\n",
    "\n",
    "    return n  # worst case: 1 floor per move\n",
    "\n",
    "floors= 20\n",
    "eggs = 10\n",
    "\n",
    "egg_drop(floors, eggs)"
   ]
  },
  {
   "cell_type": "code",
   "execution_count": null,
   "metadata": {
    "id": "BpCY7GTLhfdh"
   },
   "outputs": [],
   "source": [
    "def egg_dropping(eggs, floors):\n",
    "    # we are going to create a dp table which will contain the\n",
    "    # eggs -> number of egges\n",
    "    # Experiments -> number of experiments we can perform\n",
    "\n",
    "    experimnets = floors\n",
    "    dp = [[0] * (eggs+1) for _ in range(floors+1)]\n",
    "\n",
    "    for experiment in range(1, experimnets+1):\n",
    "        for egg in range(1, eggs+1):\n",
    "            dp[experiment][egg] = 1 + dp[experiment - 1][egg -1] + dp[experiment - 1][egg]\n",
    "\n",
    "            if(dp[experiment][egg] >= floors):\n",
    "                return experiment\n",
    "\n",
    "\n",
    "    #worst case\n",
    "    return floors\n",
    "\n",
    "\n",
    "\n",
    "floors= 20\n",
    "eggs = 10\n",
    "\n",
    "egg_dropping(floors, eggs)"
   ]
  },
  {
   "cell_type": "markdown",
   "metadata": {
    "id": "6z7BW6j6hfdh"
   },
   "source": [
    "#### Chain of Pairs - Brute force - my solution"
   ]
  },
  {
   "cell_type": "code",
   "execution_count": null,
   "metadata": {
    "id": "ufCqiV2ehfdh"
   },
   "outputs": [],
   "source": [
    "def chain_of_pairs(array, curr, memo):\n",
    "    print(curr)\n",
    "\n",
    "    if(memo[curr] != None):\n",
    "        print(\"fell in here\")\n",
    "        return memo[curr]\n",
    "\n",
    "    end_link = array[curr][1]\n",
    "\n",
    "    max_count = float('-inf')\n",
    "    count = max_count\n",
    "\n",
    "    for i in range(len(array)):\n",
    "        if(end_link < array[i][0]):\n",
    "            count = 1 + chain_of_pairs(array, i, memo)\n",
    "        max_count = max(max_count, count)\n",
    "\n",
    "    if(max_count == float('-inf')):\n",
    "        return 1\n",
    "\n",
    "    memo[curr] = max_count\n",
    "    return max_count\n",
    "\n",
    "array = [[2,3],[3,4],[1,2]]\n",
    "\n",
    "max_count = float('-inf')\n",
    "for i in range(len(array)):\n",
    "    memo = [None] * len(array)\n",
    "    count = chain_of_pairs(array, i, memo)\n",
    "\n",
    "    max_count = max(max_count, count)\n",
    "\n",
    "print(max_count)\n"
   ]
  },
  {
   "cell_type": "markdown",
   "metadata": {
    "id": "YvNmWIIohfdh"
   },
   "source": [
    "#### chain of pairs - LIS solution"
   ]
  },
  {
   "cell_type": "code",
   "execution_count": null,
   "metadata": {
    "id": "J3I8fBa0hfdi"
   },
   "outputs": [],
   "source": [
    "def longes_chain(prev, curr, array, memo):\n",
    "    n = len(array)\n",
    "    if(curr == n):\n",
    "        return 0\n",
    "\n",
    "    if(memo[prev+1][curr] != None):\n",
    "        return memo[prev+1][curr]\n",
    "\n",
    "    do_not_select = longes_chain(prev, curr+1, array, memo)\n",
    "    max_value = do_not_select;\n",
    "\n",
    "    if(prev == -1 or array[prev][1] < array[curr][0]):\n",
    "        select  = 1 + longes_chain(curr, curr + 1 , array, memo)\n",
    "        max_value = max(max_value, select)\n",
    "\n",
    "    memo[prev+1][curr] = max_value\n",
    "    return max_value\n",
    "\n",
    "array = [[2,3],[3,4],[1,2]]\n",
    "array.sort()\n",
    "n = len(array)\n",
    "print(array)\n",
    "memo = [[None] * (n+1) for _ in range((n+1))]\n",
    "longes_chain(-1, 0, array, memo)"
   ]
  },
  {
   "cell_type": "markdown",
   "metadata": {
    "id": "EBJRRseRhfdi"
   },
   "source": [
    "#### Max length chain - LIS Bottom Top Down"
   ]
  },
  {
   "cell_type": "code",
   "execution_count": null,
   "metadata": {
    "id": "bQD8fxwghfdi"
   },
   "outputs": [],
   "source": [
    "def longest_chain_tabulation(array):\n",
    "    n = len(array)\n",
    "\n",
    "    dp = [[0] * (n+1) for _ in range(n+1)]\n",
    "\n",
    "    for curr in range(n-1, -1, -1):\n",
    "        for prev in range(curr - 1, -2, -1):\n",
    "            do_not_select = dp[prev+1][curr+1]\n",
    "            max_value = do_not_select\n",
    "\n",
    "            if(prev == -1 or array[prev][1] < array[curr][0] ):\n",
    "                select = 1 + dp[curr+1][curr+1]\n",
    "                max_value = max(max_value, select)\n",
    "\n",
    "            dp[prev+1][curr] = max_value\n",
    "\n",
    "    print(dp)\n",
    "\n",
    "array = [[2,3],[3,4],[1,2]]\n",
    "array.sort()\n",
    "longest_chain_tabulation(array)"
   ]
  },
  {
   "cell_type": "markdown",
   "metadata": {
    "id": "VgY3Xvlvhfdi"
   },
   "source": [
    "#### Max chain length (Greedy approach)"
   ]
  },
  {
   "cell_type": "code",
   "execution_count": null,
   "metadata": {
    "id": "dCcA8Ugjhfdi"
   },
   "outputs": [],
   "source": [
    "def max_length(array):\n",
    "    n = len(array)\n",
    "\n",
    "    array.sort(key= lambda x: x[1])\n",
    "    i = 0\n",
    "    j = 1\n",
    "    count = 1\n",
    "\n",
    "    while(i<n and j<n):\n",
    "        if(array[i][1] < array[j][0]):\n",
    "            count = count + 1\n",
    "            i = j\n",
    "        j = j + 1\n",
    "\n",
    "    return count\n",
    "\n",
    "\n",
    "array = [[2,3],[3,0],[1,2]]\n",
    "max_length(array)"
   ]
  },
  {
   "cell_type": "markdown",
   "metadata": {
    "id": "1S95hYeVhfdi"
   },
   "source": [
    "#### Matrix square count"
   ]
  },
  {
   "cell_type": "code",
   "execution_count": null,
   "metadata": {
    "id": "twu5PtuThfdi"
   },
   "outputs": [],
   "source": [
    "def isSquare(i, j, m, n, array, curr):\n",
    "    print(\"i, j\",i, j)\n",
    "    if(i+1 < m and j+1 < n ):\n",
    "\n",
    "        if(array[i+1][j+1] != 1):\n",
    "            print(\"ret\")\n",
    "            return False\n",
    "\n",
    "        if(array[i][j+1] != 1 or array[i+1][j] != 1):\n",
    "            return False\n",
    "\n",
    "        for curr_i in range(1, curr):\n",
    "            if(array[i-curr_i][j+1] != 1):\n",
    "                return False\n",
    "            if(array[i+1][j-curr_i] != 1):\n",
    "                return False\n",
    "\n",
    "        return True\n",
    "    else :\n",
    "        False\n",
    "\n",
    "def find_max(i, j, m, n, array, curr):\n",
    "    print(i, j, m, n, curr)\n",
    "\n",
    "    max_count = curr\n",
    "    if(isSquare(i, j, m, n, array, curr)):\n",
    "        print(\"this is square\")\n",
    "        print(\"calling recursively\")\n",
    "        max_count =  find_max(i+1, j+1, m, n, array, curr+1)\n",
    "\n",
    "    return max_count\n",
    "\n",
    "def isSquareMatrixProblem(array):\n",
    "    m = len(array)\n",
    "    n = len(array[0])\n",
    "\n",
    "    max_count = 0\n",
    "    for i in range(m):\n",
    "        for j in range(n):\n",
    "            if(array[i][j] == 1):\n",
    "               count = find_max(i, j, m, n, array, 1)\n",
    "               print(i,j,\"-----------------------count =\", count)\n",
    "               max_count = max(max_count, count)\n",
    "\n",
    "    return max_count\n",
    "\n",
    "array =  [\n",
    "    [1, 1, 1, 1, 1, 1, 1, 1, 1, 1],\n",
    "    [1, 1, 1, 1, 1, 1, 1, 1, 1, 1],\n",
    "    [1, 1, 1, 1, 0, 0, 1, 1, 1, 1],\n",
    "    [0, 1, 0, 1, 1, 1, 1, 1, 1, 1],\n",
    "    [1, 0, 1, 1, 1, 1, 1, 0, 0, 1],\n",
    "    [0, 0, 1, 1, 1, 0, 1, 0, 1, 0],\n",
    "    [1, 1, 1, 1, 1, 1, 1, 0, 0, 1],\n",
    "]\n",
    "\n",
    "isSquareMatrixProblem(array)\n"
   ]
  },
  {
   "cell_type": "markdown",
   "metadata": {
    "id": "jG9-MDeAhfdi"
   },
   "source": [
    "#### Max Square matrix length - tradiational - Recursive"
   ]
  },
  {
   "cell_type": "code",
   "execution_count": null,
   "metadata": {
    "id": "gXeaMSFzhfdi"
   },
   "outputs": [],
   "source": [
    "def max_length_square_matrix_rec_helper(i, j, m, n, array):\n",
    "\n",
    "    if(i >= m or j>=n):\n",
    "        return 0\n",
    "\n",
    "    if(array[i][j] == 1):\n",
    "        right = max_length_square_matrix_rec_helper(i, j+1, m, n, array)\n",
    "        diag = max_length_square_matrix_rec_helper(i+1, j+1, m, n, array)\n",
    "        down = max_length_square_matrix_rec_helper(i + 1, j, m, n, array)\n",
    "\n",
    "        return 1 + min (right, diag, down)\n",
    "    return 0\n",
    "\n",
    "def max_length_matrix_rec(array):\n",
    "    max_count = 0\n",
    "    m = len(array)\n",
    "    n = len(array[0])\n",
    "    for i in range(m):\n",
    "        for j in range(n):\n",
    "            if(array[i][j] == 1):\n",
    "                max_count = max(max_count, max_length_square_matrix_rec_helper(i, j, m, n, array))\n",
    "\n",
    "    return max_count\n",
    "\n",
    "matrix = [\n",
    "    [1, 1, 1, 1, 1, 1, 1, 1, 1, 1],\n",
    "    [1, 1, 1, 1, 1, 1, 1, 1, 1, 1],\n",
    "    [1, 1, 1, 1, 0, 0, 1, 1, 1, 1],\n",
    "    [0, 1, 0, 1, 1, 1, 1, 1, 1, 1],\n",
    "    [1, 0, 1, 1, 1, 1, 1, 0, 0, 1],\n",
    "    [0, 0, 1, 1, 1, 0, 1, 0, 1, 0],\n",
    "    [1, 1, 1, 1, 1, 1, 1, 0, 0, 1],\n",
    "]\n",
    "print(maximalSquare(matrix))\n"
   ]
  },
  {
   "cell_type": "markdown",
   "metadata": {
    "id": "pL7q9Rpmhfdi"
   },
   "source": [
    "#### Max Square matrix length - tradiational - Recursive  - Memoization"
   ]
  },
  {
   "cell_type": "code",
   "execution_count": null,
   "metadata": {
    "id": "Qf7dPL16hfdi"
   },
   "outputs": [],
   "source": [
    "def max_length_square_matrix_rec_helper(i, j, m, n, array, memo):\n",
    "\n",
    "    if(i >= m or j>=n):\n",
    "        return 0\n",
    "\n",
    "    if(memo[i][j] != None):\n",
    "        return memo[i][j]\n",
    "\n",
    "    output = 0\n",
    "    if(array[i][j] == 1):\n",
    "        right = max_length_square_matrix_rec_helper(i, j+1, m, n, array, memo)\n",
    "        diag = max_length_square_matrix_rec_helper(i+1, j+1, m, n, array, memo)\n",
    "        down = max_length_square_matrix_rec_helper(i + 1, j, m, n, array, memo)\n",
    "\n",
    "        output = 1 + min (right, diag, down)\n",
    "\n",
    "    memo[i][j] = output\n",
    "    return output\n",
    "\n",
    "def max_length_matrix_rec(array):\n",
    "    max_count = 0\n",
    "    m = len(array)\n",
    "    n = len(array[0])\n",
    "\n",
    "    memo = [[None] * (n) for _ in range(m)]\n",
    "\n",
    "    for i in range(m):\n",
    "        for j in range(n):\n",
    "            if(array[i][j] == 1):\n",
    "                max_count = max(max_count, max_length_square_matrix_rec_helper(i, j, m, n, array, memo))\n",
    "\n",
    "    return max_count\n",
    "\n",
    "matrix = [\n",
    "    [1, 1, 1, 1, 1, 1, 1, 1, 1, 1],\n",
    "    [1, 1, 1, 1, 1, 1, 1, 1, 1, 1],\n",
    "    [1, 1, 1, 1, 0, 0, 1, 1, 1, 1],\n",
    "    [0, 1, 0, 1, 1, 1, 1, 1, 1, 1],\n",
    "    [1, 0, 1, 1, 1, 1, 1, 0, 0, 1],\n",
    "    [0, 0, 1, 1, 1, 0, 1, 0, 1, 0],\n",
    "    [1, 1, 1, 1, 1, 1, 1, 0, 0, 1],\n",
    "]\n",
    "\n",
    "max_length_matrix_rec(matrix)"
   ]
  },
  {
   "cell_type": "markdown",
   "metadata": {
    "id": "5J-EIhChhfdi"
   },
   "source": [
    "#### max square matrix tabulation"
   ]
  },
  {
   "cell_type": "code",
   "execution_count": null,
   "metadata": {
    "id": "wHaOX6_jhfdi"
   },
   "outputs": [],
   "source": [
    "def max_length_matrix_tabulation(array):\n",
    "\n",
    "    m = len(array)\n",
    "    n = len(array[0])\n",
    "\n",
    "    dp = [[0] * n for _ in range(m)]\n",
    "\n",
    "\n",
    "    for i in range(m):\n",
    "        max_value = max(max_value, dp[i][0])  # Consider first column\n",
    "        dp[i][0] = array[i][0]\n",
    "\n",
    "    for j in range(n):\n",
    "        max_value = max(max_value, dp[0][j])  # Consider first column\n",
    "        dp[0][j] = array[0][j]\n",
    "\n",
    "    max_value = float('-inf')\n",
    "    for i in range(1, m):\n",
    "        for j in range(1, n):\n",
    "            if(array[i][j] == 1):\n",
    "                up = dp[i-1][j]\n",
    "                left  = dp[i][j-1]\n",
    "                upper_left_digonal = dp[i-1][j-1]\n",
    "\n",
    "                out = 1 + min (up, left, upper_left_digonal)\n",
    "                max_value = max(max_value, out)\n",
    "                dp[i][j] = out\n",
    "            else:\n",
    "                dp[i][j] = array[i][j]\n",
    "\n",
    "\n",
    "    return (max_value)\n",
    "\n",
    "\n",
    "array = [\n",
    "    [1, 1, 1, 1, 1, 1, 1, 1, 1, 1],\n",
    "    [1, 1, 1, 1, 1, 1, 1, 1, 1, 1],\n",
    "    [1, 1, 1, 1, 0, 0, 1, 1, 1, 1],\n",
    "    [0, 1, 0, 1, 1, 1, 1, 1, 1, 1],\n",
    "    [1, 0, 1, 1, 1, 1, 1, 0, 0, 1],\n",
    "    [0, 0, 1, 1, 1, 0, 1, 0, 1, 0],\n",
    "    [1, 1, 1, 1, 1, 1, 1, 0, 0, 1],\n",
    "]\n",
    "\n",
    "max_length_matrix_tabulation(array)"
   ]
  },
  {
   "cell_type": "markdown",
   "metadata": {
    "id": "ktSclJS4hfdj"
   },
   "source": [
    "#### Max sum pairs with certain difference"
   ]
  },
  {
   "cell_type": "code",
   "execution_count": null,
   "metadata": {
    "id": "r3y3Yhqfhfdj"
   },
   "outputs": [],
   "source": [
    "def max_sum_pairs_with_certain_diff(array, k):\n",
    "    n = len(array)\n",
    "    array.sort()\n",
    "    dp = [None] * n\n",
    "\n",
    "    dp[0] = array[0]\n",
    "\n",
    "    for i in range(1, n):\n",
    "        if(array[i] - array[i-1] < k):\n",
    "            sum_of_curr_pair = array[i] + array[i-1]\n",
    "            if(i == 1):\n",
    "                sum_till_here = sum_of_curr_pair\n",
    "            else:\n",
    "                sum_till_here = dp[i-2] + sum_of_curr_pair\n",
    "\n",
    "            dp[i] = max(dp[i-1], sum_till_here)\n",
    "\n",
    "        else :\n",
    "            dp[i] = dp[i-1]\n",
    "\n",
    "    print(array)\n",
    "    print(dp)\n",
    "\n",
    "array = [3, 5, 10, 15, 17, 12, 9]\n",
    "k = 4\n",
    "max_sum_pairs_with_certain_diff(array, k)"
   ]
  },
  {
   "cell_type": "code",
   "execution_count": null,
   "metadata": {
    "id": "Z4hl0cIThfdj"
   },
   "outputs": [],
   "source": [
    "def max_sum_pairs_with_certain_diff_brute(array, k):\n",
    "    array.sort(reverse=True)\n",
    "    n = len(array)\n",
    "    print(array)\n",
    "\n",
    "    i = 0\n",
    "    total_sum = 0\n",
    "    while (i<n-1):\n",
    "        curr_diff = abs(array[i] - array[i+1])\n",
    "        if (curr_diff < k):\n",
    "            total_sum = total_sum + array[i] + array[i+1]\n",
    "            i = i + 2\n",
    "        else :\n",
    "            i = i + 1\n",
    "    return total_sum\n",
    "\n",
    "\n",
    "array = [3, 5, 10, 15, 17, 12, 9]\n",
    "k = 4\n",
    "max_sum_pairs_with_certain_diff_brute(array, k)\n"
   ]
  },
  {
   "cell_type": "code",
   "execution_count": null,
   "metadata": {
    "id": "ZbuES3mphfdj"
   },
   "outputs": [],
   "source": [
    "def max_sum_pairs_with_certain_diff_recursive(array, k, i=0):\n",
    "    n = len(array)\n",
    "    if i >= n - 1:\n",
    "        return 0\n",
    "\n",
    "    if abs(array[i] - array[i + 1]) < k:\n",
    "        # Option 1: Take the pair\n",
    "        take = array[i] + array[i + 1] + max_sum_pairs_with_certain_diff_recursive(array, k, i + 2)\n",
    "        # Option 2: Skip the current element\n",
    "        skip = max_sum_pairs_with_certain_diff_recursive(array, k, i + 1)\n",
    "        return max(take, skip)\n",
    "    else:\n",
    "        # Can't pair, so skip\n",
    "        return max_sum_pairs_with_certain_diff_recursive(array, k, i + 1)\n",
    "\n",
    "\n",
    "array = [3, 5, 10, 15, 17, 12, 9]\n",
    "k = 4\n",
    "array.sort(reverse=True)  # Sort in descending order to prioritize higher sums\n",
    "print(max_sum_pairs_with_certain_diff_recursive(array, k))  # Output: 62\n"
   ]
  },
  {
   "cell_type": "code",
   "execution_count": null,
   "metadata": {
    "id": "BpR44OC0hfdj"
   },
   "outputs": [],
   "source": [
    "def max_sum_pairs_with_certain_diff_dp(array, k):\n",
    "    array.sort(reverse=True)\n",
    "    n = len(array)\n",
    "    dp = [0] * (n + 2)  # dp[n] and dp[n+1] are 0\n",
    "\n",
    "    for i in range(n - 2, -1, -1):  # Start from second last index\n",
    "        if abs(array[i] - array[i+1]) < k:\n",
    "            pair_sum = array[i] + array[i+1] + dp[i + 2]\n",
    "            skip_sum = dp[i + 1]\n",
    "            dp[i] = max(pair_sum, skip_sum)\n",
    "        else:\n",
    "            dp[i] = dp[i + 1]\n",
    "\n",
    "    return dp[0]\n",
    "\n",
    "\n",
    "array = [3, 5, 10, 15, 17, 12, 9]\n",
    "k = 4\n",
    "# array.sort(reverse=True)  # Sort in descending order to prioritize higher sums\n",
    "print(max_sum_pairs_with_certain_diff_dp(array, k))  # Output: 62\n"
   ]
  },
  {
   "cell_type": "markdown",
   "metadata": {
    "id": "VYC-y_fThfdj"
   },
   "source": [
    "#### Max sum pairs with certain difff - Brute Force Normal approach"
   ]
  },
  {
   "cell_type": "code",
   "execution_count": null,
   "metadata": {
    "id": "Ygsj1SYyhfdj"
   },
   "outputs": [],
   "source": [
    "def max_sum_pairs_with_certain_diff_normal(array, k):\n",
    "    n = len(array)\n",
    "    array.sort(reverse = True)\n",
    "\n",
    "    i = 0\n",
    "    total_sum = 0\n",
    "    while(i < n-1):\n",
    "        diff = abs(array[i] - array[i+1])\n",
    "\n",
    "        if(diff < k):\n",
    "            total_sum = total_sum + array[i] + array[i+1]\n",
    "            i = i + 2\n",
    "        else :\n",
    "            i = i + 1\n",
    "\n",
    "    return total_sum\n",
    "\n",
    "array = [3, 5, 10, 15, 17, 12, 9]\n",
    "k = 4\n",
    "max_sum_pairs_with_certain_diff_normal(array, k)\n"
   ]
  },
  {
   "cell_type": "markdown",
   "metadata": {
    "id": "v1DpneUQhfdj"
   },
   "source": [
    "#### Max Sum difference with certain Difference - Recursive"
   ]
  },
  {
   "cell_type": "code",
   "execution_count": null,
   "metadata": {
    "id": "PGZw4tnqhfdj"
   },
   "outputs": [],
   "source": [
    "def max_sum_with_ceratain_diff(array, k, i):\n",
    "    n = len(array)\n",
    "    if(i > n-1):\n",
    "        return 0\n",
    "\n",
    "    diff = abs(array[i] - array[i +1])\n",
    "\n",
    "    total_count = 0\n",
    "    if(diff < k):\n",
    "        total_count = array[i] + array[i + 1] + max_sum_with_ceratain_diff(array, k, i + 2)\n",
    "    else :\n",
    "        total_count = max_sum_with_ceratain_diff(array, k, i + 1)\n",
    "\n",
    "    return total_count\n",
    "\n",
    "\n",
    "array = [3, 5, 10, 15, 17, 12, 9]\n",
    "k = 4\n",
    "array.sort(reverse= True)\n",
    "max_sum_with_ceratain_diff(array, k, 0)\n"
   ]
  },
  {
   "cell_type": "markdown",
   "metadata": {
    "id": "IPbPGKpYhfdj"
   },
   "source": [
    "#### Max sum with certan difference - Dynamic programming approach - Tabulation"
   ]
  },
  {
   "cell_type": "code",
   "execution_count": null,
   "metadata": {
    "id": "HOXP4k6hhfdk"
   },
   "outputs": [],
   "source": [
    "def max_sum_pairs_with_certain_diff_tabulation(array, k):\n",
    "    n = len(array)\n",
    "    dp = [0] * (n+2)\n",
    "    array.sort(reverse = True)\n",
    "\n",
    "    for i in range(n-2, -1, -1):\n",
    "        difference = abs(array[i] - array[i+1])\n",
    "\n",
    "        if(difference < k):\n",
    "            select = array[i] + array[i +1] + dp[i + 2]\n",
    "            do_not_select = dp[i + 1]\n",
    "            dp[i] = max(select, do_not_select)\n",
    "        else:\n",
    "            dp[i] = dp[i+1]\n",
    "\n",
    "\n",
    "    return dp[0]\n",
    "\n",
    "\n",
    "array = [3, 5, 10, 15, 17, 12, 9]\n",
    "k = 4\n",
    "max_sum_pairs_with_certain_diff_tabulation(array, k)"
   ]
  },
  {
   "cell_type": "markdown",
   "metadata": {
    "id": "Hllg1dGthfdk"
   },
   "source": [
    "#### Maximum path sum in matrix - Recursive"
   ]
  },
  {
   "cell_type": "code",
   "execution_count": null,
   "metadata": {
    "id": "b91lhjGThfdk"
   },
   "outputs": [],
   "source": [
    "def find_max_rec(i, j, m, n, array, memo):\n",
    "\n",
    "    if(i>= m):\n",
    "        return 0\n",
    "\n",
    "    if(memo[i][j] != None):\n",
    "        return memo[i][j]\n",
    "\n",
    "    left = 0\n",
    "    if(j - 1 >= 0):\n",
    "        left = find_max_rec(i+1, j-1, m, n, array, memo)\n",
    "\n",
    "    right = 0\n",
    "    if(j + 1 < n):\n",
    "        right = find_max_rec(i+1 , j+1, m, n, array, memo)\n",
    "\n",
    "    down = find_max_rec(i+1, j, m, n, array, memo)\n",
    "\n",
    "    max_output = array[i][j] + max(left, right, down)\n",
    "\n",
    "    memo[i][j] = max_output\n",
    "    return max_output\n",
    "\n",
    "array = [[3, 6, 1], [2, 3, 4], [5, 5, 1]]\n",
    "m = len(array)\n",
    "n = len(array[0])\n",
    "memo = [[None] * (n) for _ in range(m)]\n",
    "\n",
    "max_output = 0\n",
    "\n",
    "for j in range(n):\n",
    "    max_output = max(max_output, find_max_rec(0, j, m, n, array, memo))\n",
    "\n",
    "print(max_output)\n"
   ]
  },
  {
   "cell_type": "markdown",
   "metadata": {
    "id": "9M1TcieOhfdk"
   },
   "source": [
    "#### Maximum path sum in matrix - Tabulation"
   ]
  },
  {
   "cell_type": "code",
   "execution_count": null,
   "metadata": {
    "id": "M6DDlai7hfdk"
   },
   "outputs": [],
   "source": [
    "def max_path_sum_tabulation(array):\n",
    "    n = len(array[0])\n",
    "    m = len(array)\n",
    "\n",
    "    dp = [[0] * (n) for _ in range(m+1)]\n",
    "\n",
    "    global_output = 0\n",
    "    for i in range(m-1, -1, -1):\n",
    "        for j in range(n):\n",
    "\n",
    "            left = 0\n",
    "            if(j - 1 >= 0):\n",
    "                left = dp[i+1][j-1]\n",
    "\n",
    "            right = 0\n",
    "            if(j + 1 < n):\n",
    "                right = dp[i+1][j+1]\n",
    "\n",
    "            down = dp[i+1][j]\n",
    "\n",
    "            max_output = array[i][j] + max(left, right, down)\n",
    "\n",
    "            global_output = max(global_output, max_output)\n",
    "            dp[i][j] = max_output\n",
    "\n",
    "    return global_output\n",
    "\n",
    "array = [[3, 6, 1], [2, 3, 4], [5, 5, 1]]\n",
    "max_path_sum_tabulation(array)\n",
    "\n"
   ]
  },
  {
   "cell_type": "markdown",
   "metadata": {
    "id": "hhBii60Yhfdk"
   },
   "source": [
    "#### Maximum difference of zeros and ones in binary string"
   ]
  },
  {
   "cell_type": "code",
   "execution_count": null,
   "metadata": {
    "id": "HcKzCW_ghfdk"
   },
   "outputs": [],
   "source": [
    "def max_diff_0s(array):\n",
    "    max_0 = 0\n",
    "    n = len(array)\n",
    "    count = 0\n",
    "    found_0 = False\n",
    "    for i in range(n):\n",
    "        if(array[i]==0):\n",
    "            found_0 = True\n",
    "            count = count + 1\n",
    "            max_0 = max(max_0 , count)\n",
    "        else :\n",
    "            if(found_0 and count > 0):\n",
    "                count = count - 1\n",
    "\n",
    "    return -1 if not found_0 else (max_0)\n",
    "\n",
    "array = \"11000010001\"\n",
    "array = list(array)\n",
    "array = [int(c) for c in \"11000010001\"]\n",
    "print(array)\n",
    "max_diff_0s(array)\n",
    "\n"
   ]
  },
  {
   "cell_type": "markdown",
   "metadata": {
    "id": "4qU4t6aahfdk"
   },
   "source": [
    "#### Max difference 0s - Kadens Algorithm approach"
   ]
  },
  {
   "cell_type": "code",
   "execution_count": null,
   "metadata": {
    "id": "yH8x_4-dhfdk"
   },
   "outputs": [],
   "source": [
    "def kadens_algo(a):\n",
    "    max_ending_here = a[0]\n",
    "    max_so_far = a[0]\n",
    "    index_start = 0\n",
    "    index_end = 0\n",
    "\n",
    "    for i in range(1, len(a)):\n",
    "        if (a[i] > max_ending_here+ a[i]):\n",
    "            max_ending_here = a[i]\n",
    "            index_start = i\n",
    "        else:\n",
    "            max_ending_here = max_ending_here+ a[i]\n",
    "\n",
    "        if(max_so_far < max_ending_here):\n",
    "            max_so_far = max_ending_here\n",
    "            index_end = i\n",
    "\n",
    "    print(\"star_index=\",index_start,\"end_index=\",index_end)\n",
    "\n",
    "    return max_so_far\n",
    "\n",
    "a = [-2, -3, 4, -1, -2, 1, 5, -3]\n",
    "a = [1, 1, 0, 0, 0, 0, 1, 0, 0, 0, 1]\n",
    "a = [0, 0 ,1, 1 ,1]\n",
    "n = len(a)\n",
    "for i in range(n):\n",
    "    if(a[i] == 1):\n",
    "        a[i] = -1\n",
    "    else:\n",
    "        a[i] = 1\n",
    "\n",
    "print(a)\n",
    "\n",
    "print(\"max ele\",kadens_algo(a))"
   ]
  },
  {
   "cell_type": "markdown",
   "metadata": {
    "id": "mQjfbCRkhfdk"
   },
   "source": [
    "#### Minimum Number of jumps - recursive solution"
   ]
  },
  {
   "cell_type": "code",
   "execution_count": null,
   "metadata": {
    "id": "hZvNUGwfhfdk"
   },
   "outputs": [],
   "source": [
    "def min_jumps(curr_pos, array):\n",
    "    print(curr_pos, array)\n",
    "    n = len(array)\n",
    "    if(curr_pos >= n):\n",
    "        return float('inf')\n",
    "\n",
    "    if(curr_pos == n-1):\n",
    "        return 0\n",
    "\n",
    "    max_steps_possible = array[curr_pos]\n",
    "    min_steps = float('inf')\n",
    "    for i in range(1, (max_steps_possible+1)):\n",
    "        next_jump = min_jumps((curr_pos + i), array)\n",
    "        min_steps =  min(min_steps, next_jump)\n",
    "        print(min_steps)\n",
    "\n",
    "    return 1 + min_steps\n",
    "\n",
    "\n",
    "a = [1, 3, 6, 3, 2, 3, 6, 8, 9, 5]\n",
    "min_jumps(0, a)\n"
   ]
  },
  {
   "cell_type": "code",
   "execution_count": null,
   "metadata": {
    "id": "jtIWfOv1hfdl"
   },
   "outputs": [],
   "source": [
    "def min_jumps(a):\n",
    "    max_reach = a[0]\n",
    "    steps = a[0]\n",
    "    last_max_ladder = 0\n",
    "    count = 1\n",
    "\n",
    "    for i in range(1,len(a)):\n",
    "\n",
    "        steps = steps - 1\n",
    "\n",
    "        if(a[i]+i > max_reach):\n",
    "            max_reach = a[i]+i\n",
    "            last_max_ladder = i\n",
    "\n",
    "        if(max_reach >= len(a)-1):\n",
    "            return count+1\n",
    "\n",
    "        if(steps == 0):\n",
    "            steps = a[last_max_ladder]\n",
    "            count = count + 1\n",
    "\n",
    "\n",
    "    return -1\n",
    "\n",
    "\n",
    "a = [1, 3, 6, 3, 2, 3, 6, 8, 9, 5]\n",
    "min_jumps(a)\n"
   ]
  },
  {
   "cell_type": "markdown",
   "metadata": {
    "id": "n1-Urg39hfdl"
   },
   "source": [
    "#### Min jumps dynamic programming"
   ]
  },
  {
   "cell_type": "code",
   "execution_count": null,
   "metadata": {
    "id": "ctfNbM6Xhfdl"
   },
   "outputs": [],
   "source": [
    "def min_jumps_dp(array):\n",
    "    n = len(array)\n",
    "    min_jumps = [float('inf')] * n\n",
    "    min_jumps[0] = 0\n",
    "\n",
    "    jump_path = [None] * n\n",
    "\n",
    "    for i in range(1, n):\n",
    "        for j in range(i):\n",
    "            max_jump_possible_from_j_to_i = array[j] + j\n",
    "            if(max_jump_possible_from_j_to_i >= i):\n",
    "                if(min_jumps[i] > min_jumps[j] +1):\n",
    "                    min_jumps[i] = min_jumps[j] +1\n",
    "                    jump_path[i] = j\n",
    "\n",
    "    print(min_jumps)\n",
    "    print(jump_path)\n",
    "\n",
    "a = [1, 3, 6, 3, 2, 3, 6, 8, 9, 5]\n",
    "min_jumps_dp(a)\n"
   ]
  },
  {
   "cell_type": "code",
   "execution_count": null,
   "metadata": {
    "id": "GpVWruJshfdl"
   },
   "outputs": [],
   "source": [
    "def min_jumps_greedy(array):\n",
    "    n = len(array)\n",
    "    max_reach = array[0]\n",
    "    steps = array[0]\n",
    "    jumps = 1\n",
    "\n",
    "\n",
    "    for i in range(1, n):\n",
    "        if(i == n-1):\n",
    "            return jumps\n",
    "\n",
    "        max_reach = max(max_reach, array[i] + i)\n",
    "\n",
    "        steps = steps -1\n",
    "\n",
    "        if(steps == 0):\n",
    "            jumps =  jumps + 1\n",
    "\n",
    "            steps = max_reach - i\n",
    "\n",
    "a = [1, 3, 6, 3, 2, 3, 6, 8, 9, 5]\n",
    "min_jumps_greedy(a)\n"
   ]
  },
  {
   "cell_type": "markdown",
   "metadata": {
    "id": "7jdu0Qcchfdl"
   },
   "source": [
    "#### Unbounded knapsack problem"
   ]
  },
  {
   "cell_type": "code",
   "execution_count": null,
   "metadata": {
    "id": "SWffixwYhfdl"
   },
   "outputs": [],
   "source": [
    "def knapsackProblem_tabulation(cost, wt, capacity):\n",
    "    m = len(wt)\n",
    "    n = capacity+1\n",
    "    dp = [[0] * (n) for _ in range(m)]\n",
    "\n",
    "    for i in range(1, capacity+1):\n",
    "        print(i)\n",
    "        item_weight = wt[0]\n",
    "        allowed_capacity = i\n",
    "        if(item_weight <= allowed_capacity):\n",
    "            dp[0][i] = max(dp[0][i], cost[0] + dp[0][allowed_capacity - item_weight])\n",
    "\n",
    "    for i in dp:\n",
    "        print(i)\n",
    "\n",
    "\n",
    "    for i in range(1, len(wt)):\n",
    "        for j in range(1, (capacity+1)):\n",
    "            item_weight = wt[i]\n",
    "            item_cost = cost[i]\n",
    "            allowed_capacity = j\n",
    "\n",
    "            if(item_weight <= allowed_capacity):\n",
    "                remaining_weight = allowed_capacity - item_weight\n",
    "                dp[i][j] = max(dp[i-1][j] , (item_cost + dp[i][remaining_weight]))\n",
    "            else :\n",
    "                dp[i][j] = dp[i-1][j]\n",
    "\n",
    "    print(\"\")\n",
    "    for i in dp:\n",
    "        print(i)\n",
    "\n",
    "    print(\"\")\n",
    "\n",
    "    return dp[m-1][n-1]\n",
    "\n",
    "W = 8\n",
    "val = [6, 1, 7, 7]\n",
    "wt= [1, 3, 4, 5]\n",
    "\n",
    "\n",
    "capacity = W\n",
    "cost = val\n",
    "wt = wt\n",
    "\n",
    "knapsackProblem_tabulation(cost, wt, capacity)\n"
   ]
  },
  {
   "cell_type": "code",
   "execution_count": null,
   "metadata": {
    "id": "7NRgK8BFhfdl"
   },
   "outputs": [],
   "source": [
    "def knapsackProblem_tabulation(cost, wt, capacity):\n",
    "    m = len(wt)\n",
    "    n = capacity+1\n",
    "    dp = [[float('inf')] * (n) for _ in range(m)]\n",
    "\n",
    "\n",
    "    for i in range(m):\n",
    "        dp[i][0] = 0\n",
    "\n",
    "\n",
    "    for i in range(1, capacity+1):\n",
    "        print(i)\n",
    "        item_weight = wt[0]\n",
    "        allowed_capacity = i\n",
    "        item_cost = cost[0]\n",
    "\n",
    "        remaining_weight = allowed_capacity - item_weight\n",
    "\n",
    "        if(dp[0][remaining_weight] == float('inf')):\n",
    "            continue\n",
    "\n",
    "        if(item_cost == -1 ):\n",
    "            continue\n",
    "\n",
    "        if(item_weight <= allowed_capacity):\n",
    "            dp[0][i] = min(dp[0][i], item_cost + dp[0][allowed_capacity - item_weight])\n",
    "\n",
    "    for i in dp:\n",
    "        print(i)\n",
    "\n",
    "    for i in range(1, len(wt)):\n",
    "        for j in range(1, (capacity+1)):\n",
    "            item_weight = wt[i]\n",
    "            item_cost = cost[i]\n",
    "            allowed_capacity = j\n",
    "\n",
    "            if(item_weight <= allowed_capacity and item_cost != -1):\n",
    "                remaining_weight = allowed_capacity - item_weight\n",
    "                dp[i][j] = min(dp[i-1][j] , (item_cost + dp[i][remaining_weight]))\n",
    "            else :\n",
    "                dp[i][j] = dp[i-1][j]\n",
    "\n",
    "    print(\"\")\n",
    "    for i in dp:\n",
    "        print(i)\n",
    "\n",
    "    print(\"\")\n",
    "\n",
    "    return dp[m-1][n-1]\n",
    "\n",
    "\n",
    "n = 6\n",
    "w = 8\n",
    "cost = [7, 2, 9, 10, 3, 8]\n",
    "\n",
    "cost = cost\n",
    "wt = [i+1 for i in range(n)]\n",
    "capacity = w\n",
    "\n",
    "knapsackProblem_tabulation(cost, wt, capacity)\n"
   ]
  },
  {
   "cell_type": "code",
   "execution_count": null,
   "metadata": {
    "id": "wZaqnZjjhfdl"
   },
   "outputs": [],
   "source": [
    "def knapsackProblem_tabulation(cost, wt, capacity):\n",
    "    m = len(wt)\n",
    "    n = capacity+1\n",
    "    dp_prev = [float('inf')] * (n)\n",
    "    dp_current = dp_prev\n",
    "\n",
    "    dp_prev [0] = 0\n",
    "    dp_current[0] = 0\n",
    "\n",
    "\n",
    "    for i in range(1, capacity+1):\n",
    "        print(i)\n",
    "        item_weight = wt[0]\n",
    "        allowed_capacity = i\n",
    "        item_cost = cost[0]\n",
    "\n",
    "        remaining_weight = allowed_capacity - item_weight\n",
    "\n",
    "        if(dp_current[remaining_weight] == float('inf')):\n",
    "            continue\n",
    "\n",
    "        if(item_cost == -1 ):\n",
    "            continue\n",
    "\n",
    "        if(item_weight <= allowed_capacity):\n",
    "            dp_current[i] = min(dp_current[i], item_cost + dp_current[allowed_capacity - item_weight])\n",
    "\n",
    "\n",
    "\n",
    "    for i in range(1, len(wt)):\n",
    "        for j in range(1, (capacity+1)):\n",
    "            item_weight = wt[i]\n",
    "            item_cost = cost[i]\n",
    "            allowed_capacity = j\n",
    "\n",
    "            if(item_weight <= allowed_capacity and item_cost != -1):\n",
    "                remaining_weight = allowed_capacity - item_weight\n",
    "                dp_current[j] = min(dp_prev[j] , (item_cost + dp_current[remaining_weight]))\n",
    "            else :\n",
    "                dp_current[j] = dp_prev[j]\n",
    "\n",
    "        dp_prev = dp_current\n",
    "\n",
    "\n",
    "\n",
    "    return dp_current[n-1]\n",
    "\n",
    "\n",
    "n = 6\n",
    "w = 8\n",
    "cost = [7, 2, 9, 10, 3, 8]\n",
    "\n",
    "cost = cost\n",
    "wt = [i+1 for i in range(n)]\n",
    "capacity = w\n",
    "\n",
    "knapsackProblem_tabulation(cost, wt, capacity)\n"
   ]
  },
  {
   "cell_type": "code",
   "execution_count": null,
   "metadata": {
    "id": "TwDG48qrhfdl"
   },
   "outputs": [],
   "source": [
    "def knapsackProblem_tabulation(cost, wt, capacity):\n",
    "    m = len(wt)\n",
    "    n = capacity+1\n",
    "    dp = [[0] * (n) for _ in range(m)]\n",
    "\n",
    "    for i in range(1, capacity+1):\n",
    "        print(i)\n",
    "        item_weight = wt[0]\n",
    "        allowed_capacity = i\n",
    "        if(item_weight <= allowed_capacity):\n",
    "            dp[0][i] = max(dp[0][i], cost[0] + dp[0][allowed_capacity - item_weight])\n",
    "\n",
    "    for i in dp:\n",
    "        print(i)\n",
    "\n",
    "\n",
    "    for i in range(1, len(wt)):\n",
    "        for j in range(1, (capacity+1)):\n",
    "            item_weight = wt[i]\n",
    "            item_cost = cost[i]\n",
    "            allowed_capacity = j\n",
    "\n",
    "            if(item_weight <= allowed_capacity):\n",
    "                remaining_weight = allowed_capacity - item_weight\n",
    "                dp[i][j] = max(dp[i-1][j] , (item_cost + dp[i][remaining_weight]))\n",
    "            else :\n",
    "                dp[i][j] = dp[i-1][j]\n",
    "\n",
    "    print(\"\")\n",
    "    for i in dp:\n",
    "        print(i)\n",
    "\n",
    "    print(\"\")\n",
    "\n",
    "    return dp[m-1][n-1]\n",
    "\n",
    "W = 8\n",
    "val = [6, 1, 7, 7]\n",
    "wt= [1, 3, 4, 5]\n",
    "\n",
    "\n",
    "capacity = W\n",
    "cost = val\n",
    "wt = wt\n",
    "\n",
    "knapsackProblem_tabulation(cost, wt, capacity)\n"
   ]
  },
  {
   "cell_type": "markdown",
   "metadata": {
    "id": "6k8rZWlkhfdl"
   },
   "source": [
    "#### Array removal - Maximize the difference - Recursion + memoization"
   ]
  },
  {
   "cell_type": "code",
   "execution_count": null,
   "metadata": {
    "id": "c14fMSbwhfdm"
   },
   "outputs": [],
   "source": [
    "def array_removal(i, j, array, k, memo):\n",
    "    # print(array[i:j+1])\n",
    "    if(i>=j):\n",
    "        return 0\n",
    "\n",
    "    if(memo[i][j] != None):\n",
    "        return memo[i][j]\n",
    "\n",
    "    diff = array[j] - array[i]\n",
    "\n",
    "    if(diff <= k):\n",
    "        return 0\n",
    "\n",
    "    remove_i = 1 + array_removal(i+1, j, array, k, memo)\n",
    "    remove_j = 1 + array_removal(i, j-1, array, k, memo)\n",
    "    remove_i_j = 2 + array_removal(i+1, j-1, array, k, memo)\n",
    "\n",
    "    output = min(remove_i, remove_j, remove_i_j)\n",
    "    memo[i][j] = output\n",
    "    return output\n",
    "\n",
    "# array = [1,3,4,9,10,11,12,17,20]\n",
    "# n = 9\n",
    "# k = 4\n",
    "array = [1, 5, 6, 2, 8]\n",
    "n = 5\n",
    "k = 2\n",
    "array.sort()\n",
    "\n",
    "memo = [[None]* n for _ in range(n)]\n",
    "array_removal(0, n-1, array, k, memo)\n",
    "\n"
   ]
  },
  {
   "cell_type": "markdown",
   "metadata": {
    "id": "lIDMxx5Ehfdm"
   },
   "source": [
    "#### Array removal - maximize the difference - Tabulation"
   ]
  },
  {
   "cell_type": "code",
   "execution_count": null,
   "metadata": {
    "id": "A9eBg14Ehfdm"
   },
   "outputs": [],
   "source": [
    "def array_removal_tabulation(array, k):\n",
    "    n = len(array)\n",
    "\n",
    "    dp = [[0] * n for _ in range(n)]\n",
    "\n",
    "    for i in range(n-2, -1, -1):\n",
    "        for j in range(i+1, n, 1):\n",
    "            print(i,j)\n",
    "\n",
    "            diff = array[j] - array[i]\n",
    "            if(diff <= k):\n",
    "                dp[i][j] = 0\n",
    "            else:\n",
    "                remove_i = 1 + dp[i+1][j]\n",
    "                remove_j = 1 + dp[i][j-1]\n",
    "                remove_i_j = 2 + dp[i+1][j-1]\n",
    "\n",
    "            dp[i][j] = min (remove_i, remove_j, remove_i_j)\n",
    "\n",
    "    return dp[0][j]\n",
    "\n",
    "\n",
    "array = [1, 5, 6, 2, 8]\n",
    "k = 2\n",
    "array.sort\n",
    "array_removal_tabulation(array, k)\n"
   ]
  },
  {
   "cell_type": "code",
   "execution_count": null,
   "metadata": {
    "id": "8mh6n7yFhfdm"
   },
   "outputs": [],
   "source": [
    "def longest_commont_subsequence(string1, string2, i, j, s1_n, s2_n):\n",
    "    if(i>= s1_n or j>= s2_n):\n",
    "        return 0\n",
    "\n",
    "\n",
    "    if(string1[i] == string2[j]):\n",
    "        return  1 + longest_commont_subsequence(string1, string2, i+1, j+1, s1_n, s2_n, count+1)\n",
    "    else :\n",
    "        increment_i = longest_commont_subsequence(string1, string2, i+1, j, s1_n, s2_n, 0)\n",
    "        increment_j = longest_commont_subsequence(string1, string2, i, j+1, s1_n, s2_n, 0)\n",
    "        return max(increment_i, increment_j)\n",
    "\n"
   ]
  },
  {
   "cell_type": "code",
   "execution_count": null,
   "metadata": {
    "id": "RMuVrNoShfdm"
   },
   "outputs": [],
   "source": [
    "def longest_commont_substring_recursion(string1, string2, i, j, s1_n, s2_n, count=0):\n",
    "    if(i>= s1_n or j>= s2_n):\n",
    "        return count\n",
    "\n",
    "    if(string1[i] == string2[j]):\n",
    "        count = longest_commont_substring_recursion(string1, string2, i+1, j+1, s1_n, s2_n, count+1)\n",
    "\n",
    "    increment_i = longest_commont_substring_recursion(string1, string2, i+1, j, s1_n, s2_n, 0)\n",
    "    increment_j = longest_commont_substring_recursion(string1, string2, i, j+1, s1_n, s2_n, 0)\n",
    "\n",
    "    return max(increment_i, increment_j, count)\n",
    "\n"
   ]
  },
  {
   "cell_type": "code",
   "execution_count": null,
   "metadata": {
    "id": "tfcpMUeyhfdm"
   },
   "outputs": [],
   "source": [
    "def longest_commont_substring_tabulation(string1, string2):\n",
    "    s1_n = len(string1)\n",
    "    s2_n = len(string2)\n",
    "\n",
    "    dp = [[0]* (s2_n+2) for _ in range(s1_n+2)]\n",
    "\n",
    "    max_length = 0\n",
    "    for i in range(1, (s1_n+1)):\n",
    "        for j in range(1, (s2_n+1)):\n",
    "            if(string1[i-1] == string2[j-1]):\n",
    "                dp[i][j] = 1 + dp[i-1][j-1]\n",
    "                max_length = max(max_length,dp[i][j])\n",
    "            else :\n",
    "                dp[i][j] = 0\n",
    "    print(dp)\n",
    "    print(max_length)\n",
    "\n",
    "\n",
    "s1 = \"ABCDGH\"\n",
    "s2 = \"ACDGHR\"\n",
    "longest_commont_substring_tabulation(s1, s2)"
   ]
  },
  {
   "cell_type": "markdown",
   "metadata": {
    "id": "Kt9MYElbhfdm"
   },
   "source": [
    "#### Reach Given Score"
   ]
  },
  {
   "cell_type": "code",
   "execution_count": null,
   "metadata": {
    "id": "HA1gMW4vhfdm"
   },
   "outputs": [],
   "source": [
    "def reach_given_score(curr, target, index, memo):\n",
    "    if(curr > target):\n",
    "        return 0\n",
    "    if(curr == target):\n",
    "        return 1\n",
    "\n",
    "    if(memo[index][curr] != None):\n",
    "        return memo[index][curr]\n",
    "\n",
    "    points = [3, 5, 10]\n",
    "\n",
    "    count_ways = 0\n",
    "    for i in range(index, len(points)):\n",
    "        ways = reach_given_score(curr + points[i], target, i, memo)\n",
    "        count_ways = count_ways + ways\n",
    "\n",
    "    memo[index][curr] = count_ways\n",
    "    return count_ways\n",
    "\n",
    "curr = 0\n",
    "target = 20\n",
    "index = 0\n",
    "\n",
    "memo = [[None] * target for _ in range(3) ]\n",
    "reach_given_score(curr, target, index, memo)\n",
    "print(memo)\n"
   ]
  },
  {
   "cell_type": "markdown",
   "metadata": {
    "id": "JcLnZ5HUhfdm"
   },
   "source": [
    "#### Reach given score - recursion - GFG approach"
   ]
  },
  {
   "cell_type": "markdown",
   "metadata": {
    "id": "lqYDDFhNhfdm"
   },
   "source": [
    "####"
   ]
  },
  {
   "cell_type": "code",
   "execution_count": null,
   "metadata": {
    "id": "1f-qY-71hfdm"
   },
   "outputs": [],
   "source": [
    "def reach_given_score_recursion(n, index):\n",
    "    if(n == 0):\n",
    "        return 1\n",
    "\n",
    "    if(n<0):\n",
    "        return 0\n",
    "\n",
    "    points = [3, 5, 10]\n",
    "    max_points = 0\n",
    "    curr_point = 0\n",
    "    for i in range(index, 3):\n",
    "        point = points[i]\n",
    "        curr_point = reach_given_score_recursion(n-point, i)\n",
    "        max_points = max_points + curr_point\n",
    "\n",
    "    return max_points\n",
    "\n",
    "curr = 0\n",
    "target = 20\n",
    "index = 0\n",
    "reach_given_score_recursion(target, index)\n",
    "\n"
   ]
  },
  {
   "cell_type": "markdown",
   "metadata": {
    "id": "shBA0RBrhfdm"
   },
   "source": [
    "#### Reach given score - Tabulation"
   ]
  },
  {
   "cell_type": "code",
   "execution_count": null,
   "metadata": {
    "id": "UbvGXvcchfdn"
   },
   "outputs": [],
   "source": [
    "def reach_give_score_tabuilation(target):\n",
    "\n",
    "    dp = [0] * (target+1)\n",
    "    dp[0] = 1\n",
    "\n",
    "\n",
    "    for i in range(3, target+1):\n",
    "        dp[i] = dp[i] + dp[i-3]\n",
    "\n",
    "    for i in range(5, target+1):\n",
    "        dp[i] = dp[i] + dp[i-5]\n",
    "\n",
    "    for i in range(10, target+1):\n",
    "        dp[i] = dp[i] + dp[i-10]\n",
    "\n",
    "    print(dp)\n",
    "    return dp[target]\n",
    "\n",
    "reach_give_score_tabuilation(20)\n",
    "\n"
   ]
  },
  {
   "cell_type": "code",
   "execution_count": null,
   "metadata": {
    "id": "e802MdIdhfdn"
   },
   "outputs": [],
   "source": [
    "def count_balanced_binary_tree(h, memo):\n",
    "    if(h == 1 or h == 0):\n",
    "        return 1\n",
    "\n",
    "    if(memo[h] != None):\n",
    "        return memo[h]\n",
    "\n",
    "    total_count = 0\n",
    "    #case 1\n",
    "    left_subtree_height = count_balanced_binary_tree(h-1, memo)\n",
    "    right_subtree_height = count_balanced_binary_tree(h-1, memo)\n",
    "    total_count =  total_count + (left_subtree_height*right_subtree_height)\n",
    "\n",
    "    #case 2\n",
    "    left_subtree_height = count_balanced_binary_tree(h-2, memo)\n",
    "    right_subtree_height = count_balanced_binary_tree(h-1, memo)\n",
    "    total_count =  total_count + (left_subtree_height*right_subtree_height)\n",
    "\n",
    "    #case 3\n",
    "    left_subtree_height = count_balanced_binary_tree(h-1, memo)\n",
    "    right_subtree_height = count_balanced_binary_tree(h-2, memo)\n",
    "    total_count =  total_count + (left_subtree_height*right_subtree_height)\n",
    "\n",
    "    memo[h] = total_count\n",
    "    return total_count\n",
    "\n",
    "h = 3\n",
    "memo = [None] * (h+1)\n",
    "count_balanced_binary_tree(h, memo)\n",
    "\n"
   ]
  },
  {
   "cell_type": "code",
   "execution_count": null,
   "metadata": {
    "id": "fIjh7f87hfdn"
   },
   "outputs": [],
   "source": [
    "import math\n",
    "def count_balanced_binary_tree(h, memo):\n",
    "    if(h == 1 or h == 0):\n",
    "        return 1\n",
    "\n",
    "    if(memo[h] != None):\n",
    "        return memo[h]\n",
    "    count_balanced_binary_tree_tabulation\n",
    "    total_count = math.pow((count_balanced_binary_tree(h-1, memo)), 2) + 2 * ( count_balanced_binary_tree(h-1, memo) * count_balanced_binary_tree(h-2, memo) )\n",
    "\n",
    "    memo[h] = total_count\n",
    "    return total_count\n",
    "\n",
    "h = 3\n",
    "memo = [None] * (h+1)\n",
    "count_balanced_binary_tree(h, memo)\n",
    "\n"
   ]
  },
  {
   "cell_type": "markdown",
   "metadata": {
    "id": "b7TLjgoehfdn"
   },
   "source": [
    "#### Count balanced binary tree - tabulation"
   ]
  },
  {
   "cell_type": "code",
   "execution_count": null,
   "metadata": {
    "id": "pVDMBMA0hfdn"
   },
   "outputs": [],
   "source": [
    "import math\n",
    "def count_balanced_binary_tree_tabulation(h):\n",
    "    dp = [0] * (h+1)\n",
    "\n",
    "    dp[0] = 1\n",
    "    dp[1] = 1\n",
    "    print(dp)\n",
    "\n",
    "    for i in range(2, h+1):\n",
    "        dp[i] = int(math.pow(dp[i-1], 2)) + 2 * (dp[i-1] * dp[i-2])\n",
    "\n",
    "    return dp[h]\n",
    "\n",
    "h = 3\n",
    "count_balanced_binary_tree_tabulation(h)\n"
   ]
  },
  {
   "cell_type": "code",
   "execution_count": null,
   "metadata": {
    "id": "um5JjaFbhfdn"
   },
   "outputs": [],
   "source": [
    "def maxSubarraySum(arr):\n",
    "    n = len(arr)\n",
    "    a = arr\n",
    "    max_val = a[0]\n",
    "    max_val_till_now = max_val\n",
    "    for i in range(1, len(a)):\n",
    "        print(max_val + a[i], a[i])\n",
    "        if(max_val + a[i] > a[i]):\n",
    "            max_val = max_val + a[i]\n",
    "        else :\n",
    "            max_val = a[i]\n",
    "        max_val_till_now = max(max_val_till_now, max_val)\n",
    "\n",
    "    return max_val_till_now\n",
    "\n",
    "a = [-5, -6, -3, -1, 0, 8]\n",
    "maxSubarraySum(a)"
   ]
  },
  {
   "cell_type": "code",
   "execution_count": null,
   "metadata": {
    "id": "tLmzc-jzhfdn"
   },
   "outputs": [],
   "source": [
    "def find_workbreak(hashSet, string):\n",
    "    if(len(string) == 0):\n",
    "        return True\n",
    "\n",
    "    for i in range(1, len(string)+1):\n",
    "        left_string = string[:i]\n",
    "        remaining_string = string[i:]\n",
    "        print(left_string)\n",
    "        print(remaining_string)\n",
    "        # print(left_string in hashSet)\n",
    "        if(left_string in hashSet and find_workbreak(hashSet, remaining_string)):\n",
    "            return True\n",
    "\n",
    "    return False\n",
    "\n",
    "\n",
    "string = \"ilike\"\n",
    "hashSet = {\"i\", \"like\", \"gfg\"}\n",
    "\n",
    "find_workbreak(hashSet, string)\n"
   ]
  },
  {
   "cell_type": "code",
   "execution_count": null,
   "metadata": {
    "id": "-lB1qclKhfdn"
   },
   "outputs": [],
   "source": [
    "def find_workbreak_memo(hashSet, string, p_i, p_j, memo):\n",
    "    print(\"--->\", p_i, p_j)\n",
    "    if(p_i == p_j):\n",
    "        return True\n",
    "\n",
    "    if(memo[p_i][p_j] != None):\n",
    "        return memo[i][j]\n",
    "\n",
    "    for i in range(p_i+1, p_j+1):\n",
    "        left_string = string[p_i:i]\n",
    "        print(\"left_string\", left_string)\n",
    "        # print(left_string in hashSet)\n",
    "        if(left_string in hashSet and find_workbreak_memo(hashSet, string, i, p_j, memo)):\n",
    "            memo[i][p_j] = True\n",
    "            return True\n",
    "\n",
    "\n",
    "    memo[i][p_j] = False\n",
    "    return False\n",
    "\n",
    "\n",
    "string = \"abcd\"\n",
    "hashSet = {\"ab\", \"bcd\", \"b\", \"a\"}\n",
    "n = len(string)\n",
    "memo = [[None] * (n+1) for _ in range(n+1)]\n",
    "find_workbreak_memo(hashSet, string, 0, len(string), memo)"
   ]
  },
  {
   "cell_type": "code",
   "execution_count": null,
   "metadata": {
    "id": "uHlbVGwehfdn"
   },
   "outputs": [],
   "source": [
    "def find_workbreak_tabulation(hashSet, string):\n",
    "    n = len(string)\n",
    "    dp = [[False] * (n+1) for _ in range(n+1)]\n",
    "\n",
    "    for i in range(n+1):\n",
    "        dp[i][i] = True\n",
    "\n",
    "    for substring_size in range(1, n+2):\n",
    "        for i in range(n):\n",
    "            for j in range(i, min(i + substring_size+1, n)):\n",
    "                sub_sting = string[i:j+1]\n",
    "                # if(sub_sting in hashSet):\n",
    "                print(sub_sting)\n",
    "                if(sub_sting in hashSet and dp[i][j-1]):\n",
    "                    dp[i][j] = True\n",
    "    for i in dp:\n",
    "        print(i)\n",
    "\n",
    "\n",
    "\n",
    "string = \"abcd\"\n",
    "hashSet = {\"ab\", \"bcd\", \"b\", \"a\"}\n",
    "n = len(string)\n",
    "\n",
    "find_workbreak_tabulation(hashSet, string)"
   ]
  },
  {
   "cell_type": "markdown",
   "metadata": {
    "id": "dwDLY-gohfdn"
   },
   "source": []
  },
  {
   "cell_type": "code",
   "execution_count": null,
   "metadata": {
    "id": "pwaqD7fphfdo"
   },
   "outputs": [],
   "source": [
    "def wordBreak_tabulation_2D(s, wordSet):\n",
    "    n = len(s)\n",
    "    # dp[i][j] = True if s[i:j] can be segmented\n",
    "    dp = [[False] * (n + 1) for _ in range(n + 1)]\n",
    "\n",
    "    # Base case: empty substrings (when i == j)\n",
    "    for i in range(n + 1):\n",
    "        dp[i][i] = True\n",
    "\n",
    "    # Process substrings by increasing length\n",
    "    for length in range(1, n + 1):\n",
    "        # Try all possible starting positions for this length\n",
    "        for i in range(n - length + 1):\n",
    "            print(\"i-->\", i)\n",
    "            print(\"i+length-->\", i+length) # ending position\n",
    "\n",
    "            # Try all split points (exactly like your recursive solution)\n",
    "            for j in range(i+1, i+length+1):\n",
    "                left_substring = s[i:j]\n",
    "                print(left_substring)\n",
    "\n",
    "                # Check if left part is a word AND right part can be segmented\n",
    "                if left_substring in wordSet and dp[j][i+length]:\n",
    "                    print(\"===========================\",s[j:i+length])\n",
    "                    dp[i][i+length] = True\n",
    "                    break\n",
    "\n",
    "    return dp[0][n]\n",
    "\n",
    "string = \"ilike\"\n",
    "hashSet = {\"i\", \"like\"}\n",
    "\n",
    "n = len(string)\n",
    "wordBreak_tabulation_2D(string, hashSet)"
   ]
  },
  {
   "cell_type": "code",
   "execution_count": null,
   "metadata": {
    "id": "ypMG4YaLhfdo"
   },
   "outputs": [],
   "source": [
    "def word_break(string, hashSet):\n",
    "    n = len(string)\n",
    "    dp = [[False] * (n+1) for _ in range(n+1)]\n",
    "\n",
    "    for i in range(n+1):\n",
    "        dp[i][i] = True\n",
    "\n",
    "\n",
    "    for string_lenght in range(1, n+1):\n",
    "        for i in range(n-string_lenght+1):\n",
    "            for k in range(i+1, i+string_lenght+1):\n",
    "                left_string = string[i:k]\n",
    "\n",
    "                if(left_string in hashSet and dp[k][i+string_lenght]):\n",
    "                    dp[i][i+string_lenght] = True\n",
    "                    break\n",
    "\n",
    "    return dp[0][n]\n",
    "\n",
    "string = \"ilike\"\n",
    "hashSet = {\"i\", \"like\"}\n",
    "\n",
    "word_break(string, hashSet)"
   ]
  },
  {
   "cell_type": "markdown",
   "metadata": {
    "id": "mlNrfMKghfdo"
   },
   "source": [
    "#### Word break solution in notes"
   ]
  },
  {
   "cell_type": "code",
   "execution_count": null,
   "metadata": {
    "id": "HMSvzWuJhfdo"
   },
   "outputs": [],
   "source": [
    "def wordBreak_tabulation_notes(string, hashSet):\n",
    "    n = len(string)\n",
    "\n",
    "    dp = [[False] * (n) for _ in range(n)]\n",
    "\n",
    "    for string_length in range(1,n+1):\n",
    "        for i in range(n-string_length+1):\n",
    "            substring_limit = i+string_length\n",
    "\n",
    "            substring = string[i:substring_limit]\n",
    "            print(substring)\n",
    "            if(substring in hashSet):\n",
    "                print(substring)\n",
    "                dp[i][substring_limit-1] = True\n",
    "                continue\n",
    "\n",
    "            for split in range(i+1, substring_limit):\n",
    "                if(dp[i][split-1]  and dp[split][substring_limit-1] ):\n",
    "                    dp[i][substring_limit-1] = True\n",
    "    for i in dp:\n",
    "        print (i)\n",
    "\n",
    "    return dp[0][n-1]\n",
    "\n",
    "string = \"ilike\"\n",
    "hashSet = {\"i\", \"like\"}\n",
    "\n",
    "wordBreak_tabulation_notes(string, hashSet)"
   ]
  },
  {
   "cell_type": "markdown",
   "metadata": {
    "id": "7Gy5FONIhfdo"
   },
   "source": [
    "#### Word break problem - Most optimized"
   ]
  },
  {
   "cell_type": "code",
   "execution_count": null,
   "metadata": {
    "id": "VEx7RFDShfdo"
   },
   "outputs": [],
   "source": [
    "def wordbreak_1d_dp(string, hashSet):\n",
    "    n = len(string)\n",
    "    dp = [False] * (n+1)\n",
    "    dp[0] = True #Empty string\n",
    "\n",
    "    for i in range(1, n+1):\n",
    "        for j in range(i):\n",
    "            if(dp[j] and string[j:i] in hashSet):\n",
    "                dp[i] = True\n",
    "                break\n",
    "    return dp[n]\n",
    "\n",
    "string = \"ilike\"\n",
    "hashSet = {\"i\", \"like\"}\n",
    "wordbreak_1d_dp(string, hashSet)\n",
    "\n",
    "\n"
   ]
  },
  {
   "cell_type": "markdown",
   "metadata": {
    "id": "guMGqx4zhfdo"
   },
   "source": [
    "#### Largest Independed set of Binary tree - problem - Simple Recursive solution"
   ]
  },
  {
   "cell_type": "code",
   "execution_count": null,
   "metadata": {
    "id": "5Auh3q3zhfdo"
   },
   "outputs": [],
   "source": [
    "class node:\n",
    "    def __init__(self, data):\n",
    "        self.data = data\n",
    "        self.left = self.right = None\n",
    "\n",
    "def lenght_of_independent_subset(root):\n",
    "    if(root == None):\n",
    "        return 0\n",
    "\n",
    "    # Exclude curr child\n",
    "    left_child_count = lenght_of_independent_subset(root.left)\n",
    "    right_child_count = lenght_of_independent_subset(root.right)\n",
    "\n",
    "    exclude_curr = left_child_count + right_child_count\n",
    "\n",
    "    # Include curr child\n",
    "    include_curr = 1\n",
    "    if(root.left != None):\n",
    "        grand_child_left_left = lenght_of_independent_subset(root.left.left)\n",
    "        grand_child_left_right = lenght_of_independent_subset(root.left.right)\n",
    "        include_curr = include_curr + (grand_child_left_left + grand_child_left_right)\n",
    "\n",
    "    if(root.right != None):\n",
    "        grand_child_right_left = lenght_of_independent_subset(root.right.left)\n",
    "        grand_child_right_right = lenght_of_independent_subset(root.right.right)\n",
    "        include_curr = include_curr + (grand_child_right_left + grand_child_right_right)\n",
    "\n",
    "    return max(exclude_curr, include_curr)\n",
    "\n",
    "root = node(10)\n",
    "\n",
    "root.left = node(20)\n",
    "root.right =  node(30)\n",
    "\n",
    "root.left.left = node(40)\n",
    "root.left.right = node(50)\n",
    "\n",
    "\n",
    "root.right.right = node(60)\n",
    "\n",
    "root.left.right.left = node(70)\n",
    "root.left.right.right = node(80)\n",
    "\n",
    "\n",
    "lenght_of_independent_subset(root)\n",
    "\n"
   ]
  },
  {
   "cell_type": "markdown",
   "metadata": {
    "id": "eb-9I2KGhfdo"
   },
   "source": [
    "#### Largest Independed set of Binary tree - problem - Recursive solution - Memoization"
   ]
  },
  {
   "cell_type": "code",
   "execution_count": null,
   "metadata": {
    "id": "n42FYaLqhfdo"
   },
   "outputs": [],
   "source": [
    "class node:\n",
    "    def __init__(self, data):\n",
    "        self.data = data\n",
    "        self.left = self.right = None\n",
    "        self.lis = None\n",
    "\n",
    "def lenght_of_independent_subset(root):\n",
    "    if(root == None):\n",
    "        return 0\n",
    "\n",
    "    if(root.lis != None):\n",
    "        return root.lis\n",
    "\n",
    "    # Exclude curr node\n",
    "    left_child_count = lenght_of_independent_subset(root.left)\n",
    "    right_child_count = lenght_of_independent_subset(root.right)\n",
    "\n",
    "    exclude_curr = left_child_count + right_child_count\n",
    "\n",
    "    # Include curr node\n",
    "    include_curr = 1\n",
    "    if(root.left != None):\n",
    "        grand_child_left_left = lenght_of_independent_subset(root.left.left)\n",
    "        grand_child_left_right = lenght_of_independent_subset(root.left.right)\n",
    "        include_curr = include_curr + (grand_child_left_left + grand_child_left_right)\n",
    "\n",
    "    if(root.right != None):\n",
    "        grand_child_right_left = lenght_of_independent_subset(root.right.left)\n",
    "        grand_child_right_right = lenght_of_independent_subset(root.right.right)\n",
    "        include_curr = include_curr + (grand_child_right_left + grand_child_right_right)\n",
    "\n",
    "    output = max(exclude_curr, include_curr)\n",
    "    root.lis = output\n",
    "    return output\n",
    "\n",
    "root = node(10)\n",
    "\n",
    "root.left = node(20)\n",
    "root.right =  node(30)\n",
    "\n",
    "root.left.left = node(40)\n",
    "root.left.right = node(50)\n",
    "\n",
    "\n",
    "root.right.right = node(60)\n",
    "\n",
    "root.left.right.left = node(70)\n",
    "root.left.right.right = node(80)\n",
    "\n",
    "\n",
    "lenght_of_independent_subset(root)\n",
    "\n"
   ]
  },
  {
   "cell_type": "markdown",
   "metadata": {
    "id": "wDX3l681hfdo"
   },
   "source": [
    "#### sub array parrtition"
   ]
  },
  {
   "cell_type": "code",
   "execution_count": null,
   "metadata": {
    "id": "t4d4wZOahfdo"
   },
   "outputs": [],
   "source": [
    "def subarray_partition(array):\n",
    "    total_sum = 0\n",
    "    n = len(array)\n",
    "    for i in range(n):\n",
    "        total_sum = sum+array[i]\n",
    "\n",
    "    if(total_sum%2!= 0):\n",
    "        return False\n",
    "\n",
    "    half = total_sum//2\n",
    "\n",
    "    subset_sum_out = (0, 0, array, half)\n",
    "\n",
    "    return subset_sum_out\n",
    "\n",
    "def subset_sum(curr, sum, array, target):\n",
    "    n = len(array)\n",
    "    if(sum == target):\n",
    "        return True\n",
    "\n",
    "    if(curr >= n):\n",
    "        return False\n",
    "\n",
    "    #choose\n",
    "    choose_curr = subset_sum(curr+1, sum + array[curr], array, target)\n",
    "\n",
    "    if(choose_curr):\n",
    "        return True\n",
    "\n",
    "    don_t_choose = subset_sum(curr+1, sum , array, target)\n",
    "\n",
    "    return don_t_choose\n",
    "\n",
    "\n"
   ]
  },
  {
   "cell_type": "code",
   "execution_count": null,
   "metadata": {
    "id": "RGotx8S_hfdo"
   },
   "outputs": [],
   "source": [
    "def subset_sum(curr, sum, array, target, memo):\n",
    "    print(curr, sum, array, target)\n",
    "    n = len(array)\n",
    "    if(sum == target):\n",
    "        return True\n",
    "\n",
    "    if(curr >= n):\n",
    "        return False\n",
    "\n",
    "    if(sum>target):\n",
    "        return False\n",
    "\n",
    "    print(curr, sum)\n",
    "    if(memo[curr][sum] != None):\n",
    "        return memo[curr][sum]\n",
    "\n",
    "    choose_curr = subset_sum(curr+1, sum + array[curr], array, target, memo)\n",
    "\n",
    "    if(choose_curr):\n",
    "        memo[curr][sum] = True\n",
    "        return True\n",
    "\n",
    "    don_t_choose = subset_sum(curr+1, sum , array, target, memo)\n",
    "\n",
    "    memo[curr][sum] = don_t_choose\n",
    "    return don_t_choose\n",
    "\n",
    "array = [2, 4, 5, 10, 11]\n",
    "target= 16\n",
    "n = len(array)\n",
    "memo = [[None] * (target+1) for _ in range(n+1)]\n",
    "subset_sum(0, 0, array, 15, memo)\n"
   ]
  },
  {
   "cell_type": "markdown",
   "metadata": {
    "id": "RGOy1aJQhfdp"
   },
   "source": [
    "#### Find Subset sum"
   ]
  },
  {
   "cell_type": "code",
   "execution_count": null,
   "metadata": {
    "id": "rEm-6XDYhfdp"
   },
   "outputs": [],
   "source": [
    "def subsetSum(array, sum):\n",
    "    n = len(array)\n",
    "\n",
    "    dp = [[False]* (sum+1) for _ in range(n+1) ]\n",
    "\n",
    "    for i in range(n+1):\n",
    "        dp[i][0] = True\n",
    "\n",
    "    for i in range(1, n+1):\n",
    "        for j in range(1, sum+1):\n",
    "            element = array[i-1]\n",
    "            if(element > j):\n",
    "                dp[i][j] = dp[i-1][j]\n",
    "            else:\n",
    "                remaining = j - element\n",
    "                dp[i][j] = dp[i-1][j] or dp[i-1][remaining]\n",
    "\n",
    "    for i in dp:\n",
    "        print (i)\n",
    "\n",
    "array = [2, 4, 11 ,10, 5]\n",
    "target= 16\n",
    "n = len(array)\n",
    "subsetSum(array, target)"
   ]
  },
  {
   "cell_type": "markdown",
   "metadata": {
    "id": "uecgpgF-UhRf"
   },
   "source": [
    "#### Longest Palindromic subsequence"
   ]
  },
  {
   "cell_type": "code",
   "execution_count": null,
   "metadata": {
    "id": "8pG_Q56TUhRg"
   },
   "outputs": [],
   "source": [
    "def longes_common_subsequence_recursive(string1, string2, i, j, s1_n, s2_n):\n",
    "    if(i>=s1_n or j>=s2_n):\n",
    "        return 0\n",
    "\n",
    "    if(string1[i] == string2[j]):\n",
    "        out = 1 + longes_common_subsequence_recursive(string1, string2, i+1, j+1, s1_n, s2_n)\n",
    "        return out\n",
    "    else :\n",
    "        i_increment = longes_common_subsequence_recursive(string1, string2, i+1, j, s1_n, s2_n)\n",
    "        j_increment = longes_common_subsequence_recursive(string1, string2, i, j+1, s1_n, s2_n)\n",
    "\n",
    "        return max(i_increment, j_increment)\n",
    "\n",
    "def longes_common_subsequence_tabulation(string1, string2):\n",
    "    s1n = len(string1)\n",
    "    s2n = len(string2)\n",
    "\n",
    "    dp= [[0]*(s1n+1) for _ in range(s2n+1)]\n",
    "\n",
    "    for i in range(1, s2n+1):\n",
    "        for j in range(1, s1n+1):\n",
    "            if(string2[i-1] == string1[j-1]):\n",
    "                dp[i][j] = 1 + dp[i-1][j-1]\n",
    "            else:\n",
    "                dp[i][j] = max(dp[i-1][j], dp[i][j-1])\n",
    "\n",
    "    for i in dp:\n",
    "        print(i)\n",
    "\n",
    "\n",
    "\n",
    "string1 = \"bbabcbcab\"\n",
    "string2 = string1[::-1]\n",
    "s1_n = len(string1)\n",
    "s2_n = len(string1)\n",
    "\n",
    "print(string1, string2)\n",
    "longes_common_subsequence_tabulation(string1, string2)"
   ]
  },
  {
   "cell_type": "markdown",
   "metadata": {
    "id": "bKAfYKZZUhRj"
   },
   "source": [
    "#### Count palidromic subsequences"
   ]
  },
  {
   "cell_type": "code",
   "execution_count": null,
   "metadata": {
    "id": "DX5rRm5hUhRk"
   },
   "outputs": [],
   "source": [
    "def count_palidroming_subsequence(i, j, string, memo):\n",
    "    if(i>j):\n",
    "        return 0\n",
    "\n",
    "    if(i==j):\n",
    "        return 1\n",
    "\n",
    "    if(memo[i][j] != None):\n",
    "        return memo[i][j]\n",
    "\n",
    "    output = 0\n",
    "    if(string[i] == string[j]):\n",
    "        output = 1 + count_palidroming_subsequence(i+1, j, string, memo) + count_palidroming_subsequence(i, j-1, string, memo)\n",
    "    else:\n",
    "        output = count_palidroming_subsequence(i+1, j, string, memo) + count_palidroming_subsequence(i, j-1, string, memo) - count_palidroming_subsequence(i+1, j-1, string, memo)\n",
    "\n",
    "    memo[i][j] = output\n",
    "    return output\n",
    "\n",
    "string = \"zvquhctuvpdcumqtvdjvzbodockbic\"\n",
    "n = len(string)\n",
    "memo = [[None] * (n+1) for _ in range(n+1)]\n",
    "count_palidroming_subsequence(0, n-1, string, memo)\n",
    "\n"
   ]
  },
  {
   "cell_type": "code",
   "execution_count": null,
   "metadata": {
    "id": "csRMPiJjUhRl"
   },
   "outputs": [],
   "source": [
    "def count_palidroming_subsequence(string):\n",
    "    n = len(string)\n",
    "    dp = [[0]*(n) for _ in range(n+1)]\n",
    "\n",
    "\n",
    "\n",
    "    for i in range(n):\n",
    "        dp[i][i] = 1\n",
    "\n",
    "    for string_length in range(1,n+1):\n",
    "        for i in range(n-string_length):\n",
    "            j = i+string_length\n",
    "            print(i, j)\n",
    "            if(string[i] == string[j]):\n",
    "                dp[i][j] = 1 + dp[i+1][j] + dp[i][j-1]\n",
    "            else:\n",
    "                dp[i][j] = dp[i+1][j] + dp[i][j-1] - dp[i+1][j-1]\n",
    "\n",
    "    # for i in dp:\n",
    "    #     print(i)\n",
    "\n",
    "    return dp[0][n-1]\n",
    "\n",
    "string = \"zvquhctuvpdcumqtvdjvzbodockbic\"\n",
    "n = len(string)\n",
    "count_palidroming_subsequence(string)"
   ]
  },
  {
   "cell_type": "code",
   "execution_count": null,
   "metadata": {
    "id": "pUgT4cFeUhRm"
   },
   "outputs": [],
   "source": [
    "def longes_common_subsequence_tabulation(string1, string2):\n",
    "    s1n = len(string1)\n",
    "    s2n = len(string2)\n",
    "\n",
    "    dp= [[0]*(s1n+1) for _ in range(s2n+1)]\n",
    "\n",
    "    max_substring = 0\n",
    "    max_i = 0\n",
    "    max_j = 0\n",
    "    for i in range(1, s2n+1):\n",
    "        for j in range(1, s1n+1):\n",
    "            if(string2[i-1] == string1[j-1]):\n",
    "                dp[i][j] = 1 + dp[i-1][j-1]\n",
    "            else:\n",
    "                dp[i][j] = 0\n",
    "            if(dp[i][j] > max_substring):\n",
    "                max_substring = dp[i][j]\n",
    "                max_i = i\n",
    "                max_j = j\n",
    "\n",
    "    print(max_substring, max_i, max_j)\n",
    "    for i in dp:\n",
    "        print(i)\n",
    "    return string1[max_i-max_substring:max_i-1]\n",
    "\n",
    "string1 = \"aacabdkacaa\"\n",
    "string2 = string1[::-1]\n",
    "s1_n = len(string1)\n",
    "s2_n = len(string1)\n",
    "\n",
    "print(string1, string2)\n",
    "longes_common_subsequence_tabulation(string1, string2)\n"
   ]
  },
  {
   "cell_type": "code",
   "execution_count": null,
   "metadata": {
    "id": "bihl9aQVUhRn"
   },
   "outputs": [],
   "source": [
    "def longest_commont_substring_tabulation(string1, string2):\n",
    "    s1_n = len(string1)\n",
    "    s2_n = len(string2)\n",
    "\n",
    "    dp = [[0]* (s2_n+2) for _ in range(s1_n+2)]\n",
    "\n",
    "    max_length = 0\n",
    "    for i in range(1, (s1_n+1)):\n",
    "        for j in range(1, (s2_n+1)):\n",
    "            if(string1[i-1] == string2[j-1]):\n",
    "                dp[i][j] = 1 + dp[i-1][j-1]\n",
    "                max_length = max(max_length,dp[i][j])\n",
    "            else :\n",
    "                dp[i][j] = 0\n",
    "    print(dp)\n",
    "    print(max_length)\n",
    "\n",
    "\n",
    "s1 = \"aacabdkacaa\"\n",
    "s2 = \"aacakdbacaa\"\n",
    "longest_commont_substring_tabulation(s1, s2)"
   ]
  },
  {
   "cell_type": "markdown",
   "metadata": {
    "id": "lv10kWEDqL9l"
   },
   "source": [
    "#### Longes Palindromic Substring - Recursion + Memoization"
   ]
  },
  {
   "cell_type": "code",
   "execution_count": null,
   "metadata": {
    "id": "stYFB3EwUhRo"
   },
   "outputs": [],
   "source": [
    "def longest_palindromis_substring(string):\n",
    "    n = len(string)\n",
    "\n",
    "    memo = [[None]*n for _ in range(n)]\n",
    "    max_length = 0\n",
    "\n",
    "\n",
    "    for i in range(n):\n",
    "        for j in range(i, n):\n",
    "            is_palidrome = check_palidrome(i, j, string, memo)\n",
    "            if(is_palidrome):\n",
    "                string_length = j-i+1\n",
    "                if(string_length > max_length):\n",
    "                    max_length = j-i+1\n",
    "                    max_palindrome = string[i:j+1]\n",
    "\n",
    "\n",
    "    print(string_length)\n",
    "    return max_palindrome\n",
    "\n",
    "\n",
    "\n",
    "def check_palidrome(i, j, string, memo):\n",
    "    if(i>=j):\n",
    "        return True\n",
    "\n",
    "    if(memo[i][j] != None):\n",
    "        return memo[i][j]\n",
    "\n",
    "    if(string[i] == string[j]):\n",
    "        output = check_palidrome(i+1, j - 1, string, memo)\n",
    "    else:\n",
    "        output = False\n",
    "\n",
    "    memo[i][j] = output\n",
    "    return output\n",
    "\n",
    "\n",
    "\n",
    "\n",
    "string = \"babad\"\n",
    "longest_palindromis_substring(string)\n"
   ]
  },
  {
   "cell_type": "markdown",
   "metadata": {
    "id": "VqA8gmA8qL9l"
   },
   "source": [
    "#### Longest Palindromic Substring - Tabulation"
   ]
  },
  {
   "cell_type": "code",
   "execution_count": null,
   "metadata": {
    "id": "9dP0u1oxqL9m"
   },
   "outputs": [],
   "source": [
    "def palindromic_substring(string):\n",
    "    n = len(string)\n",
    "    dp = [[False] * (n) for _ in range(n)]\n",
    "\n",
    "    for i in range(n):\n",
    "        dp[i][i] = True\n",
    "\n",
    "\n",
    "\n",
    "    max_substring = -1\n",
    "    max_i = 0\n",
    "    max_j = 0\n",
    "    for string_length in range(1, n):\n",
    "        for i in range(n-string_length):\n",
    "            j = i+string_length\n",
    "            if(string[i] == string[j] and (dp[i+1][j-1] or string_length == 1)):\n",
    "                dp[i][j] = True\n",
    "                if(j-i > max_substring):\n",
    "                    max_substring = j-i\n",
    "                    max_i = i\n",
    "                    max_j = j\n",
    "            else :\n",
    "                dp[i][j] = False\n",
    "\n",
    "    # for i in dp:\n",
    "    #     print(i)\n",
    "    return string[max_i:max_j+1]\n",
    "\n",
    "\n",
    "string = \"cbbd\"\n",
    "palindromic_substring(string)\n",
    "\n"
   ]
  },
  {
   "cell_type": "markdown",
   "metadata": {
    "id": "R9zANt7HqL9m"
   },
   "source": [
    "#### Longest Alerntating Subsequence - Recursion"
   ]
  },
  {
   "cell_type": "code",
   "execution_count": null,
   "metadata": {
    "id": "7qZu9b6mqL9m"
   },
   "outputs": [],
   "source": [
    "def flip(picked):\n",
    "    if(picked == \"Greater\"):\n",
    "        return \"Lesser\"\n",
    "    else :\n",
    "        return \"Greater\"\n",
    "\n",
    "def longes_alternating_subsequence(prev, curr, array, last_picked_flag, memo):\n",
    "    # print(prev, curr, array, last_picked_flag)\n",
    "    n = len(array)\n",
    "\n",
    "    if(curr>=n):\n",
    "        return 0\n",
    "\n",
    "    if(memo[prev+1][curr]):\n",
    "        return memo[prev+1][curr]\n",
    "\n",
    "    do_not_select = longes_alternating_subsequence(prev, curr+1, array, last_picked_flag, memo)\n",
    "    max_value = do_not_select\n",
    "\n",
    "    # print(\"do_not_select\", do_not_select)\n",
    "    if(last_picked_flag == \"Greater\"):\n",
    "        is_eligible_for_next = (array[prev] < array[curr])\n",
    "    else:\n",
    "        is_eligible_for_next = (array[prev] > array[curr])\n",
    "\n",
    "    # print(\"is_eligible_for_next\", is_eligible_for_next, prev, curr)\n",
    "    if(prev == -1 or is_eligible_for_next):\n",
    "        select = 1 + longes_alternating_subsequence(curr, curr+1, array, flip(last_picked_flag), memo)\n",
    "        max_value = max(max_value, select)\n",
    "\n",
    "    memo[prev+1][curr] = max_value\n",
    "    return max_value\n",
    "\n",
    "array = [1,  5, 4]\n",
    "n = len(array)\n",
    "memo=[[None] * (n+1) for _ in range(n+1)]\n",
    "\n",
    "\n",
    "print(max(longes_alternating_subsequence(-1, 0, array, \"Lesser\", memo),\n",
    "          longes_alternating_subsequence(-1, 0, array, \"Greater\", memo)\n",
    "          ))\n"
   ]
  },
  {
   "cell_type": "markdown",
   "metadata": {
    "id": "SuroN0_hqL9n"
   },
   "source": [
    "#### Find Alterntating subsequence - GFG - Dynamic programming"
   ]
  },
  {
   "cell_type": "code",
   "execution_count": null,
   "metadata": {
    "id": "rlCXlfCYqL9n"
   },
   "outputs": [],
   "source": [
    "def largest_alternating_subsequence(array):\n",
    "    n = len(array)\n",
    "\n",
    "    dp = [[1] * (2) for _ in range(n)]\n",
    "\n",
    "\n",
    "    for i in range(1, n):\n",
    "        for j in range(0, i):\n",
    "            # j'th element has to act as the previous to i'th\n",
    "            # where i'th element is getting added to the end of j'th element\n",
    "            # where j was the previous smaller element and i is the next greater element\n",
    "            if(array[j] < array[i]):\n",
    "                dp[i][0] = max(dp[i][0], 1 + dp[j][1])\n",
    "\n",
    "            elif(array[j] > array[i]):\n",
    "                dp[i][1] = max(dp[i][1], 1 + dp[j][0])\n",
    "\n",
    "    fo\n",
    "    return max(dp[n-1][0], dp[n-1][1])\n",
    "\n",
    "array = [1, 17, 5, 10, 13, 15, 10, 5, 16, 8]\n",
    "largest_alternating_subsequence(array)\n"
   ]
  },
  {
   "cell_type": "markdown",
   "metadata": {
    "id": "6YhlQ89WqL9n"
   },
   "source": [
    "#### Longest alternating subsequence - Otpimized approach"
   ]
  },
  {
   "cell_type": "code",
   "execution_count": null,
   "metadata": {
    "id": "5mKRzLbYqL9n"
   },
   "outputs": [],
   "source": [
    "def longes_alternating_subsequence_optimized(array):\n",
    "    n = len(array)\n",
    "\n",
    "    decreasing = 1\n",
    "    increasing = 1\n",
    "\n",
    "    for i in range(1, n):\n",
    "        if(array[i] < array[i-1]):\n",
    "            decreasing = increasing +1\n",
    "        elif (array[i] > array[i-1]):\n",
    "            increasing = decreasing +1\n",
    "\n",
    "    return max(increasing, decreasing)\n",
    "\n",
    "\n",
    "array = [1, 17, 5, 10, 13, 15, 10, 5, 16, 8]\n",
    "longes_alternating_subsequence_optimized(array)"
   ]
  },
  {
   "cell_type": "markdown",
   "metadata": {
    "id": "Gg0Fx5fzqL9o"
   },
   "source": [
    "#### Job scheduling algorithm - Recursive Approach"
   ]
  },
  {
   "cell_type": "code",
   "execution_count": null,
   "metadata": {
    "id": "HBr4hZeFqL9o"
   },
   "outputs": [],
   "source": [
    "def get_next_job_index(i, array, n):\n",
    "    ending_time = array[i][1]\n",
    "\n",
    "    lb = i\n",
    "    ub = n\n",
    "    res = n\n",
    "    while (lb < ub):\n",
    "        mid = (lb + ub)//2\n",
    "        staring_time = array[mid][0]\n",
    "        if(staring_time >= ending_time):\n",
    "            res = mid\n",
    "            ub = mid - 1\n",
    "        else:\n",
    "            lb = mid + 1\n",
    "\n",
    "    return res\n",
    "\n",
    "def job_scheduling_algo_recursive(array, i, memo):\n",
    "\n",
    "    if(i >= n):\n",
    "        return 0\n",
    "\n",
    "    if(memo[i] != None):\n",
    "        return memo[i]\n",
    "\n",
    "    start = array[i][0]\n",
    "    end = array[i][1]\n",
    "    profit = array[i][2]\n",
    "\n",
    "    do_not_select_job =  job_scheduling_algo_recursive(array, i+1, memo)\n",
    "    max_val = do_not_select_job\n",
    "\n",
    "    next_index = get_next_job_index(i, array, n)\n",
    "\n",
    "    select = profit + job_scheduling_algo_recursive(array, next_index, memo)\n",
    "    max_val = max(max_val, select)\n",
    "\n",
    "    memo[i] = max_val\n",
    "    return max_val\n",
    "\n",
    "\n",
    "startTime = [1,2,3,3]\n",
    "endTime = [3,4,5,6]\n",
    "profit = [50,10,40,70]\n",
    "\n",
    "n = len(startTime)\n",
    "\n",
    "array=[]\n",
    "for i in range(n):\n",
    "    start = startTime[i]\n",
    "    end = endTime[i]\n",
    "    prof = profit[i]\n",
    "    array.append([start, end, prof])\n",
    "\n",
    "array.sort()\n",
    "print(array)\n",
    "n = len(array)\n",
    "memo = [None] * n\n",
    "job_scheduling_algo_recursive(array, 0, memo)"
   ]
  },
  {
   "cell_type": "code",
   "execution_count": null,
   "metadata": {
    "id": "ELP-OnRIK0gc"
   },
   "outputs": [],
   "source": [
    "def get_next_job_index(array, i):\n",
    "    n = len(array)\n",
    "    ending_curr_job = array[i][1]\n",
    "    lower_bound = i+1\n",
    "    upper_bound = n-1\n",
    "    res = n\n",
    "\n",
    "    while(lower_bound <= upper_bound):\n",
    "        mid = (lower_bound + upper_bound) //2\n",
    "        staring_new_job = array[mid][0]\n",
    "        if(staring_new_job >= ending_curr_job):\n",
    "            res = mid\n",
    "            upper_bound = mid -1\n",
    "        else :\n",
    "            lower_bound = mid + 1\n",
    "\n",
    "    return res\n",
    "\n",
    "def weighted_job_scheduling_rec(array, i, memo):\n",
    "    n = len(array)\n",
    "    if(i >= n):\n",
    "        return 0\n",
    "\n",
    "    if(memo[i] != None):\n",
    "        return memo[i]\n",
    "\n",
    "    do_not_select = weighted_job_scheduling_rec(array, i + 1, memo)\n",
    "    next_job_index = get_next_job_index(array, i)\n",
    "\n",
    "    cur_profit = array[i][2]\n",
    "    select = cur_profit + weighted_job_scheduling_rec(array, next_job_index, memo)\n",
    "\n",
    "    output = max(do_not_select, select)\n",
    "\n",
    "    memo[i] = output\n",
    "    return output\n",
    "\n",
    "startTime = [1,2,3,3]\n",
    "endTime = [3,4,5,6]\n",
    "profit = [50,10,40,70]\n",
    "\n",
    "n = len(startTime)\n",
    "\n",
    "array=[]\n",
    "for i in range(n):\n",
    "    start = startTime[i]\n",
    "    end = endTime[i]\n",
    "    prof = profit[i]\n",
    "    array.append([start, end, prof])\n",
    "\n",
    "array.sort()\n",
    "print(array)\n",
    "n = len(array)\n",
    "memo = [None] * n\n",
    "weighted_job_scheduling_rec(array, 0, memo)"
   ]
  },
  {
   "cell_type": "markdown",
   "metadata": {
    "id": "kVog_cYmK0gc"
   },
   "source": [
    "#### Weighted Job scheduling algorithm - Bottom up DP"
   ]
  },
  {
   "cell_type": "code",
   "execution_count": null,
   "metadata": {
    "id": "nPDHc9vAqL9o"
   },
   "outputs": [],
   "source": [
    "def weighted_job_scheduling_tabuation(array):\n",
    "    n = len(array)\n",
    "\n",
    "    array.sort(key=lambda x: x[1])\n",
    "\n",
    "    dp = []\n",
    "    for i in range(n):\n",
    "        print(array[i][2])\n",
    "        dp.append(array[i][2])\n",
    "\n",
    "    print(\"dp===>\",dp)\n",
    "    for i in range(1, n):\n",
    "        for j in range(i):\n",
    "            i_start_time = array[i][0]\n",
    "            j_start_time = array[j][0]\n",
    "\n",
    "            i_end_time = array[i][1]\n",
    "            j_end_time = array[j][1]\n",
    "\n",
    "            i_profit = array[i][2]\n",
    "            j_profit = array[j][2]\n",
    "\n",
    "            if(i_start_time >= j_end_time):\n",
    "                dp[i] = max(dp[i], i_profit + dp[j])\n",
    "\n",
    "    print(dp[n-1])\n",
    "\n",
    "\n",
    "\n",
    "startTime = [1,2,3,3]\n",
    "endTime = [3,4,5,6]\n",
    "profit = [50,10,40,70]\n",
    "array = []\n",
    "n = len(startTime)\n",
    "for i in range(n):\n",
    "    start = startTime[i]\n",
    "    end = endTime[i]\n",
    "    prof = profit[i]\n",
    "    array.append([start, end, prof])\n",
    "\n",
    "print(array)\n",
    "n = len(array)\n",
    "weighted_job_scheduling_tabuation(array)"
   ]
  },
  {
   "cell_type": "code",
   "execution_count": null,
   "metadata": {
    "id": "fYBvx7BcK0gd"
   },
   "outputs": [],
   "source": [
    "def find_latest_compatible(array, i):\n",
    "    starting_index_curr = array[i][0]\n",
    "\n",
    "    lower_bound = 0\n",
    "    upper_bound = i-1\n",
    "    res = -1\n",
    "    while(lower_bound <= upper_bound):\n",
    "        mid = (lower_bound+upper_bound)//2\n",
    "        ending_index_mid = array[mid][1]\n",
    "\n",
    "        if(starting_index_curr >= ending_index_mid):\n",
    "            res = mid\n",
    "            lower_bound = mid + 1\n",
    "        else :\n",
    "            upper_bound = mid - 1\n",
    "\n",
    "    return res\n",
    "\n",
    "\n",
    "def weighted_job_scheduling_tabulation_optimized(array):\n",
    "    n = len(array)\n",
    "\n",
    "    dp = [0] * n\n",
    "\n",
    "    array.sort(key= lambda x: x[1])\n",
    "    print(array)\n",
    "    for i in range(n):\n",
    "        profit = array[i][2]\n",
    "        dp[i] = profit\n",
    "\n",
    "    for i in range(1, n):\n",
    "        do_not_pick_job = dp[i-1]\n",
    "        max_value = do_not_pick_job\n",
    "        compatible_job_index = find_latest_compatible(array, i)\n",
    "\n",
    "        curr_job_profit = array[i][2]\n",
    "        if(compatible_job_index != -1):\n",
    "            max_value = dp[compatible_job_index] + curr_job_profit\n",
    "\n",
    "        dp[i] = max(max_value, do_not_pick_job)\n",
    "\n",
    "    print(dp)\n",
    "    return dp[n-1]\n",
    "\n",
    "\n",
    "startTime = [1,2,3,3]\n",
    "endTime = [3,4,5,6]\n",
    "profit = [50,10,40,70]\n",
    "array = []\n",
    "n = len(startTime)\n",
    "for i in range(n):\n",
    "    start = startTime[i]\n",
    "    end = endTime[i]\n",
    "    prof = profit[i]\n",
    "    array.append([start, end, prof])\n",
    "\n",
    "print(array)\n",
    "n = len(array)\n",
    "weighted_job_scheduling_tabulation_optimized(array)\n"
   ]
  },
  {
   "cell_type": "markdown",
   "metadata": {
    "id": "SY9r3gc8K0gd"
   },
   "source": [
    "#### Geeks Coin Game -"
   ]
  },
  {
   "cell_type": "code",
   "execution_count": null,
   "metadata": {
    "id": "5Pkr7lRsK0gd"
   },
   "outputs": [],
   "source": [
    "def solve(is_geek, n, coinList):\n",
    "    print(\"Im geek\" if is_geek else \"Oponent\", n, coinList)\n",
    "    if(n == 0):\n",
    "        return False\n",
    "\n",
    "    for coin in coinList:\n",
    "        print(\"taking coin: \", coin)\n",
    "        if(n - coin >= 0):\n",
    "            if not solve(not is_geek, n-coin, coinList):\n",
    "                return True\n",
    "\n",
    "    return False\n",
    "n = 5\n",
    "x = 3\n",
    "y = 4\n",
    "coinList = [x, y, 1]\n",
    "coinList.sort(reverse=True)\n",
    "solve(True, n, coinList)\n",
    "\n"
   ]
  },
  {
   "cell_type": "markdown",
   "metadata": {
    "id": "ijp_E56wK0ge"
   },
   "source": [
    "#### Coin game problem - Memoization"
   ]
  },
  {
   "cell_type": "code",
   "execution_count": null,
   "metadata": {
    "id": "VfmSujReK0ge"
   },
   "outputs": [],
   "source": [
    "def solve(is_geek, n, coinList, memo):\n",
    "    print(\"Im geek\" if is_geek else \"Oponent\", n, coinList)\n",
    "    if(n == 0):\n",
    "        return False\n",
    "\n",
    "    if(memo[is_geek][n] != None):\n",
    "        return memo[is_geek][n]\n",
    "\n",
    "\n",
    "    for coin in coinList:\n",
    "        print(\"taking coin: \", coin)\n",
    "        if(n - coin >= 0):\n",
    "            if not solve(int(not is_geek), n-coin, coinList, memo):\n",
    "                memo[is_geek][n] = True\n",
    "                return True\n",
    "\n",
    "    memo[is_geek][n] = False\n",
    "    return False\n",
    "n = 5\n",
    "x = 3\n",
    "y = 4\n",
    "coinList = [x, y, 1]\n",
    "memo = [[None] * (n+1) for _ in range(2)]\n",
    "coinList.sort(reverse=True)\n",
    "solve(0, n, coinList, memo)\n",
    "\n"
   ]
  },
  {
   "cell_type": "code",
   "execution_count": null,
   "metadata": {
    "id": "hOYnXo69K0ge"
   },
   "outputs": [],
   "source": [
    "def coin_game_tabulation_bottom_up(n, x, y):\n",
    "    dp = [False] * (n+1)\n",
    "    dp[0] = False\n",
    "    dp[1] = True\n",
    "\n",
    "    coinList = [x, y, 1]\n",
    "\n",
    "    for i in range(2, n+1):\n",
    "        for coin in coinList:\n",
    "            if(i - coin >= 0):\n",
    "                remaining_coin = i - coin\n",
    "                will_opponent_win = dp[remaining_coin]\n",
    "                if(will_opponent_win):\n",
    "                    continue\n",
    "                else :\n",
    "                    dp[i] = True\n",
    "                    break\n",
    "\n",
    "    print (dp)\n",
    "\n",
    "    return dp[n]\n",
    "\n",
    "n = 5\n",
    "x = 3\n",
    "y = 4\n",
    "coin_game_tabulation_bottom_up(n, x, y)\n"
   ]
  },
  {
   "cell_type": "markdown",
   "metadata": {
    "id": "4G1nUdAEK0ge"
   },
   "source": [
    "#### Derangements of numbers - memo"
   ]
  },
  {
   "cell_type": "code",
   "execution_count": null,
   "metadata": {
    "id": "WfWQtOH9K0gf"
   },
   "outputs": [],
   "source": [
    "def solve(n, memo):\n",
    "    if(n==1 or n==0):\n",
    "        return 0\n",
    "    if(n == 2):\n",
    "        return 1\n",
    "\n",
    "    if(memo[n] != None):\n",
    "        return memo[n]\n",
    "\n",
    "    ans = (n-1) * (solve(n-1, memo) + solve(n-2, memo))\n",
    "    \n",
    "    memo[n] = ans\n",
    "    return ans\n",
    "\n",
    "n = 5\n",
    "memo = [None]* (n+1)\n",
    "solve(n, memo)"
   ]
  },
  {
   "cell_type": "markdown",
   "metadata": {
    "id": "m5h5hYatK0gf"
   },
   "source": [
    "#### Derangements of numbers - DP Tabulation - Bottom Up"
   ]
  },
  {
   "cell_type": "markdown",
   "metadata": {
    "id": "ZpPiFwLNXod6"
   },
   "source": [
    "#### Maximum Profit buy and sell stock - infinite transactions"
   ]
  },
  {
   "cell_type": "code",
   "execution_count": null,
   "metadata": {
    "id": "ck3KsrAPXod6"
   },
   "outputs": [],
   "source": [
    "def buy_sell_stock_infinite(i, is_buy, profit_array, memo):\n",
    "    n = len(profit_array)\n",
    "    if(i >= n ):\n",
    "        return 0\n",
    "\n",
    "    if(memo[int(is_buy)][i] != None):\n",
    "        return memo[int(is_buy)][i]\n",
    "\n",
    "    output = 0\n",
    "    if(is_buy):\n",
    "        profit_buy = - profit_array[i] +  buy_sell_stock_infinite(i+1, False, profit_array,memo)\n",
    "        profit_do_not_buy = 0  + buy_sell_stock_infinite(i+1, is_buy, profit_array, memo)\n",
    "\n",
    "        output = max(profit_buy, profit_do_not_buy)\n",
    "    else:\n",
    "        profit_sell = profit_array[i] +  buy_sell_stock_infinite(i+1, True, profit_array,  memo)\n",
    "        profit_do_not_sell = 0 + buy_sell_stock_infinite(i+1, is_buy, profit_array, memo)\n",
    "        output = max(profit_sell, profit_do_not_sell)\n",
    "\n",
    "\n",
    "\n",
    "    memo[int(is_buy)][i] = output\n",
    "    return output\n",
    "\n",
    "profit_array = [10, 22, 5, 75, 65, 80]\n",
    "\n",
    "n = len(profit_array)\n",
    "memo = [[None] * (n) for _ in range(2)]\n",
    "buy_sell_stock_infinite(0, True, profit_array, memo)"
   ]
  },
  {
   "cell_type": "markdown",
   "metadata": {
    "id": "BXLEDqnFogL3"
   },
   "source": [
    "#### Buy and sell stock Inifinite transaction- tabulation - not space optimized"
   ]
  },
  {
   "cell_type": "code",
   "execution_count": null,
   "metadata": {
    "id": "u6dUAHX5ogL3",
    "outputId": "e101c386-2c02-46d0-a1dc-d1e26fe795b1"
   },
   "outputs": [],
   "source": [
    "def buy_sell_stock_infinite(profit_array):\n",
    "    n = len(profit_array)\n",
    "\n",
    "    dp = [[0] * (2) for _ in range(n+1)]\n",
    "\n",
    "    curr = 0\n",
    "\n",
    "    for i in range(n-1, -1, -1):\n",
    "        for buy in range(2):\n",
    "            if(buy == 1):\n",
    "                profit_buy = -profit_array[i] + dp[i+1][0]\n",
    "                profit_dont_buy = dp[i+1][1]\n",
    "\n",
    "                output = max(profit_buy, profit_dont_buy)\n",
    "            else:\n",
    "                profit_sell = profit_array[i] + dp[i+1][1]\n",
    "                profit_dont_sell = dp[i+1][0]\n",
    "\n",
    "                output = max(profit_sell, profit_dont_sell)\n",
    "\n",
    "            dp[i][buy] = output\n",
    "\n",
    "\n",
    "    return (dp[0][1])\n",
    "\n",
    "profit_array = [10, 22, 5, 75, 65, 80]\n",
    "\n",
    "n = len(profit_array)\n",
    "memo = [[None] * (n) for _ in range(2)]\n",
    "buy_sell_stock_infinite( profit_array)"
   ]
  },
  {
   "cell_type": "markdown",
   "metadata": {
    "id": "ao8YSdELXod7"
   },
   "source": [
    "#### Buy and sell stock Inifinite transaction- tabulation"
   ]
  },
  {
   "cell_type": "code",
   "execution_count": null,
   "metadata": {
    "id": "igGEp4XgXod7",
    "outputId": "99d46f67-2744-498b-8f70-ebe8dc0cea90"
   },
   "outputs": [],
   "source": [
    "def buy_sell_stock_infinite(profit_array):\n",
    "    n = len(profit_array)\n",
    "\n",
    "    dp = [[0] * (2) for _ in range(2)]\n",
    "\n",
    "    curr = 0\n",
    "\n",
    "    for i in range(n-1, -1, -1):\n",
    "        for buy in range(2):\n",
    "            if(buy == 1):\n",
    "                profit_buy = -profit_array[i] + dp[curr+1][0]\n",
    "                profit_dont_buy = dp[curr+1][1]\n",
    "\n",
    "                output = max(profit_buy, profit_dont_buy)\n",
    "            else:\n",
    "                profit_sell = profit_array[i] + dp[curr+1][1]\n",
    "                profit_dont_sell = dp[curr+1][0]\n",
    "\n",
    "                output = max(profit_sell, profit_dont_sell)\n",
    "\n",
    "            dp[curr][buy] = output\n",
    "\n",
    "        next = curr + 1\n",
    "        dp[next] = dp[curr]\n",
    "\n",
    "\n",
    "    return (dp[0][1])\n",
    "\n",
    "profit_array = [10, 22, 5, 75, 65, 80]\n",
    "\n",
    "n = len(profit_array)\n",
    "memo = [[None] * (n) for _ in range(2)]\n",
    "buy_sell_stock_infinite( profit_array)"
   ]
  },
  {
   "cell_type": "markdown",
   "metadata": {
    "id": "VeoL4AOATdnN"
   },
   "source": [
    "#### Maximum profit buying and selling stock atmost k times - Recursive memoization"
   ]
  },
  {
   "cell_type": "code",
   "execution_count": null,
   "metadata": {
    "id": "MlmhNER5Tb3c",
    "outputId": "e2714679-5169-463d-b0f8-ffabfb04f35b"
   },
   "outputs": [],
   "source": [
    "def buy_sell_stock_twice(i, is_buy, profit_array, k, memo):\n",
    "    n = len(profit_array)\n",
    "    if(i >= n or k==0):\n",
    "        return 0\n",
    "\n",
    "    if(memo[k][int(is_buy)][i] != None):\n",
    "        return memo[k][int(is_buy)][i]\n",
    "\n",
    "    output = 0\n",
    "    if(is_buy):\n",
    "        profit_buy = - profit_array[i] +  buy_sell_stock_twice(i+1, False, profit_array, k, memo)\n",
    "        profit_do_not_buy = 0  + buy_sell_stock_twice(i+1, is_buy, profit_array, k, memo)\n",
    "\n",
    "        output = max(profit_buy, profit_do_not_buy)\n",
    "    else:\n",
    "        profit_sell = profit_array[i] +  buy_sell_stock_twice(i+1, True, profit_array, k-1, memo)\n",
    "        profit_do_not_sell = 0 + buy_sell_stock_twice(i+1, is_buy, profit_array, k, memo)\n",
    "        output = max(profit_sell, profit_do_not_sell)\n",
    "\n",
    "    memo[k][int(is_buy)][i] = output\n",
    "    return output\n",
    "\n",
    "profit_array = [10, 22, 5, 75, 65, 80]\n",
    "k = 2\n",
    "\n",
    "n = len(profit_array)\n",
    "memo = [[[None] * (n) for _ in range(2)] for _ in range(k+1)]\n",
    "buy_sell_stock_twice(0, True, profit_array, k, memo)\n"
   ]
  },
  {
   "cell_type": "markdown",
   "metadata": {
    "id": "64vWj5PzogL4"
   },
   "source": [
    "#### Maximum profit buying and selling stock atmost k times - Tabulation"
   ]
  },
  {
   "cell_type": "code",
   "execution_count": null,
   "metadata": {
    "id": "rSzf1JpZXod9",
    "outputId": "0916d49c-b0fa-432a-904a-746e7b24b1f8"
   },
   "outputs": [],
   "source": [
    "def buy_sell_stock_atmost_k_tabulation(profit_array, k):\n",
    "    n = len(profit_array)\n",
    "    dp = [[[0] * (n+1) for _ in range(2)] for _ in range(k+1)]\n",
    "\n",
    "    transactions = k\n",
    "\n",
    "\n",
    "    for i in dp:\n",
    "        print(i)\n",
    "\n",
    "    for transaction in range(1, transactions+1):\n",
    "        print(\"transactions = \", transaction)\n",
    "        for buy in range(2):\n",
    "            for i in range(n-1, -1, -1):\n",
    "                if(buy):\n",
    "                    profit_buy = -profit_array[i] + dp[transaction][0][i+1]\n",
    "                    profit_do_not_buy = 0 + dp[transaction][1][i+1]\n",
    "                    output = max(profit_buy, profit_do_not_buy)\n",
    "                else:\n",
    "                    profit_sell = profit_array[i] + dp[transaction-1][1][i+1]\n",
    "                    profit_do_not_sell = 0 + dp[transaction][0][i+1]\n",
    "                    output = max(profit_sell, profit_do_not_sell)\n",
    "\n",
    "                dp[transaction][buy][i] = output\n",
    "\n",
    "    for i in dp:\n",
    "        print(i)\n",
    "\n",
    "    return dp[k][1][0]\n",
    "\n",
    "profit_array = [10, 22, 5, 75, 65, 80]\n",
    "buy_sell_stock_atmost_k_tabulation(profit_array, 2)\n"
   ]
  },
  {
   "cell_type": "markdown",
   "metadata": {
    "id": "yz9WPfqHogL4"
   },
   "source": [
    "#### Maximum profit buying and selling stock atmost k times - Tabulation - Day outer most structure"
   ]
  },
  {
   "cell_type": "code",
   "execution_count": null,
   "metadata": {
    "id": "y62GxgomogL4",
    "outputId": "fa4ab3ce-dbdb-44e4-b1f2-c45df74e04d4"
   },
   "outputs": [],
   "source": [
    "def buy_sell_stock_atmost_k_tabulation(profit_array, k):\n",
    "    n = len(profit_array)\n",
    "    dp = [[[0] * (2) for _ in range(k+1)] for _ in range(n+1)]\n",
    "\n",
    "    transactions = k\n",
    "\n",
    "    for i in dp:\n",
    "        print(i)\n",
    "\n",
    "\n",
    "    for i in range(n-1, -1, -1):\n",
    "        for transaction in range(1, transactions+1):\n",
    "            for buy in range(2):\n",
    "                if(buy):\n",
    "                    profit_buy = -profit_array[i] + dp[i+1][transaction][0]\n",
    "                    profit_do_not_buy = 0 + dp[i+1][transaction][1]\n",
    "                    output = max(profit_buy, profit_do_not_buy)\n",
    "                else:\n",
    "                    profit_sell = profit_array[i] + dp[i+1][transaction-1][1]\n",
    "                    profit_do_not_sell = 0 + dp[i+1][transaction][0]\n",
    "                    output = max(profit_sell, profit_do_not_sell)\n",
    "\n",
    "                dp[i][transaction][buy] = output\n",
    "\n",
    "    for i in dp:\n",
    "        print(i)\n",
    "\n",
    "    return dp[0][k][1]\n",
    "\n",
    "\n",
    "profit_array = [10, 22, 5, 75, 65, 80]\n",
    "buy_sell_stock_atmost_k_tabulation(profit_array, 2)\n"
   ]
  },
  {
   "cell_type": "markdown",
   "metadata": {
    "id": "Wbgq-RBCogL4"
   },
   "source": [
    "#### Maximum profit buying and selling stock atmost k times - Tabulation - Day outer most structure - space optimized"
   ]
  },
  {
   "cell_type": "code",
   "execution_count": null,
   "metadata": {
    "id": "sMZyIKXRogL5",
    "outputId": "da41eafd-466d-486f-fd71-4e643b7d478f"
   },
   "outputs": [],
   "source": [
    "def buy_sell_stock_atmost_k_tabulation(profit_array, k, memo):\n",
    "    n = len(profit_array)\n",
    "    dp = [[[0] * (2) for _ in range(k+1)] for _ in range(2)]\n",
    "\n",
    "    transactions = k\n",
    "\n",
    "    curr = 0\n",
    "    next = 1\n",
    "\n",
    "    for i in dp:\n",
    "        print(i)\n",
    "\n",
    "    for i in range(n-1, -1, -1):\n",
    "        for transaction in range(1, transactions+1):\n",
    "            for buy in range(2):\n",
    "                if(buy):\n",
    "                    profit_buy = -profit_array[i] + dp[next][transaction][0]\n",
    "                    profit_do_not_buy = 0 + dp[next][transaction][1]\n",
    "                    output = max(profit_buy, profit_do_not_buy)\n",
    "                else:\n",
    "                    profit_sell = profit_array[i] + dp[next][transaction-1][1]\n",
    "                    profit_do_not_sell = 0 + dp[next][transaction][0]\n",
    "                    output = max(profit_sell, profit_do_not_sell)\n",
    "\n",
    "                dp[curr][transaction][buy] = output\n",
    "            dp[next] = dp[curr]\n",
    "\n",
    "\n",
    "    for i in dp:\n",
    "        print(i)\n",
    "\n",
    "    return dp[0][k][1]\n",
    "\n",
    "\n",
    "profit_array = [10, 22, 5, 75, 65, 80]\n",
    "buy_sell_stock_atmost_k_tabulation(profit_array, 2)\n"
   ]
  },
  {
   "cell_type": "markdown",
   "metadata": {
    "id": "5T6zmWDIop7f"
   },
   "source": [
    "#### Approach 1 - Optimal Strategy For A Game - Recursive approach"
   ]
  },
  {
   "cell_type": "code",
   "execution_count": null,
   "metadata": {
    "colab": {
     "base_uri": "https://localhost:8080/"
    },
    "executionInfo": {
     "elapsed": 37,
     "status": "ok",
     "timestamp": 1754472765856,
     "user": {
      "displayName": "Sulaiman T",
      "userId": "03489698800880169818"
     },
     "user_tz": -330
    },
    "id": "TsgeTGxNpNjb",
    "outputId": "ab0cf531-b5aa-4ff6-ddfb-2d01d3603d13"
   },
   "outputs": [],
   "source": [
    "def findMax(is_geek, i, j, array):\n",
    "    if(i>=j):\n",
    "        if(is_geek):\n",
    "            return array[i]\n",
    "        return 0\n",
    "    if(is_geek):\n",
    "        left_value = array[i]  + findMax(not is_geek, i+1, j, array)\n",
    "        right_value = array[j] + findMax(not is_geek, i, j-1, array)\n",
    "        output =  max(left_value, right_value)\n",
    "        print(output)\n",
    "    else:\n",
    "        left_value = 0  + findMax(not is_geek, i+1, j, array)\n",
    "        right_value = 0 + findMax(not is_geek, i, j-1, array)\n",
    "        output = min(left_value, right_value)\n",
    "\n",
    "    return output\n",
    "\n",
    "array = [5, 3, 7, 10]\n",
    "n = len(array)\n",
    "findMax(True, 0, n-1, array)"
   ]
  },
  {
   "cell_type": "markdown",
   "metadata": {},
   "source": [
    "#### Approach 2 - Optimized strategy Game - find max coins from ending - Recursion - memoization\n"
   ]
  },
  {
   "cell_type": "code",
   "execution_count": null,
   "metadata": {},
   "outputs": [],
   "source": [
    "def flip_player(p):\n",
    "    if(p == 1):\n",
    "        return 0\n",
    "    return 1\n",
    "\n",
    "def findMax(is_geek, i, j, array, memo):\n",
    "    if(i==j):\n",
    "        if(is_geek):\n",
    "            return array[i]\n",
    "        return 0\n",
    "\n",
    "    if(memo[is_geek][i][j] != None):\n",
    "        return memo[is_geek][i][j]\n",
    "\n",
    "    if(is_geek == 1):\n",
    "        left_value = array[i]  + findMax(0, i+1, j, array, memo)\n",
    "        right_value = array[j] + findMax(0, i, j-1, array, memo)\n",
    "        output =  max(left_value, right_value)    \n",
    "    else:\n",
    "        left_value = 0  + findMax(1, i+1, j, array, memo)\n",
    "        right_value = 0 + findMax(1, i, j-1, array, memo)\n",
    "        output = min(left_value, right_value)\n",
    "\n",
    "    memo[is_geek][i][j] = output\n",
    "    return output\n",
    "\n",
    "array = [1, 2, 3, 4, 5, 5]\n",
    "\n",
    "n = len(array)\n",
    "memo = [[[None]*(n) for _ in range(n)] for _ in range(2)]\n",
    "print(memo)\n",
    "findMax(1, 0, n-1, array, memo)"
   ]
  },
  {
   "cell_type": "markdown",
   "metadata": {},
   "source": [
    "####  Approach 3 - Optimal strategy for game - Tabulation approach"
   ]
  },
  {
   "cell_type": "code",
   "execution_count": null,
   "metadata": {},
   "outputs": [],
   "source": [
    "def findMax(array):\n",
    "    n = len(array)\n",
    "    dp  = [[[0]*(2) for _ in range(n)] for _ in range(n)]\n",
    "\n",
    "    for i in range(n):\n",
    "        dp[i][i][1] = array[i]\n",
    "\n",
    "    for string_lenght in range(1, n+1):\n",
    "        for i in range( n-string_lenght):\n",
    "\n",
    "            j = i + string_lenght \n",
    "            print(i, j)\n",
    "            for is_geek in range(2):\n",
    "                if(is_geek == 1):\n",
    "                    left_value = array[i] + dp[i+1][j][0]\n",
    "                    right_value = array[j] + dp[i][j-1][0]\n",
    "                    output =  max(left_value, right_value)    \n",
    "                else :\n",
    "                    left_value = 0  + dp[i+1][j][1]\n",
    "                    right_value = 0 + dp[i][j-1][1]\n",
    "                    output =  min(left_value, right_value)    \n",
    "                \n",
    "                dp[i][j][is_geek] = output\n",
    "\n",
    "    for i in dp:\n",
    "        print(i)\n",
    "\n",
    "    print(\"\")\n",
    "    return (dp[0][n-1][1])\n",
    "\n",
    "array = [1, 2, 3, 4, 5, 5]\n",
    "n = len(array)\n",
    "memo = [[[None]*(n+1) for _ in range(n+1)] for _ in range(2)]\n",
    "findMax(array)\n"
   ]
  },
  {
   "cell_type": "markdown",
   "metadata": {},
   "source": [
    "#### Approach 4 - Optimal strategy for game - Tabulation approach - Optimised - Basic\n"
   ]
  },
  {
   "cell_type": "code",
   "execution_count": null,
   "metadata": {},
   "outputs": [],
   "source": [
    "def findMax(array):\n",
    "    n = len(array)\n",
    "    dp  = [[[0]*(2) for _ in range(n)] for _ in range(n)]\n",
    "\n",
    "    for i in range(n):\n",
    "        dp[i][i][1] = array[i]\n",
    "\n",
    "    for string_lenght in range(1, n+1):\n",
    "        for i in range( n-string_lenght):\n",
    "\n",
    "            j = i + string_lenght \n",
    "            print(i, j)\n",
    "            \n",
    "            left_value = array[i] + dp[i+1][j][0]\n",
    "            right_value = array[j] + dp[i][j-1][0]\n",
    "            output =  max(left_value, right_value)    \n",
    "            dp[i][j][1] = output\n",
    "\n",
    "            left_value = 0  + dp[i+1][j][1]\n",
    "            right_value = 0 + dp[i][j-1][1]\n",
    "            output =  min(left_value, right_value)    \n",
    "        \n",
    "            dp[i][j][0] = output\n",
    "\n",
    "    for i in dp:\n",
    "        print(i)\n",
    "\n",
    "    print(\"\")\n",
    "    return (dp[0][n-1][1])\n",
    "\n",
    "array = [1, 2, 3, 4, 5, 5]\n",
    "n = len(array)\n",
    "memo = [[[None]*(n+1) for _ in range(n+1)] for _ in range(2)]\n",
    "findMax(array)\n"
   ]
  },
  {
   "cell_type": "markdown",
   "metadata": {},
   "source": [
    "#### Approach 5 - Optimal strategy for game - Tabulation approach - Optimised - Withoud using 3D"
   ]
  },
  {
   "cell_type": "code",
   "execution_count": null,
   "metadata": {},
   "outputs": [
    {
     "name": "stdout",
     "output_type": "stream",
     "text": [
      "0 2\n"
     ]
    },
    {
     "data": {
      "text/plain": [
       "10"
      ]
     },
     "execution_count": 65,
     "metadata": {},
     "output_type": "execute_result"
    }
   ],
   "source": [
    "def optimal_strategy(i, j, array, memo):\n",
    "    if(i>j):\n",
    "        return 0 \n",
    "    if(i==j):        \n",
    "        return array[i]\n",
    "    \n",
    "    if(memo[i][j] != None):\n",
    "        return memo[i][j]\n",
    "    \n",
    "    print(i, j)\n",
    "\n",
    "    if_we_select_left_curr_player_next = min(optimal_strategy(i+2, j, array, memo) , optimal_strategy(i+1, j-1, array, memo)) \n",
    "    left = array[i] + if_we_select_left_curr_player_next\n",
    "\n",
    "    if_we_select_right_curr_plyer_next = min(optimal_strategy(i+1, j-1, array, memo), optimal_strategy(i,j-2, array, memo))\n",
    "    right = array[j] + if_we_select_right_curr_plyer_next\n",
    "\n",
    "\n",
    "    output = max(left, right)\n",
    "    memo[i][j] = output\n",
    "    return output\n",
    "\n",
    "\n",
    "array = [9, 1, 2]\n",
    "n = len(array)\n",
    "memo = [[None] * n for _ in range(n)]\n",
    "optimal_strategy(0, n-1, array, memo)\n",
    "\n"
   ]
  },
  {
   "cell_type": "markdown",
   "metadata": {},
   "source": [
    "#### Approach - 6 - Optimal strategy for game - Tabulation approach - Optimised - Withoud using 3D"
   ]
  },
  {
   "cell_type": "code",
   "execution_count": null,
   "metadata": {},
   "outputs": [
    {
     "data": {
      "text/plain": [
       "11"
      ]
     },
     "execution_count": 72,
     "metadata": {},
     "output_type": "execute_result"
    }
   ],
   "source": [
    "def check_and_return_dp(i,j, dp, n):\n",
    "    if i > j or i < 0 or j >= n:\n",
    "        return 0 \n",
    "    else:\n",
    "        return dp[i][j]\n",
    "\n",
    "def findMax(array):\n",
    "    n = len(array)\n",
    "    dp  = [[0]*(n) for _ in range(n)]\n",
    "\n",
    "    for i in range(n):\n",
    "        dp[i][i] = array[i]\n",
    "\n",
    "    for string_lenght in range(1, n):\n",
    "        for i in range( n-string_lenght):\n",
    "            j = i + string_lenght\n",
    "\n",
    "            # print(i, j)\n",
    "            \n",
    "            if_chosen_left_curr_can_play = min(check_and_return_dp(i+2,j,dp, n), check_and_return_dp(i+1,j-1, dp, n)) \n",
    "            left_value = array[i] + if_chosen_left_curr_can_play\n",
    "\n",
    "            if_chosen_right_curr_can_play = min(check_and_return_dp(i+1,j-1, dp, n),check_and_return_dp(i,j-2, dp, n))\n",
    "            right_value = array[j] + if_chosen_right_curr_can_play\n",
    "\n",
    "            output = max(left_value, right_value)\n",
    "        \n",
    "            dp[i][j] = output\n",
    "\n",
    "    return (dp[0][n-1])\n",
    "\n",
    "array = [1, 2, 3, 4, 5, 5]\n",
    "n = len(array)\n",
    "memo = [[[None]*(n+1) for _ in range(n+1)] for _ in range(2)]\n",
    "findMax(array)\n"
   ]
  },
  {
   "cell_type": "code",
   "execution_count": null,
   "metadata": {},
   "outputs": [],
   "source": []
  },
  {
   "cell_type": "code",
   "execution_count": null,
   "metadata": {},
   "outputs": [],
   "source": []
  },
  {
   "cell_type": "code",
   "execution_count": null,
   "metadata": {},
   "outputs": [],
   "source": []
  }
 ],
 "metadata": {
  "colab": {
   "provenance": []
  },
  "kernelspec": {
   "display_name": "Python 3",
   "language": "python",
   "name": "python3"
  },
  "language_info": {
   "codemirror_mode": {
    "name": "ipython",
    "version": 3
   },
   "file_extension": ".py",
   "mimetype": "text/x-python",
   "name": "python",
   "nbconvert_exporter": "python",
   "pygments_lexer": "ipython3",
   "version": "3.13.6"
  }
 },
 "nbformat": 4,
 "nbformat_minor": 0
}
